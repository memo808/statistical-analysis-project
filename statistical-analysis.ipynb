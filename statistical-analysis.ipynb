{
 "cells": [
  {
   "cell_type": "code",
   "execution_count": 1,
   "metadata": {},
   "outputs": [],
   "source": [
    "import pandas as pd\n",
    "import numpy as np\n",
    "import seaborn as sns\n",
    "import statsmodels.api as sm\n",
    "import matplotlib.pyplot as plt"
   ]
  },
  {
   "cell_type": "code",
   "execution_count": 2,
   "metadata": {},
   "outputs": [],
   "source": [
    "#El objetivo de este proyecto es encontrar las variables que expliquen o determinen el precio de venta de las propiedades del dataframe."
   ]
  },
  {
   "cell_type": "markdown",
   "metadata": {},
   "source": [
    "# Exploración de los datos y \"data cleaning\""
   ]
  },
  {
   "cell_type": "code",
   "execution_count": 3,
   "metadata": {},
   "outputs": [],
   "source": [
    "df=pd.read_csv('train.csv')"
   ]
  },
  {
   "cell_type": "code",
   "execution_count": 4,
   "metadata": {},
   "outputs": [
    {
     "data": {
      "text/html": [
       "<div>\n",
       "<style scoped>\n",
       "    .dataframe tbody tr th:only-of-type {\n",
       "        vertical-align: middle;\n",
       "    }\n",
       "\n",
       "    .dataframe tbody tr th {\n",
       "        vertical-align: top;\n",
       "    }\n",
       "\n",
       "    .dataframe thead th {\n",
       "        text-align: right;\n",
       "    }\n",
       "</style>\n",
       "<table border=\"1\" class=\"dataframe\">\n",
       "  <thead>\n",
       "    <tr style=\"text-align: right;\">\n",
       "      <th></th>\n",
       "      <th>Id</th>\n",
       "      <th>MSSubClass</th>\n",
       "      <th>MSZoning</th>\n",
       "      <th>LotFrontage</th>\n",
       "      <th>LotArea</th>\n",
       "      <th>Street</th>\n",
       "      <th>Alley</th>\n",
       "      <th>LotShape</th>\n",
       "      <th>LandContour</th>\n",
       "      <th>Utilities</th>\n",
       "      <th>...</th>\n",
       "      <th>PoolArea</th>\n",
       "      <th>PoolQC</th>\n",
       "      <th>Fence</th>\n",
       "      <th>MiscFeature</th>\n",
       "      <th>MiscVal</th>\n",
       "      <th>MoSold</th>\n",
       "      <th>YrSold</th>\n",
       "      <th>SaleType</th>\n",
       "      <th>SaleCondition</th>\n",
       "      <th>SalePrice</th>\n",
       "    </tr>\n",
       "  </thead>\n",
       "  <tbody>\n",
       "    <tr>\n",
       "      <th>0</th>\n",
       "      <td>1</td>\n",
       "      <td>60</td>\n",
       "      <td>RL</td>\n",
       "      <td>65.0</td>\n",
       "      <td>8450</td>\n",
       "      <td>Pave</td>\n",
       "      <td>NaN</td>\n",
       "      <td>Reg</td>\n",
       "      <td>Lvl</td>\n",
       "      <td>AllPub</td>\n",
       "      <td>...</td>\n",
       "      <td>0</td>\n",
       "      <td>NaN</td>\n",
       "      <td>NaN</td>\n",
       "      <td>NaN</td>\n",
       "      <td>0</td>\n",
       "      <td>2</td>\n",
       "      <td>2008</td>\n",
       "      <td>WD</td>\n",
       "      <td>Normal</td>\n",
       "      <td>208500</td>\n",
       "    </tr>\n",
       "    <tr>\n",
       "      <th>1</th>\n",
       "      <td>2</td>\n",
       "      <td>20</td>\n",
       "      <td>RL</td>\n",
       "      <td>80.0</td>\n",
       "      <td>9600</td>\n",
       "      <td>Pave</td>\n",
       "      <td>NaN</td>\n",
       "      <td>Reg</td>\n",
       "      <td>Lvl</td>\n",
       "      <td>AllPub</td>\n",
       "      <td>...</td>\n",
       "      <td>0</td>\n",
       "      <td>NaN</td>\n",
       "      <td>NaN</td>\n",
       "      <td>NaN</td>\n",
       "      <td>0</td>\n",
       "      <td>5</td>\n",
       "      <td>2007</td>\n",
       "      <td>WD</td>\n",
       "      <td>Normal</td>\n",
       "      <td>181500</td>\n",
       "    </tr>\n",
       "    <tr>\n",
       "      <th>2</th>\n",
       "      <td>3</td>\n",
       "      <td>60</td>\n",
       "      <td>RL</td>\n",
       "      <td>68.0</td>\n",
       "      <td>11250</td>\n",
       "      <td>Pave</td>\n",
       "      <td>NaN</td>\n",
       "      <td>IR1</td>\n",
       "      <td>Lvl</td>\n",
       "      <td>AllPub</td>\n",
       "      <td>...</td>\n",
       "      <td>0</td>\n",
       "      <td>NaN</td>\n",
       "      <td>NaN</td>\n",
       "      <td>NaN</td>\n",
       "      <td>0</td>\n",
       "      <td>9</td>\n",
       "      <td>2008</td>\n",
       "      <td>WD</td>\n",
       "      <td>Normal</td>\n",
       "      <td>223500</td>\n",
       "    </tr>\n",
       "    <tr>\n",
       "      <th>3</th>\n",
       "      <td>4</td>\n",
       "      <td>70</td>\n",
       "      <td>RL</td>\n",
       "      <td>60.0</td>\n",
       "      <td>9550</td>\n",
       "      <td>Pave</td>\n",
       "      <td>NaN</td>\n",
       "      <td>IR1</td>\n",
       "      <td>Lvl</td>\n",
       "      <td>AllPub</td>\n",
       "      <td>...</td>\n",
       "      <td>0</td>\n",
       "      <td>NaN</td>\n",
       "      <td>NaN</td>\n",
       "      <td>NaN</td>\n",
       "      <td>0</td>\n",
       "      <td>2</td>\n",
       "      <td>2006</td>\n",
       "      <td>WD</td>\n",
       "      <td>Abnorml</td>\n",
       "      <td>140000</td>\n",
       "    </tr>\n",
       "    <tr>\n",
       "      <th>4</th>\n",
       "      <td>5</td>\n",
       "      <td>60</td>\n",
       "      <td>RL</td>\n",
       "      <td>84.0</td>\n",
       "      <td>14260</td>\n",
       "      <td>Pave</td>\n",
       "      <td>NaN</td>\n",
       "      <td>IR1</td>\n",
       "      <td>Lvl</td>\n",
       "      <td>AllPub</td>\n",
       "      <td>...</td>\n",
       "      <td>0</td>\n",
       "      <td>NaN</td>\n",
       "      <td>NaN</td>\n",
       "      <td>NaN</td>\n",
       "      <td>0</td>\n",
       "      <td>12</td>\n",
       "      <td>2008</td>\n",
       "      <td>WD</td>\n",
       "      <td>Normal</td>\n",
       "      <td>250000</td>\n",
       "    </tr>\n",
       "  </tbody>\n",
       "</table>\n",
       "<p>5 rows × 81 columns</p>\n",
       "</div>"
      ],
      "text/plain": [
       "   Id  MSSubClass MSZoning  LotFrontage  LotArea Street Alley LotShape  \\\n",
       "0   1          60       RL         65.0     8450   Pave   NaN      Reg   \n",
       "1   2          20       RL         80.0     9600   Pave   NaN      Reg   \n",
       "2   3          60       RL         68.0    11250   Pave   NaN      IR1   \n",
       "3   4          70       RL         60.0     9550   Pave   NaN      IR1   \n",
       "4   5          60       RL         84.0    14260   Pave   NaN      IR1   \n",
       "\n",
       "  LandContour Utilities  ... PoolArea PoolQC Fence MiscFeature MiscVal MoSold  \\\n",
       "0         Lvl    AllPub  ...        0    NaN   NaN         NaN       0      2   \n",
       "1         Lvl    AllPub  ...        0    NaN   NaN         NaN       0      5   \n",
       "2         Lvl    AllPub  ...        0    NaN   NaN         NaN       0      9   \n",
       "3         Lvl    AllPub  ...        0    NaN   NaN         NaN       0      2   \n",
       "4         Lvl    AllPub  ...        0    NaN   NaN         NaN       0     12   \n",
       "\n",
       "  YrSold  SaleType  SaleCondition  SalePrice  \n",
       "0   2008        WD         Normal     208500  \n",
       "1   2007        WD         Normal     181500  \n",
       "2   2008        WD         Normal     223500  \n",
       "3   2006        WD        Abnorml     140000  \n",
       "4   2008        WD         Normal     250000  \n",
       "\n",
       "[5 rows x 81 columns]"
      ]
     },
     "execution_count": 4,
     "metadata": {},
     "output_type": "execute_result"
    }
   ],
   "source": [
    "#Se puede observar con el \"head\" que el dataframe original cuenta con 81 variables o columnas. Se inicia un proceso de analizar los datos y quitar variables para que el dataframe quede más paqueño y con variables que afectan al valor del precio de venta de la propiedad. \n",
    "df.head()"
   ]
  },
  {
   "cell_type": "code",
   "execution_count": 5,
   "metadata": {},
   "outputs": [],
   "source": [
    "#Se revisará las columnas que tienen datos nulos:\n",
    "nulls_cols=df.isnull().sum()"
   ]
  },
  {
   "cell_type": "code",
   "execution_count": 6,
   "metadata": {},
   "outputs": [
    {
     "data": {
      "text/plain": [
       "LotFrontage      259\n",
       "Alley           1369\n",
       "MasVnrType         8\n",
       "MasVnrArea         8\n",
       "BsmtQual          37\n",
       "BsmtCond          37\n",
       "BsmtExposure      38\n",
       "BsmtFinType1      37\n",
       "BsmtFinType2      38\n",
       "Electrical         1\n",
       "FireplaceQu      690\n",
       "GarageType        81\n",
       "GarageYrBlt       81\n",
       "GarageFinish      81\n",
       "GarageQual        81\n",
       "GarageCond        81\n",
       "PoolQC          1453\n",
       "Fence           1179\n",
       "MiscFeature     1406\n",
       "dtype: int64"
      ]
     },
     "execution_count": 6,
     "metadata": {},
     "output_type": "execute_result"
    }
   ],
   "source": [
    "nulls_cols[nulls_cols>0]"
   ]
  },
  {
   "cell_type": "code",
   "execution_count": 7,
   "metadata": {},
   "outputs": [],
   "source": [
    "#la variable \"LotFrontage\" hace referencia a la medida en pies de calle conectados con la propiedad, entonces las propiedades que tienen dato nulo en esta variable es porque no están conectados con la calle. Entonces se podría cambiar a cero los valores nulos.\n",
    "df['LotFrontage'] = df['LotFrontage'].fillna(0)"
   ]
  },
  {
   "cell_type": "code",
   "execution_count": 8,
   "metadata": {},
   "outputs": [],
   "source": [
    "#La variable \"Alley\" hace referencia al tipo de acceso a la entrada trasera de la propiedad, si es de grava, pavimentada o no tiene. Entonces se podría modificar la variable para que sea categórica con variable igual a 1 (si tiene entrada trasera) ó 0 (si no tiene entrada trasera).\n",
    "df['Alley'] = df['Alley'].fillna(0)\n",
    "df['Alley'] = df['Alley'].replace(['Grvl'],1)\n",
    "df['Alley'] = df['Alley'].replace(['Pave'],1)"
   ]
  },
  {
   "cell_type": "code",
   "execution_count": 9,
   "metadata": {},
   "outputs": [],
   "source": [
    "#La variable \"MasVnrType\" hace referencia a la mampostería (ladrillo, piedra, etc.) de la propiedad, los 8 registros que tienen dato nulo podrían ser cambiados a la opción \"None\".\n",
    "df['MasVnrType'] = df['MasVnrType'].fillna(0)\n",
    "df['MasVnrType'] = df['MasVnrType'].replace([0],'None')"
   ]
  },
  {
   "cell_type": "code",
   "execution_count": 10,
   "metadata": {},
   "outputs": [],
   "source": [
    "#La variable \"MasVnrArea\" hace referencia a la área de revestimiento de mampostería en pies cuadrados. los 8 registros que tienen dato nulo podrían ser cambiados a 0.\n",
    "df['MasVnrArea'] = df['MasVnrArea'].fillna(0)\n",
    "df['MasVnrArea'] = df['MasVnrArea'].replace([0],'None')"
   ]
  },
  {
   "cell_type": "code",
   "execution_count": 11,
   "metadata": {},
   "outputs": [],
   "source": [
    "#La variable \"BsmtQual\" hace referencia a la altura del sótano de la propiedad, entonces los registros con dato nulo son las propiedades sin sótano. Se podría convetir la variable en categórica con valor 1 (si tiene sótano) y 0 (no tiene sótano).\n",
    "df['BsmtQual'] = df['BsmtQual'].fillna(0)\n",
    "df['BsmtQual'] = df['BsmtQual'].replace(['TA'],1)\n",
    "df['BsmtQual'] = df['BsmtQual'].replace(['Gd'],1)\n",
    "df['BsmtQual'] = df['BsmtQual'].replace(['Ex'],1)\n",
    "df['BsmtQual'] = df['BsmtQual'].replace(['Fa'],1)"
   ]
  },
  {
   "cell_type": "code",
   "execution_count": 12,
   "metadata": {},
   "outputs": [
    {
     "data": {
      "text/plain": [
       "1    1423\n",
       "0      37\n",
       "Name: BsmtQual, dtype: int64"
      ]
     },
     "execution_count": 12,
     "metadata": {},
     "output_type": "execute_result"
    }
   ],
   "source": [
    "df['BsmtQual'].value_counts()"
   ]
  },
  {
   "cell_type": "code",
   "execution_count": 13,
   "metadata": {},
   "outputs": [],
   "source": [
    "#La variable \"BsmtCond\" hace referencia a la condición del sótano de la propiedad. Podemos quitar esta variable porque ya tendríamos a la variable \"BsmtQual\" que nos dira si afecta o no tener sótano para el precio de la propiedad.\n",
    "del df['BsmtCond']"
   ]
  },
  {
   "cell_type": "code",
   "execution_count": 14,
   "metadata": {},
   "outputs": [],
   "source": [
    "#La variable \"BsmtExposure\" también se podría eliminar porque tmb hace referencia al sótano y ya con la variable \"BsmtQual\" se revisa si afecta la existencia o no del sótano en el precio de la propiedad.\n",
    "del df['BsmtExposure']"
   ]
  },
  {
   "cell_type": "code",
   "execution_count": 15,
   "metadata": {},
   "outputs": [],
   "source": [
    "#La variable \"BsmtFinType1\" también se podría eliminar porque tmb hace referencia al sótano y ya con la variable \"BsmtQual\" se revisa si afecta la existencia o no del sótano en el precio de la propiedad.\n",
    "del df['BsmtFinType1']"
   ]
  },
  {
   "cell_type": "code",
   "execution_count": 16,
   "metadata": {},
   "outputs": [],
   "source": [
    "#La variable \"BsmtFinType2\" también se podría eliminar porque tmb hace referencia al sótano y ya con la variable \"BsmtQual\" se revisa si afecta la existencia o no del sótano en el precio de la propiedad.\n",
    "del df['BsmtFinType2']"
   ]
  },
  {
   "cell_type": "code",
   "execution_count": 17,
   "metadata": {},
   "outputs": [],
   "source": [
    "#La variable \"Electrical\" hace referencia al sistema eléctrico de la propiedad. El unico registro con variable nula se puede cambiar a la categoría con mayor número de observaciones. El cambio de un registro no cambiará los resultados porque existen 1,460 observaciones."
   ]
  },
  {
   "cell_type": "code",
   "execution_count": 18,
   "metadata": {},
   "outputs": [
    {
     "data": {
      "text/plain": [
       "SBrkr    1334\n",
       "FuseA      94\n",
       "FuseF      27\n",
       "FuseP       3\n",
       "Mix         1\n",
       "Name: Electrical, dtype: int64"
      ]
     },
     "execution_count": 18,
     "metadata": {},
     "output_type": "execute_result"
    }
   ],
   "source": [
    "df['Electrical'].value_counts()"
   ]
  },
  {
   "cell_type": "code",
   "execution_count": 19,
   "metadata": {},
   "outputs": [],
   "source": [
    "#Se cambia el registro con variable nula de \"Electrical\" a SBrkr que hace referencia a circuito eléctrico estándar B&R.\n",
    "df['Electrical'] = df['Electrical'].fillna(0)\n",
    "df['Electrical'] = df['Electrical'].replace([0],'SBrkr')"
   ]
  },
  {
   "cell_type": "code",
   "execution_count": 20,
   "metadata": {},
   "outputs": [
    {
     "data": {
      "text/plain": [
       "SBrkr    1335\n",
       "FuseA      94\n",
       "FuseF      27\n",
       "FuseP       3\n",
       "Mix         1\n",
       "Name: Electrical, dtype: int64"
      ]
     },
     "execution_count": 20,
     "metadata": {},
     "output_type": "execute_result"
    }
   ],
   "source": [
    "df['Electrical'].value_counts()"
   ]
  },
  {
   "cell_type": "code",
   "execution_count": 21,
   "metadata": {},
   "outputs": [
    {
     "data": {
      "text/plain": [
       "0    1335\n",
       "1      94\n",
       "2      27\n",
       "3       3\n",
       "4       1\n",
       "Name: Electrical, dtype: int64"
      ]
     },
     "execution_count": 21,
     "metadata": {},
     "output_type": "execute_result"
    }
   ],
   "source": [
    "#se cambiará la variable \"Electrical\" a numérica.\n",
    "df['Electrical']=df['Electrical'].replace(['SBrkr'],0)\n",
    "df['Electrical']=df['Electrical'].replace(['FuseA'],1)\n",
    "df['Electrical']=df['Electrical'].replace(['FuseF'],2)\n",
    "df['Electrical']=df['Electrical'].replace(['FuseP'],3)\n",
    "df['Electrical']=df['Electrical'].replace(['Mix'],4)\n",
    "df['Electrical'].value_counts()"
   ]
  },
  {
   "cell_type": "code",
   "execution_count": 22,
   "metadata": {},
   "outputs": [],
   "source": [
    "#La variable \"FireplaceQu\" hace referencia a la calidad de las chimeneas en la propiedad. Esta variable podría eliminarse ya que existe una variable \"Fireplaces\" que hace referencia al número de chimeneas en la propiedad, por lo que ya se está estimando si las chimeneas afectan al precio de la propiedad.\n",
    "del df['FireplaceQu']"
   ]
  },
  {
   "cell_type": "code",
   "execution_count": 23,
   "metadata": {},
   "outputs": [
    {
     "data": {
      "text/plain": [
       "Attchd     870\n",
       "Detchd     387\n",
       "BuiltIn     88\n",
       "Basment     19\n",
       "CarPort      9\n",
       "2Types       6\n",
       "Name: GarageType, dtype: int64"
      ]
     },
     "execution_count": 23,
     "metadata": {},
     "output_type": "execute_result"
    }
   ],
   "source": [
    "#La variable \"GarageType\" hace referencia al lugar del garage en la propiedad (adjunto a la propiedad, en el sótano, a parte, etc.). Por lo que se podría modificar la variable a una variable binaria donde tendría el valor de 1 (si cuenta con garage) y 0 (si no cuenta con garage) para ver si afecta la presencia de garage al precio de la propiedad.\n",
    "df['GarageType'].value_counts()"
   ]
  },
  {
   "cell_type": "code",
   "execution_count": 24,
   "metadata": {},
   "outputs": [
    {
     "data": {
      "text/plain": [
       "1    1379\n",
       "0      81\n",
       "Name: GarageType, dtype: int64"
      ]
     },
     "execution_count": 24,
     "metadata": {},
     "output_type": "execute_result"
    }
   ],
   "source": [
    "df['GarageType'] = df['GarageType'].fillna(0)\n",
    "df['GarageType'] = df['GarageType'].replace(['Attchd'],1)\n",
    "df['GarageType'] = df['GarageType'].replace(['Detchd'],1)\n",
    "df['GarageType'] = df['GarageType'].replace(['BuiltIn'],1)\n",
    "df['GarageType'] = df['GarageType'].replace(['Basment'],1)\n",
    "df['GarageType'] = df['GarageType'].replace(['CarPort'],1)\n",
    "df['GarageType'] = df['GarageType'].replace(['2Types'],1)\n",
    "df['GarageType'].value_counts()"
   ]
  },
  {
   "cell_type": "code",
   "execution_count": 25,
   "metadata": {},
   "outputs": [],
   "source": [
    "#Las variables \"GarageYrBlt\", \"GarageFinish\", \"GarageQual\" y \"GarageCond\" se pueden eliminar ya que la variable \"GarageType\" tomará en cuenta si contar con un garage afecta al percio de la propiedad.\n",
    "del df['GarageYrBlt']\n",
    "del df['GarageFinish']\n",
    "del df['GarageQual']\n",
    "del df['GarageCond']"
   ]
  },
  {
   "cell_type": "code",
   "execution_count": 26,
   "metadata": {},
   "outputs": [],
   "source": [
    "#Se pueden eliminar el resto de variables relacionadas a las características del garage de la propiedad porque para fines del proyecto solo me interesa saber si el contar o no con garage efecta al precio de venta de las propiedades. \n",
    "del df['GarageCars']\n",
    "del df['GarageArea']"
   ]
  },
  {
   "cell_type": "code",
   "execution_count": 27,
   "metadata": {},
   "outputs": [
    {
     "data": {
      "text/plain": [
       "Gd    3\n",
       "Ex    2\n",
       "Fa    2\n",
       "Name: PoolQC, dtype: int64"
      ]
     },
     "execution_count": 27,
     "metadata": {},
     "output_type": "execute_result"
    }
   ],
   "source": [
    "#La variable \"PoolQC\" hace referencia a la calidad de la alberca. Se podría cambiar a auna variable binaria donde tome el valor 1 (tiene alberca) y 0 (no cuenta con alberca) para analizar si afecta el contar con alberca al precio de la propiedad. Asimismo se podría eliminar la variable \"PoolArea\" ya que ya se tendría una variable que toma en cuenta la existencia de alberca para nalizar si afecta en el precio.\n",
    "df['PoolQC'].value_counts()"
   ]
  },
  {
   "cell_type": "code",
   "execution_count": 28,
   "metadata": {},
   "outputs": [],
   "source": [
    "#Solo hay 7 propiedades de 1,460 propiedades con alberca, por lo que se puede eleminar tanto la variable \"PoolQC\" como la variable \"PoolArea\" porque no es muy representativo el hecho de tener alberca en la muestra.\n",
    "del df['PoolQC']\n",
    "del df['PoolArea']"
   ]
  },
  {
   "cell_type": "code",
   "execution_count": 29,
   "metadata": {},
   "outputs": [
    {
     "data": {
      "text/plain": [
       "MnPrv    157\n",
       "GdPrv     59\n",
       "GdWo      54\n",
       "MnWw      11\n",
       "Name: Fence, dtype: int64"
      ]
     },
     "execution_count": 29,
     "metadata": {},
     "output_type": "execute_result"
    }
   ],
   "source": [
    "#La variable \"Fence\" hace referencia a la calidad de la reja o barda. Se podría cambiar a una variable binaria donde tome el valor 1 (cuando la propiedad tenga barda) y 0 (cuando la propiedad no tenga barda) para analizar si afecta el contar con barda al precio de la propiedad. \n",
    "df['Fence'].value_counts()"
   ]
  },
  {
   "cell_type": "code",
   "execution_count": 30,
   "metadata": {},
   "outputs": [
    {
     "data": {
      "text/plain": [
       "0    1179\n",
       "1     281\n",
       "Name: Fence, dtype: int64"
      ]
     },
     "execution_count": 30,
     "metadata": {},
     "output_type": "execute_result"
    }
   ],
   "source": [
    "df['Fence'] = df['Fence'].fillna(0)\n",
    "df['Fence'] = df['Fence'].replace(['MnPrv'],1)\n",
    "df['Fence'] = df['Fence'].replace(['GdPrv'],1)\n",
    "df['Fence'] = df['Fence'].replace(['GdWo'],1)\n",
    "df['Fence'] = df['Fence'].replace(['MnWw'],1)\n",
    "df['Fence'].value_counts()"
   ]
  },
  {
   "cell_type": "code",
   "execution_count": 31,
   "metadata": {},
   "outputs": [
    {
     "data": {
      "text/plain": [
       "Shed    49\n",
       "Othr     2\n",
       "Gar2     2\n",
       "TenC     1\n",
       "Name: MiscFeature, dtype: int64"
      ]
     },
     "execution_count": 31,
     "metadata": {},
     "output_type": "execute_result"
    }
   ],
   "source": [
    "#La variable \"MiscFeature\" hace referencia a si la propiedad cuenta con una característica especial como elevador, un segundo garage, cancha de tennis, etc. Se podría cambiar esta variable a una variable binaria donde tome el valor de 1 (cuando la propiedad tenga una característica espacial) y 0 (cuando la propiedad no tenga características especiales).\n",
    "df['MiscFeature'].value_counts()"
   ]
  },
  {
   "cell_type": "code",
   "execution_count": 32,
   "metadata": {},
   "outputs": [
    {
     "data": {
      "text/plain": [
       "0    1406\n",
       "1      54\n",
       "Name: MiscFeature, dtype: int64"
      ]
     },
     "execution_count": 32,
     "metadata": {},
     "output_type": "execute_result"
    }
   ],
   "source": [
    "df['MiscFeature'] = df['MiscFeature'].fillna(0)\n",
    "df['MiscFeature'] = df['MiscFeature'].replace(['Shed'],1)\n",
    "df['MiscFeature'] = df['MiscFeature'].replace(['Gar2'],1)\n",
    "df['MiscFeature'] = df['MiscFeature'].replace(['Othr'],1)\n",
    "df['MiscFeature'] = df['MiscFeature'].replace(['TenC'],1)\n",
    "df['MiscFeature'].value_counts()"
   ]
  },
  {
   "cell_type": "code",
   "execution_count": 33,
   "metadata": {},
   "outputs": [
    {
     "data": {
      "text/plain": [
       "Series([], dtype: int64)"
      ]
     },
     "execution_count": 33,
     "metadata": {},
     "output_type": "execute_result"
    }
   ],
   "source": [
    "#Checando nuevamente valores nulos, para ver si todavía hay o ya no existen\n",
    "nulls_cols=df.isnull().sum()\n",
    "nulls_cols[nulls_cols>0]"
   ]
  },
  {
   "cell_type": "code",
   "execution_count": 34,
   "metadata": {},
   "outputs": [],
   "source": [
    "#Se podría eliminar la variable \"Condition2\" porque ya existe la variable \"Condition1\", estas variables indican la proximidad a diversas condiciones como a arterias principales, calles normales, vías de ferrocarril, etc. Entonces con sólo tener una vriable que tenga en cuenta este efecto, es suficiente, no veo necesario contar con dos variables por si existen más de una de estas condiciones. \n",
    "del df['Condition2']"
   ]
  },
  {
   "cell_type": "code",
   "execution_count": 35,
   "metadata": {},
   "outputs": [],
   "source": [
    "#se cambiarán las variables que están definidas como objeto, para que todas las variables sean numéricas y sea más fácil trabajar con ellas y observar las relaciones que existen entre ellas."
   ]
  },
  {
   "cell_type": "code",
   "execution_count": 36,
   "metadata": {},
   "outputs": [],
   "source": [
    "pd.options.display.max_rows = 999"
   ]
  },
  {
   "cell_type": "code",
   "execution_count": 37,
   "metadata": {},
   "outputs": [
    {
     "data": {
      "text/plain": [
       "Id                 int64\n",
       "MSSubClass         int64\n",
       "MSZoning          object\n",
       "LotFrontage      float64\n",
       "LotArea            int64\n",
       "Street            object\n",
       "Alley              int64\n",
       "LotShape          object\n",
       "LandContour       object\n",
       "Utilities         object\n",
       "LotConfig         object\n",
       "LandSlope         object\n",
       "Neighborhood      object\n",
       "Condition1        object\n",
       "BldgType          object\n",
       "HouseStyle        object\n",
       "OverallQual        int64\n",
       "OverallCond        int64\n",
       "YearBuilt          int64\n",
       "YearRemodAdd       int64\n",
       "RoofStyle         object\n",
       "RoofMatl          object\n",
       "Exterior1st       object\n",
       "Exterior2nd       object\n",
       "MasVnrType        object\n",
       "MasVnrArea        object\n",
       "ExterQual         object\n",
       "ExterCond         object\n",
       "Foundation        object\n",
       "BsmtQual           int64\n",
       "BsmtFinSF1         int64\n",
       "BsmtFinSF2         int64\n",
       "BsmtUnfSF          int64\n",
       "TotalBsmtSF        int64\n",
       "Heating           object\n",
       "HeatingQC         object\n",
       "CentralAir        object\n",
       "Electrical         int64\n",
       "1stFlrSF           int64\n",
       "2ndFlrSF           int64\n",
       "LowQualFinSF       int64\n",
       "GrLivArea          int64\n",
       "BsmtFullBath       int64\n",
       "BsmtHalfBath       int64\n",
       "FullBath           int64\n",
       "HalfBath           int64\n",
       "BedroomAbvGr       int64\n",
       "KitchenAbvGr       int64\n",
       "KitchenQual       object\n",
       "TotRmsAbvGrd       int64\n",
       "Functional        object\n",
       "Fireplaces         int64\n",
       "GarageType         int64\n",
       "PavedDrive        object\n",
       "WoodDeckSF         int64\n",
       "OpenPorchSF        int64\n",
       "EnclosedPorch      int64\n",
       "3SsnPorch          int64\n",
       "ScreenPorch        int64\n",
       "Fence              int64\n",
       "MiscFeature        int64\n",
       "MiscVal            int64\n",
       "MoSold             int64\n",
       "YrSold             int64\n",
       "SaleType          object\n",
       "SaleCondition     object\n",
       "SalePrice          int64\n",
       "dtype: object"
      ]
     },
     "execution_count": 37,
     "metadata": {},
     "output_type": "execute_result"
    }
   ],
   "source": [
    "df.dtypes"
   ]
  },
  {
   "cell_type": "code",
   "execution_count": 38,
   "metadata": {},
   "outputs": [
    {
     "data": {
      "text/plain": [
       "5    1151\n",
       "7     218\n",
       "2      65\n",
       "4      16\n",
       "1      10\n",
       "Name: MSZoning, dtype: int64"
      ]
     },
     "execution_count": 38,
     "metadata": {},
     "output_type": "execute_result"
    }
   ],
   "source": [
    "#se cambiará la variable \"MSZoning\" a numérica, la cual identifica la clasificación general de la zona de la venta. Quedará de la siguiente manera: Agriculture=0, Commercial=1, Floating Village Residential=2, Industrial=3, Residential High Density=4, Residential Low Density=5, Residential Low Density Park=6, Residential Medium Density=7.\n",
    "df['MSZoning'] = df['MSZoning'].replace(['A'],0)\n",
    "df['MSZoning'] = df['MSZoning'].replace(['C (all)'],1)\n",
    "df['MSZoning'] = df['MSZoning'].replace(['FV'],2)\n",
    "df['MSZoning'] = df['MSZoning'].replace(['I'],3)\n",
    "df['MSZoning'] = df['MSZoning'].replace(['RH'],4)\n",
    "df['MSZoning'] = df['MSZoning'].replace(['RL'],5)\n",
    "df['MSZoning'] = df['MSZoning'].replace(['RP'],6)\n",
    "df['MSZoning'] = df['MSZoning'].replace(['RM'],7)\n",
    "df['MSZoning'].value_counts()"
   ]
  },
  {
   "cell_type": "code",
   "execution_count": 39,
   "metadata": {},
   "outputs": [
    {
     "data": {
      "text/plain": [
       "1    1454\n",
       "0       6\n",
       "Name: Street, dtype: int64"
      ]
     },
     "execution_count": 39,
     "metadata": {},
     "output_type": "execute_result"
    }
   ],
   "source": [
    "#se cambiará la variable \"Street\" a numérica, la cual identifica la clasificación de la calle de la entrada de la propiedad. Quedará de la siguiente manera: Gravel=0, Paved=1.\n",
    "df['Street'] = df['Street'].replace(['Grvl'],0)\n",
    "df['Street'] = df['Street'].replace(['Pave'],1)\n",
    "df['Street'].value_counts()"
   ]
  },
  {
   "cell_type": "code",
   "execution_count": 40,
   "metadata": {},
   "outputs": [
    {
     "data": {
      "text/plain": [
       "0    925\n",
       "1    484\n",
       "2     41\n",
       "3     10\n",
       "Name: LotShape, dtype: int64"
      ]
     },
     "execution_count": 40,
     "metadata": {},
     "output_type": "execute_result"
    }
   ],
   "source": [
    "#se cambiará la variable \"LotShape\" a numérica, la cual identifica la clasificación de la forma general de la propiedad. Quedará de la siguiente manera: Regular=0, Slightly irregular=1, Moderately irregular=2, Irregular=3.\n",
    "df['LotShape']=df['LotShape'].replace(['Reg'],0)\n",
    "df['LotShape']=df['LotShape'].replace(['IR1'],1)\n",
    "df['LotShape']=df['LotShape'].replace(['IR2'],2)\n",
    "df['LotShape']=df['LotShape'].replace(['IR3'],3)\n",
    "df['LotShape'].value_counts()"
   ]
  },
  {
   "cell_type": "code",
   "execution_count": 41,
   "metadata": {},
   "outputs": [
    {
     "data": {
      "text/plain": [
       "0    1311\n",
       "1      63\n",
       "2      50\n",
       "3      36\n",
       "Name: LandContour, dtype: int64"
      ]
     },
     "execution_count": 41,
     "metadata": {},
     "output_type": "execute_result"
    }
   ],
   "source": [
    "#se cambiará la variable \"LandContour\" a numérica, la cual identifica la clasificación de lo plano de la propiedad. Quedará de la siguiente manera: Cerca a plano=0, Elevación significativa del nivel de la calle=1, Ladera-pendiente significativa de lado a lado=2, Hundido=3.\n",
    "df['LandContour']=df['LandContour'].replace(['Lvl'],0)\n",
    "df['LandContour']=df['LandContour'].replace(['Bnk'],1)\n",
    "df['LandContour']=df['LandContour'].replace(['HLS'],2)\n",
    "df['LandContour']=df['LandContour'].replace(['Low'],3)\n",
    "df['LandContour'].value_counts()"
   ]
  },
  {
   "cell_type": "code",
   "execution_count": 42,
   "metadata": {},
   "outputs": [],
   "source": [
    "#se eleminirá la variable \"Utilities\", la cual identifica la clasificación de los servicios públicos disponibles en la propiedad. Se elimina la variable porque de la muestra todas las casas tienen todos los servicios menos una, por lo que la muestra no sirve para analizar el efecto de tener o no los servicios públicos. \n",
    "del df['Utilities']\n"
   ]
  },
  {
   "cell_type": "code",
   "execution_count": 43,
   "metadata": {},
   "outputs": [
    {
     "data": {
      "text/plain": [
       "0    1052\n",
       "1     263\n",
       "2      94\n",
       "3      47\n",
       "4       4\n",
       "Name: LotConfig, dtype: int64"
      ]
     },
     "execution_count": 43,
     "metadata": {},
     "output_type": "execute_result"
    }
   ],
   "source": [
    "#se cambiará la variable \"LotConfig\" a numérica, la cual identifica la clasificación de la configuración de la propiedad. Quedará de la siguiente manera: interna=0, esquina=1, cul-de-sac=2, fachada en dos lados=3 y fachada en tres lados=4.\n",
    "df['LotConfig']=df['LotConfig'].replace(['Inside'],0)\n",
    "df['LotConfig']=df['LotConfig'].replace(['Corner'],1)\n",
    "df['LotConfig']=df['LotConfig'].replace(['CulDSac'],2)\n",
    "df['LotConfig']=df['LotConfig'].replace(['FR2'],3)\n",
    "df['LotConfig']=df['LotConfig'].replace(['FR3'],4)\n",
    "df['LotConfig'].value_counts()"
   ]
  },
  {
   "cell_type": "code",
   "execution_count": 44,
   "metadata": {},
   "outputs": [
    {
     "data": {
      "text/plain": [
       "0    1382\n",
       "1      65\n",
       "2      13\n",
       "Name: LandSlope, dtype: int64"
      ]
     },
     "execution_count": 44,
     "metadata": {},
     "output_type": "execute_result"
    }
   ],
   "source": [
    "#se cambiará la variable \"LandSlope\" a numérica, la cual identifica la clasificación de la pendiente de la propiedad. Quedará de la siguiente manera: Gentil=0, Moderada=1, Severa=2.\n",
    "df['LandSlope']=df['LandSlope'].replace(['Gtl'],0)\n",
    "df['LandSlope']=df['LandSlope'].replace(['Mod'],1)\n",
    "df['LandSlope']=df['LandSlope'].replace(['Sev'],2)\n",
    "df['LandSlope'].value_counts()"
   ]
  },
  {
   "cell_type": "code",
   "execution_count": 45,
   "metadata": {},
   "outputs": [
    {
     "data": {
      "text/plain": [
       "12    225\n",
       "5     150\n",
       "17    113\n",
       "7     100\n",
       "21     86\n",
       "8      79\n",
       "15     77\n",
       "19     74\n",
       "16     73\n",
       "20     59\n",
       "3      58\n",
       "6      51\n",
       "11     49\n",
       "13     41\n",
       "23     38\n",
       "9      37\n",
       "4      28\n",
       "18     25\n",
       "22     25\n",
       "0      17\n",
       "10     17\n",
       "2      16\n",
       "24     11\n",
       "14      9\n",
       "1       2\n",
       "Name: Neighborhood, dtype: int64"
      ]
     },
     "execution_count": 45,
     "metadata": {},
     "output_type": "execute_result"
    }
   ],
   "source": [
    "#se cambiará la variable \"Neighborhood\" a numérica, la cual identifica la colonia de la propiedad. \n",
    "df['Neighborhood']=df['Neighborhood'].replace(['Blmngtn'],0)\n",
    "df['Neighborhood']=df['Neighborhood'].replace(['Blueste'],1)\n",
    "df['Neighborhood']=df['Neighborhood'].replace(['BrDale'],2)\n",
    "df['Neighborhood']=df['Neighborhood'].replace(['BrkSide'],3)\n",
    "df['Neighborhood']=df['Neighborhood'].replace(['ClearCr'],4)\n",
    "df['Neighborhood']=df['Neighborhood'].replace(['CollgCr'],5)\n",
    "df['Neighborhood']=df['Neighborhood'].replace(['Crawfor'],6)\n",
    "df['Neighborhood']=df['Neighborhood'].replace(['Edwards'],7)\n",
    "df['Neighborhood']=df['Neighborhood'].replace(['Gilbert'],8)\n",
    "df['Neighborhood']=df['Neighborhood'].replace(['IDOTRR'],9)\n",
    "df['Neighborhood']=df['Neighborhood'].replace(['MeadowV'],10)\n",
    "df['Neighborhood']=df['Neighborhood'].replace(['Mitchel'],11)\n",
    "df['Neighborhood']=df['Neighborhood'].replace(['NAmes'],12)\n",
    "df['Neighborhood']=df['Neighborhood'].replace(['NoRidge'],13)\n",
    "df['Neighborhood']=df['Neighborhood'].replace(['NPkVill'],14)\n",
    "df['Neighborhood']=df['Neighborhood'].replace(['NridgHt'],15)\n",
    "df['Neighborhood']=df['Neighborhood'].replace(['NWAmes'],16)\n",
    "df['Neighborhood']=df['Neighborhood'].replace(['OldTown'],17)\n",
    "df['Neighborhood']=df['Neighborhood'].replace(['SWISU'],18)\n",
    "df['Neighborhood']=df['Neighborhood'].replace(['Sawyer'],19)\n",
    "df['Neighborhood']=df['Neighborhood'].replace(['SawyerW'],20)\n",
    "df['Neighborhood']=df['Neighborhood'].replace(['Somerst'],21)\n",
    "df['Neighborhood']=df['Neighborhood'].replace(['StoneBr'],22)\n",
    "df['Neighborhood']=df['Neighborhood'].replace(['Timber'],23)\n",
    "df['Neighborhood']=df['Neighborhood'].replace(['Veenker'],24)\n",
    "df['Neighborhood'].value_counts()"
   ]
  },
  {
   "cell_type": "code",
   "execution_count": 46,
   "metadata": {},
   "outputs": [
    {
     "data": {
      "text/plain": [
       "2    1260\n",
       "1      81\n",
       "0      48\n",
       "4      26\n",
       "5      19\n",
       "8      11\n",
       "6       8\n",
       "3       5\n",
       "7       2\n",
       "Name: Condition1, dtype: int64"
      ]
     },
     "execution_count": 46,
     "metadata": {},
     "output_type": "execute_result"
    }
   ],
   "source": [
    "#se cambiará la variable \"Condition1\" a numérica, la cual identifica la proximidad a varias condiciones de la propiedad. \n",
    "df['Condition1']=df['Condition1'].replace(['Artery'],0)\n",
    "df['Condition1']=df['Condition1'].replace(['Feedr'],1)\n",
    "df['Condition1']=df['Condition1'].replace(['Norm'],2)\n",
    "df['Condition1']=df['Condition1'].replace(['RRNn'],3)\n",
    "df['Condition1']=df['Condition1'].replace(['RRAn'],4)\n",
    "df['Condition1']=df['Condition1'].replace(['PosN'],5)\n",
    "df['Condition1']=df['Condition1'].replace(['PosA'],6)\n",
    "df['Condition1']=df['Condition1'].replace(['RRNe'],7)\n",
    "df['Condition1']=df['Condition1'].replace(['RRAe'],8)\n",
    "df['Condition1'].value_counts()"
   ]
  },
  {
   "cell_type": "code",
   "execution_count": 47,
   "metadata": {},
   "outputs": [
    {
     "data": {
      "text/plain": [
       "0    1220\n",
       "3     114\n",
       "2      52\n",
       "4      43\n",
       "1      31\n",
       "Name: BldgType, dtype: int64"
      ]
     },
     "execution_count": 47,
     "metadata": {},
     "output_type": "execute_result"
    }
   ],
   "source": [
    "#se cambiará la variable \"BldgType\" a numérica, la cual identifica el tipo de construcción de la propiedad.\n",
    "df['BldgType']=df['BldgType'].replace(['1Fam'],0)\n",
    "df['BldgType']=df['BldgType'].replace(['2fmCon'],1)\n",
    "df['BldgType']=df['BldgType'].replace(['Duplex'],2)\n",
    "df['BldgType']=df['BldgType'].replace(['TwnhsE'],3)\n",
    "df['BldgType']=df['BldgType'].replace(['Twnhs'],4)\n",
    "df['BldgType'].value_counts()"
   ]
  },
  {
   "cell_type": "code",
   "execution_count": 48,
   "metadata": {},
   "outputs": [
    {
     "data": {
      "text/plain": [
       "0    726\n",
       "3    445\n",
       "1    154\n",
       "7     65\n",
       "6     37\n",
       "2     14\n",
       "5     11\n",
       "4      8\n",
       "Name: HouseStyle, dtype: int64"
      ]
     },
     "execution_count": 48,
     "metadata": {},
     "output_type": "execute_result"
    }
   ],
   "source": [
    "#se cambiará la variable \"HouseStyle\" a numérica, la cual identifica el tipo de estilo de construcción de la propiedad.\n",
    "df['HouseStyle']=df['HouseStyle'].replace(['1Story'],0)\n",
    "df['HouseStyle']=df['HouseStyle'].replace(['1.5Fin'],1)\n",
    "df['HouseStyle']=df['HouseStyle'].replace(['1.5Unf'],2)\n",
    "df['HouseStyle']=df['HouseStyle'].replace(['2Story'],3)\n",
    "df['HouseStyle']=df['HouseStyle'].replace(['2.5Fin'],4)\n",
    "df['HouseStyle']=df['HouseStyle'].replace(['2.5Unf'],5)\n",
    "df['HouseStyle']=df['HouseStyle'].replace(['SFoyer'],6)\n",
    "df['HouseStyle']=df['HouseStyle'].replace(['SLvl'],7)\n",
    "df['HouseStyle'].value_counts()"
   ]
  },
  {
   "cell_type": "code",
   "execution_count": 49,
   "metadata": {},
   "outputs": [
    {
     "data": {
      "text/plain": [
       "1    1141\n",
       "3     286\n",
       "0      13\n",
       "2      11\n",
       "4       7\n",
       "5       2\n",
       "Name: RoofStyle, dtype: int64"
      ]
     },
     "execution_count": 49,
     "metadata": {},
     "output_type": "execute_result"
    }
   ],
   "source": [
    "#se cambiará la variable \"RoofStyle\" a numérica, la cual identifica el tipo de techo de la propiedad.\n",
    "df['RoofStyle']=df['RoofStyle'].replace(['Flat'],0)\n",
    "df['RoofStyle']=df['RoofStyle'].replace(['Gable'],1)\n",
    "df['RoofStyle']=df['RoofStyle'].replace(['Gambrel'],2)\n",
    "df['RoofStyle']=df['RoofStyle'].replace(['Hip'],3)\n",
    "df['RoofStyle']=df['RoofStyle'].replace(['Mansard'],4)\n",
    "df['RoofStyle']=df['RoofStyle'].replace(['Shed'],5)\n",
    "df['RoofStyle'].value_counts()"
   ]
  },
  {
   "cell_type": "code",
   "execution_count": 50,
   "metadata": {},
   "outputs": [
    {
     "data": {
      "text/plain": [
       "1    1434\n",
       "5      11\n",
       "7       6\n",
       "6       5\n",
       "4       1\n",
       "3       1\n",
       "2       1\n",
       "0       1\n",
       "Name: RoofMatl, dtype: int64"
      ]
     },
     "execution_count": 50,
     "metadata": {},
     "output_type": "execute_result"
    }
   ],
   "source": [
    "#se cambiará la variable \"RoofMatl\" a numérica, la cual identifica el material del techo de la propiedad.\n",
    "df['RoofMatl']=df['RoofMatl'].replace(['ClyTile'],0)\n",
    "df['RoofMatl']=df['RoofMatl'].replace(['CompShg'],1)\n",
    "df['RoofMatl']=df['RoofMatl'].replace(['Membran'],2)\n",
    "df['RoofMatl']=df['RoofMatl'].replace(['Metal'],3)\n",
    "df['RoofMatl']=df['RoofMatl'].replace(['Roll'],4)\n",
    "df['RoofMatl']=df['RoofMatl'].replace(['Tar&Grv'],5)\n",
    "df['RoofMatl']=df['RoofMatl'].replace(['WdShake'],6)\n",
    "df['RoofMatl']=df['RoofMatl'].replace(['WdShngl'],7)\n",
    "df['RoofMatl'].value_counts()"
   ]
  },
  {
   "cell_type": "code",
   "execution_count": 51,
   "metadata": {},
   "outputs": [
    {
     "data": {
      "text/plain": [
       "14    515\n",
       "6     222\n",
       "8     220\n",
       "15    206\n",
       "10    108\n",
       "5      61\n",
       "3      50\n",
       "16     26\n",
       "13     25\n",
       "0      20\n",
       "12      2\n",
       "2       2\n",
       "7       1\n",
       "4       1\n",
       "1       1\n",
       "Name: Exterior1st, dtype: int64"
      ]
     },
     "execution_count": 51,
     "metadata": {},
     "output_type": "execute_result"
    }
   ],
   "source": [
    "#se cambiará la variable \"Exterior1st\" a numérica, la cual identifica la cubierta exterior de la propiedad.\n",
    "df['Exterior1st']=df['Exterior1st'].replace(['AsbShng'],0)\n",
    "df['Exterior1st']=df['Exterior1st'].replace(['AsphShn'],1)\n",
    "df['Exterior1st']=df['Exterior1st'].replace(['BrkComm'],2)\n",
    "df['Exterior1st']=df['Exterior1st'].replace(['BrkFace'],3)\n",
    "df['Exterior1st']=df['Exterior1st'].replace(['CBlock'],4)\n",
    "df['Exterior1st']=df['Exterior1st'].replace(['CemntBd'],5)\n",
    "df['Exterior1st']=df['Exterior1st'].replace(['HdBoard'],6)\n",
    "df['Exterior1st']=df['Exterior1st'].replace(['ImStucc'],7)\n",
    "df['Exterior1st']=df['Exterior1st'].replace(['MetalSd'],8)\n",
    "df['Exterior1st']=df['Exterior1st'].replace(['Other'],9)\n",
    "df['Exterior1st']=df['Exterior1st'].replace(['Plywood'],10)\n",
    "df['Exterior1st']=df['Exterior1st'].replace(['PreCast'],11)\n",
    "df['Exterior1st']=df['Exterior1st'].replace(['Stone'],12)\n",
    "df['Exterior1st']=df['Exterior1st'].replace(['Stucco'],13)\n",
    "df['Exterior1st']=df['Exterior1st'].replace(['VinylSd'],14)\n",
    "df['Exterior1st']=df['Exterior1st'].replace(['Wd Sdng'],15)\n",
    "df['Exterior1st']=df['Exterior1st'].replace(['WdShing'],16)\n",
    "df['Exterior1st'].value_counts()"
   ]
  },
  {
   "cell_type": "code",
   "execution_count": 52,
   "metadata": {},
   "outputs": [],
   "source": [
    "#Se eliminará la variable \"Exterior2nd\" porque ya está la variable \"Exterior1st\" que ya toma en cuenta la cubierta exterior de la propiedad.\n",
    "del df['Exterior2nd']"
   ]
  },
  {
   "cell_type": "code",
   "execution_count": 53,
   "metadata": {},
   "outputs": [
    {
     "data": {
      "text/plain": [
       "0    872\n",
       "1    588\n",
       "Name: MasVnrType, dtype: int64"
      ]
     },
     "execution_count": 53,
     "metadata": {},
     "output_type": "execute_result"
    }
   ],
   "source": [
    "#Se transformará la variable \"MasVnrType\" para que sea \"0\" si no tiene algún tipo de revestimento de mampostería y \"1\" si sí tiene un revestimento.\n",
    "df['MasVnrType'] = df['MasVnrType'].replace(['None'],0)\n",
    "df['MasVnrType'] = df['MasVnrType'].replace(['BrkCmn'],1)\n",
    "df['MasVnrType'] = df['MasVnrType'].replace(['BrkFace'],1)\n",
    "df['MasVnrType'] = df['MasVnrType'].replace(['CBlock'],1)\n",
    "df['MasVnrType'] = df['MasVnrType'].replace(['Stone'],1)\n",
    "df['MasVnrType'].value_counts()"
   ]
  },
  {
   "cell_type": "code",
   "execution_count": 54,
   "metadata": {},
   "outputs": [],
   "source": [
    "#Se eliminaría la variable \"MasVnrArea\" porque ya existe la variable \"MasVnrType\" que toma en cuenta el efecto de revestimento de mampostería.\n",
    "del df['MasVnrArea']"
   ]
  },
  {
   "cell_type": "code",
   "execution_count": 55,
   "metadata": {},
   "outputs": [
    {
     "data": {
      "text/plain": [
       "2    906\n",
       "1    488\n",
       "0     52\n",
       "3     14\n",
       "Name: ExterQual, dtype: int64"
      ]
     },
     "execution_count": 55,
     "metadata": {},
     "output_type": "execute_result"
    }
   ],
   "source": [
    "#se cambiará la variable \"ExterQual\" a numérica, la cual identifica la calidad del material del exterior de la propiedad.\n",
    "df['ExterQual']=df['ExterQual'].replace(['Ex'],0)\n",
    "df['ExterQual']=df['ExterQual'].replace(['Gd'],1)\n",
    "df['ExterQual']=df['ExterQual'].replace(['TA'],2)\n",
    "df['ExterQual']=df['ExterQual'].replace(['Fa'],3)\n",
    "df['ExterQual']=df['ExterQual'].replace(['Po'],4)\n",
    "df['ExterQual'].value_counts()"
   ]
  },
  {
   "cell_type": "code",
   "execution_count": 56,
   "metadata": {},
   "outputs": [],
   "source": [
    "#Se eliminirá la variable \"ExterCond\" porque ya existe la variable \"ExterQual\" que toma en cuenta el efecto del material del exterior de la propiedad.\n",
    "del df['ExterCond']"
   ]
  },
  {
   "cell_type": "code",
   "execution_count": 57,
   "metadata": {},
   "outputs": [
    {
     "data": {
      "text/plain": [
       "2    647\n",
       "1    634\n",
       "0    146\n",
       "3     24\n",
       "4      6\n",
       "5      3\n",
       "Name: Foundation, dtype: int64"
      ]
     },
     "execution_count": 57,
     "metadata": {},
     "output_type": "execute_result"
    }
   ],
   "source": [
    "#se cambiará la variable \"Foundation\" a numérica, la cual identifica el tipo de cimientos de la propiedad.\n",
    "df['Foundation']=df['Foundation'].replace(['BrkTil'],0)\n",
    "df['Foundation']=df['Foundation'].replace(['CBlock'],1)\n",
    "df['Foundation']=df['Foundation'].replace(['PConc'],2)\n",
    "df['Foundation']=df['Foundation'].replace(['Slab'],3)\n",
    "df['Foundation']=df['Foundation'].replace(['Stone'],4)\n",
    "df['Foundation']=df['Foundation'].replace(['Wood'],5)\n",
    "df['Foundation'].value_counts()"
   ]
  },
  {
   "cell_type": "code",
   "execution_count": 58,
   "metadata": {},
   "outputs": [
    {
     "data": {
      "text/plain": [
       "1    1428\n",
       "2      18\n",
       "3       7\n",
       "5       4\n",
       "4       2\n",
       "0       1\n",
       "Name: Heating, dtype: int64"
      ]
     },
     "execution_count": 58,
     "metadata": {},
     "output_type": "execute_result"
    }
   ],
   "source": [
    "#se cambiará la variable \"Heating\" a numérica, la cual identifica el tipo de sistema de calor de la propiedad.\n",
    "df['Heating']=df['Heating'].replace(['Floor'],0)\n",
    "df['Heating']=df['Heating'].replace(['GasA'],1)\n",
    "df['Heating']=df['Heating'].replace(['GasW'],2)\n",
    "df['Heating']=df['Heating'].replace(['Grav'],3)\n",
    "df['Heating']=df['Heating'].replace(['OthW'],4)\n",
    "df['Heating']=df['Heating'].replace(['Wall'],5)\n",
    "df['Heating'].value_counts()"
   ]
  },
  {
   "cell_type": "code",
   "execution_count": 59,
   "metadata": {},
   "outputs": [],
   "source": [
    "#Se eliminirá la variable \"HeatingQC\" porque ya existe la variable \"Heating\" que toma en cuenta el efecto del sistema de calor de la propiedad.\n",
    "del df['HeatingQC']"
   ]
  },
  {
   "cell_type": "code",
   "execution_count": 60,
   "metadata": {},
   "outputs": [
    {
     "data": {
      "text/plain": [
       "1    1365\n",
       "0      95\n",
       "Name: CentralAir, dtype: int64"
      ]
     },
     "execution_count": 60,
     "metadata": {},
     "output_type": "execute_result"
    }
   ],
   "source": [
    "#se cambiará la variable \"CentralAir\" a numérica, la cual identifica si la propiedad cuenta con sistema central deaire acondicionado.\n",
    "df['CentralAir']=df['CentralAir'].replace(['N'],0)\n",
    "df['CentralAir']=df['CentralAir'].replace(['Y'],1)\n",
    "df['CentralAir'].value_counts()"
   ]
  },
  {
   "cell_type": "code",
   "execution_count": 61,
   "metadata": {},
   "outputs": [],
   "source": [
    "#Se eliminará la variable \"KitchenQual\" porque ya existe una variable \"KitchenAbvGr\"que toma en cuenta el efecto de la cocina en el precio de venta de la propiedad.\n",
    "del df['KitchenQual']"
   ]
  },
  {
   "cell_type": "code",
   "execution_count": 62,
   "metadata": {},
   "outputs": [
    {
     "data": {
      "text/plain": [
       "0    1360\n",
       "2      34\n",
       "1      31\n",
       "3      15\n",
       "4      14\n",
       "5       5\n",
       "6       1\n",
       "Name: Functional, dtype: int64"
      ]
     },
     "execution_count": 62,
     "metadata": {},
     "output_type": "execute_result"
    }
   ],
   "source": [
    "#se cambiará la variable \"Functional\" a numérica, la cual identifica la clasificación de la funcionalidad de la propiedad.\n",
    "df['Functional']=df['Functional'].replace(['Typ'],0)\n",
    "df['Functional']=df['Functional'].replace(['Min1'],1)\n",
    "df['Functional']=df['Functional'].replace(['Min2'],2)\n",
    "df['Functional']=df['Functional'].replace(['Mod'],3)\n",
    "df['Functional']=df['Functional'].replace(['Maj1'],4)\n",
    "df['Functional']=df['Functional'].replace(['Maj2'],5)\n",
    "df['Functional']=df['Functional'].replace(['Sev'],6)\n",
    "df['Functional']=df['Functional'].replace(['Sal'],7)\n",
    "df['Functional'].value_counts()"
   ]
  },
  {
   "cell_type": "code",
   "execution_count": 63,
   "metadata": {},
   "outputs": [
    {
     "data": {
      "text/plain": [
       "1    1370\n",
       "0      90\n",
       "Name: PavedDrive, dtype: int64"
      ]
     },
     "execution_count": 63,
     "metadata": {},
     "output_type": "execute_result"
    }
   ],
   "source": [
    "#Se transformará la variable \"PavedDrive\" para que sea \"0\" si no tiene pavimento y \"1\" si sí tiene.\n",
    "df['PavedDrive'] = df['PavedDrive'].replace(['N'],0)\n",
    "df['PavedDrive'] = df['PavedDrive'].replace(['Y'],1)\n",
    "df['PavedDrive'] = df['PavedDrive'].replace(['P'],1)\n",
    "df['PavedDrive'].value_counts()"
   ]
  },
  {
   "cell_type": "code",
   "execution_count": 64,
   "metadata": {},
   "outputs": [
    {
     "data": {
      "text/plain": [
       "0    1267\n",
       "3     122\n",
       "4      43\n",
       "8       9\n",
       "7       5\n",
       "6       5\n",
       "1       4\n",
       "9       3\n",
       "5       2\n",
       "Name: SaleType, dtype: int64"
      ]
     },
     "execution_count": 64,
     "metadata": {},
     "output_type": "execute_result"
    }
   ],
   "source": [
    "#se cambiará la variable \"SaleType\" a numérica, la cual identifica el tipo de venta de la propiedad.\n",
    "df['SaleType']=df['SaleType'].replace(['WD'],0)\n",
    "df['SaleType']=df['SaleType'].replace(['CWD'],1)\n",
    "df['SaleType']=df['SaleType'].replace(['VWD'],2)\n",
    "df['SaleType']=df['SaleType'].replace(['New'],3)\n",
    "df['SaleType']=df['SaleType'].replace(['COD'],4)\n",
    "df['SaleType']=df['SaleType'].replace(['Con'],5)\n",
    "df['SaleType']=df['SaleType'].replace(['ConLw'],6)\n",
    "df['SaleType']=df['SaleType'].replace(['ConLI'],7)\n",
    "df['SaleType']=df['SaleType'].replace(['ConLD'],8)\n",
    "df['SaleType']=df['SaleType'].replace(['Oth'],9)\n",
    "df['SaleType'].value_counts()"
   ]
  },
  {
   "cell_type": "code",
   "execution_count": 65,
   "metadata": {},
   "outputs": [
    {
     "data": {
      "text/plain": [
       "0    1198\n",
       "5     125\n",
       "1     101\n",
       "4      20\n",
       "3      12\n",
       "2       4\n",
       "Name: SaleCondition, dtype: int64"
      ]
     },
     "execution_count": 65,
     "metadata": {},
     "output_type": "execute_result"
    }
   ],
   "source": [
    "#se cambiará la variable \"SaleCondition\" a numérica, la cual identifica la condición de venta de la propiedad.\n",
    "df['SaleCondition']=df['SaleCondition'].replace(['Normal'],0)\n",
    "df['SaleCondition']=df['SaleCondition'].replace(['Abnorml'],1)\n",
    "df['SaleCondition']=df['SaleCondition'].replace(['AdjLand'],2)\n",
    "df['SaleCondition']=df['SaleCondition'].replace(['Alloca'],3)\n",
    "df['SaleCondition']=df['SaleCondition'].replace(['Family'],4)\n",
    "df['SaleCondition']=df['SaleCondition'].replace(['Partial'],5)\n",
    "df['SaleCondition'].value_counts()"
   ]
  },
  {
   "cell_type": "code",
   "execution_count": 66,
   "metadata": {},
   "outputs": [
    {
     "data": {
      "text/html": [
       "<div>\n",
       "<style scoped>\n",
       "    .dataframe tbody tr th:only-of-type {\n",
       "        vertical-align: middle;\n",
       "    }\n",
       "\n",
       "    .dataframe tbody tr th {\n",
       "        vertical-align: top;\n",
       "    }\n",
       "\n",
       "    .dataframe thead th {\n",
       "        text-align: right;\n",
       "    }\n",
       "</style>\n",
       "<table border=\"1\" class=\"dataframe\">\n",
       "  <thead>\n",
       "    <tr style=\"text-align: right;\">\n",
       "      <th></th>\n",
       "      <th>Id</th>\n",
       "      <th>MSSubClass</th>\n",
       "      <th>MSZoning</th>\n",
       "      <th>LotFrontage</th>\n",
       "      <th>LotArea</th>\n",
       "      <th>Street</th>\n",
       "      <th>Alley</th>\n",
       "      <th>LotShape</th>\n",
       "      <th>LandContour</th>\n",
       "      <th>LotConfig</th>\n",
       "      <th>...</th>\n",
       "      <th>3SsnPorch</th>\n",
       "      <th>ScreenPorch</th>\n",
       "      <th>Fence</th>\n",
       "      <th>MiscFeature</th>\n",
       "      <th>MiscVal</th>\n",
       "      <th>MoSold</th>\n",
       "      <th>YrSold</th>\n",
       "      <th>SaleType</th>\n",
       "      <th>SaleCondition</th>\n",
       "      <th>SalePrice</th>\n",
       "    </tr>\n",
       "  </thead>\n",
       "  <tbody>\n",
       "    <tr>\n",
       "      <th>count</th>\n",
       "      <td>1460.000000</td>\n",
       "      <td>1460.000000</td>\n",
       "      <td>1460.000000</td>\n",
       "      <td>1460.000000</td>\n",
       "      <td>1460.000000</td>\n",
       "      <td>1460.000000</td>\n",
       "      <td>1460.000000</td>\n",
       "      <td>1460.000000</td>\n",
       "      <td>1460.000000</td>\n",
       "      <td>1460.000000</td>\n",
       "      <td>...</td>\n",
       "      <td>1460.000000</td>\n",
       "      <td>1460.000000</td>\n",
       "      <td>1460.000000</td>\n",
       "      <td>1460.000000</td>\n",
       "      <td>1460.000000</td>\n",
       "      <td>1460.000000</td>\n",
       "      <td>1460.000000</td>\n",
       "      <td>1460.000000</td>\n",
       "      <td>1460.000000</td>\n",
       "      <td>1460.000000</td>\n",
       "    </tr>\n",
       "    <tr>\n",
       "      <th>mean</th>\n",
       "      <td>730.500000</td>\n",
       "      <td>56.897260</td>\n",
       "      <td>5.126712</td>\n",
       "      <td>57.623288</td>\n",
       "      <td>10516.828082</td>\n",
       "      <td>0.995890</td>\n",
       "      <td>0.062329</td>\n",
       "      <td>0.408219</td>\n",
       "      <td>0.185616</td>\n",
       "      <td>0.416438</td>\n",
       "      <td>...</td>\n",
       "      <td>3.409589</td>\n",
       "      <td>15.060959</td>\n",
       "      <td>0.192466</td>\n",
       "      <td>0.036986</td>\n",
       "      <td>43.489041</td>\n",
       "      <td>6.321918</td>\n",
       "      <td>2007.815753</td>\n",
       "      <td>0.490411</td>\n",
       "      <td>0.582192</td>\n",
       "      <td>180921.195890</td>\n",
       "    </tr>\n",
       "    <tr>\n",
       "      <th>std</th>\n",
       "      <td>421.610009</td>\n",
       "      <td>42.300571</td>\n",
       "      <td>1.050330</td>\n",
       "      <td>34.664304</td>\n",
       "      <td>9981.264932</td>\n",
       "      <td>0.063996</td>\n",
       "      <td>0.241835</td>\n",
       "      <td>0.582296</td>\n",
       "      <td>0.606509</td>\n",
       "      <td>0.773448</td>\n",
       "      <td>...</td>\n",
       "      <td>29.317331</td>\n",
       "      <td>55.757415</td>\n",
       "      <td>0.394372</td>\n",
       "      <td>0.188793</td>\n",
       "      <td>496.123024</td>\n",
       "      <td>2.703626</td>\n",
       "      <td>1.328095</td>\n",
       "      <td>1.368616</td>\n",
       "      <td>1.475209</td>\n",
       "      <td>79442.502883</td>\n",
       "    </tr>\n",
       "    <tr>\n",
       "      <th>min</th>\n",
       "      <td>1.000000</td>\n",
       "      <td>20.000000</td>\n",
       "      <td>1.000000</td>\n",
       "      <td>0.000000</td>\n",
       "      <td>1300.000000</td>\n",
       "      <td>0.000000</td>\n",
       "      <td>0.000000</td>\n",
       "      <td>0.000000</td>\n",
       "      <td>0.000000</td>\n",
       "      <td>0.000000</td>\n",
       "      <td>...</td>\n",
       "      <td>0.000000</td>\n",
       "      <td>0.000000</td>\n",
       "      <td>0.000000</td>\n",
       "      <td>0.000000</td>\n",
       "      <td>0.000000</td>\n",
       "      <td>1.000000</td>\n",
       "      <td>2006.000000</td>\n",
       "      <td>0.000000</td>\n",
       "      <td>0.000000</td>\n",
       "      <td>34900.000000</td>\n",
       "    </tr>\n",
       "    <tr>\n",
       "      <th>25%</th>\n",
       "      <td>365.750000</td>\n",
       "      <td>20.000000</td>\n",
       "      <td>5.000000</td>\n",
       "      <td>42.000000</td>\n",
       "      <td>7553.500000</td>\n",
       "      <td>1.000000</td>\n",
       "      <td>0.000000</td>\n",
       "      <td>0.000000</td>\n",
       "      <td>0.000000</td>\n",
       "      <td>0.000000</td>\n",
       "      <td>...</td>\n",
       "      <td>0.000000</td>\n",
       "      <td>0.000000</td>\n",
       "      <td>0.000000</td>\n",
       "      <td>0.000000</td>\n",
       "      <td>0.000000</td>\n",
       "      <td>5.000000</td>\n",
       "      <td>2007.000000</td>\n",
       "      <td>0.000000</td>\n",
       "      <td>0.000000</td>\n",
       "      <td>129975.000000</td>\n",
       "    </tr>\n",
       "    <tr>\n",
       "      <th>50%</th>\n",
       "      <td>730.500000</td>\n",
       "      <td>50.000000</td>\n",
       "      <td>5.000000</td>\n",
       "      <td>63.000000</td>\n",
       "      <td>9478.500000</td>\n",
       "      <td>1.000000</td>\n",
       "      <td>0.000000</td>\n",
       "      <td>0.000000</td>\n",
       "      <td>0.000000</td>\n",
       "      <td>0.000000</td>\n",
       "      <td>...</td>\n",
       "      <td>0.000000</td>\n",
       "      <td>0.000000</td>\n",
       "      <td>0.000000</td>\n",
       "      <td>0.000000</td>\n",
       "      <td>0.000000</td>\n",
       "      <td>6.000000</td>\n",
       "      <td>2008.000000</td>\n",
       "      <td>0.000000</td>\n",
       "      <td>0.000000</td>\n",
       "      <td>163000.000000</td>\n",
       "    </tr>\n",
       "    <tr>\n",
       "      <th>75%</th>\n",
       "      <td>1095.250000</td>\n",
       "      <td>70.000000</td>\n",
       "      <td>5.000000</td>\n",
       "      <td>79.000000</td>\n",
       "      <td>11601.500000</td>\n",
       "      <td>1.000000</td>\n",
       "      <td>0.000000</td>\n",
       "      <td>1.000000</td>\n",
       "      <td>0.000000</td>\n",
       "      <td>1.000000</td>\n",
       "      <td>...</td>\n",
       "      <td>0.000000</td>\n",
       "      <td>0.000000</td>\n",
       "      <td>0.000000</td>\n",
       "      <td>0.000000</td>\n",
       "      <td>0.000000</td>\n",
       "      <td>8.000000</td>\n",
       "      <td>2009.000000</td>\n",
       "      <td>0.000000</td>\n",
       "      <td>0.000000</td>\n",
       "      <td>214000.000000</td>\n",
       "    </tr>\n",
       "    <tr>\n",
       "      <th>max</th>\n",
       "      <td>1460.000000</td>\n",
       "      <td>190.000000</td>\n",
       "      <td>7.000000</td>\n",
       "      <td>313.000000</td>\n",
       "      <td>215245.000000</td>\n",
       "      <td>1.000000</td>\n",
       "      <td>1.000000</td>\n",
       "      <td>3.000000</td>\n",
       "      <td>3.000000</td>\n",
       "      <td>4.000000</td>\n",
       "      <td>...</td>\n",
       "      <td>508.000000</td>\n",
       "      <td>480.000000</td>\n",
       "      <td>1.000000</td>\n",
       "      <td>1.000000</td>\n",
       "      <td>15500.000000</td>\n",
       "      <td>12.000000</td>\n",
       "      <td>2010.000000</td>\n",
       "      <td>9.000000</td>\n",
       "      <td>5.000000</td>\n",
       "      <td>755000.000000</td>\n",
       "    </tr>\n",
       "  </tbody>\n",
       "</table>\n",
       "<p>8 rows × 61 columns</p>\n",
       "</div>"
      ],
      "text/plain": [
       "                Id   MSSubClass     MSZoning  LotFrontage        LotArea  \\\n",
       "count  1460.000000  1460.000000  1460.000000  1460.000000    1460.000000   \n",
       "mean    730.500000    56.897260     5.126712    57.623288   10516.828082   \n",
       "std     421.610009    42.300571     1.050330    34.664304    9981.264932   \n",
       "min       1.000000    20.000000     1.000000     0.000000    1300.000000   \n",
       "25%     365.750000    20.000000     5.000000    42.000000    7553.500000   \n",
       "50%     730.500000    50.000000     5.000000    63.000000    9478.500000   \n",
       "75%    1095.250000    70.000000     5.000000    79.000000   11601.500000   \n",
       "max    1460.000000   190.000000     7.000000   313.000000  215245.000000   \n",
       "\n",
       "            Street        Alley     LotShape  LandContour    LotConfig  ...  \\\n",
       "count  1460.000000  1460.000000  1460.000000  1460.000000  1460.000000  ...   \n",
       "mean      0.995890     0.062329     0.408219     0.185616     0.416438  ...   \n",
       "std       0.063996     0.241835     0.582296     0.606509     0.773448  ...   \n",
       "min       0.000000     0.000000     0.000000     0.000000     0.000000  ...   \n",
       "25%       1.000000     0.000000     0.000000     0.000000     0.000000  ...   \n",
       "50%       1.000000     0.000000     0.000000     0.000000     0.000000  ...   \n",
       "75%       1.000000     0.000000     1.000000     0.000000     1.000000  ...   \n",
       "max       1.000000     1.000000     3.000000     3.000000     4.000000  ...   \n",
       "\n",
       "         3SsnPorch  ScreenPorch        Fence  MiscFeature       MiscVal  \\\n",
       "count  1460.000000  1460.000000  1460.000000  1460.000000   1460.000000   \n",
       "mean      3.409589    15.060959     0.192466     0.036986     43.489041   \n",
       "std      29.317331    55.757415     0.394372     0.188793    496.123024   \n",
       "min       0.000000     0.000000     0.000000     0.000000      0.000000   \n",
       "25%       0.000000     0.000000     0.000000     0.000000      0.000000   \n",
       "50%       0.000000     0.000000     0.000000     0.000000      0.000000   \n",
       "75%       0.000000     0.000000     0.000000     0.000000      0.000000   \n",
       "max     508.000000   480.000000     1.000000     1.000000  15500.000000   \n",
       "\n",
       "            MoSold       YrSold     SaleType  SaleCondition      SalePrice  \n",
       "count  1460.000000  1460.000000  1460.000000    1460.000000    1460.000000  \n",
       "mean      6.321918  2007.815753     0.490411       0.582192  180921.195890  \n",
       "std       2.703626     1.328095     1.368616       1.475209   79442.502883  \n",
       "min       1.000000  2006.000000     0.000000       0.000000   34900.000000  \n",
       "25%       5.000000  2007.000000     0.000000       0.000000  129975.000000  \n",
       "50%       6.000000  2008.000000     0.000000       0.000000  163000.000000  \n",
       "75%       8.000000  2009.000000     0.000000       0.000000  214000.000000  \n",
       "max      12.000000  2010.000000     9.000000       5.000000  755000.000000  \n",
       "\n",
       "[8 rows x 61 columns]"
      ]
     },
     "execution_count": 66,
     "metadata": {},
     "output_type": "execute_result"
    }
   ],
   "source": [
    "df.describe()"
   ]
  },
  {
   "cell_type": "code",
   "execution_count": 67,
   "metadata": {},
   "outputs": [
    {
     "data": {
      "text/plain": [
       "Id                 int64\n",
       "MSSubClass         int64\n",
       "MSZoning           int64\n",
       "LotFrontage      float64\n",
       "LotArea            int64\n",
       "Street             int64\n",
       "Alley              int64\n",
       "LotShape           int64\n",
       "LandContour        int64\n",
       "LotConfig          int64\n",
       "LandSlope          int64\n",
       "Neighborhood       int64\n",
       "Condition1         int64\n",
       "BldgType           int64\n",
       "HouseStyle         int64\n",
       "OverallQual        int64\n",
       "OverallCond        int64\n",
       "YearBuilt          int64\n",
       "YearRemodAdd       int64\n",
       "RoofStyle          int64\n",
       "RoofMatl           int64\n",
       "Exterior1st        int64\n",
       "MasVnrType         int64\n",
       "ExterQual          int64\n",
       "Foundation         int64\n",
       "BsmtQual           int64\n",
       "BsmtFinSF1         int64\n",
       "BsmtFinSF2         int64\n",
       "BsmtUnfSF          int64\n",
       "TotalBsmtSF        int64\n",
       "Heating            int64\n",
       "CentralAir         int64\n",
       "Electrical         int64\n",
       "1stFlrSF           int64\n",
       "2ndFlrSF           int64\n",
       "LowQualFinSF       int64\n",
       "GrLivArea          int64\n",
       "BsmtFullBath       int64\n",
       "BsmtHalfBath       int64\n",
       "FullBath           int64\n",
       "HalfBath           int64\n",
       "BedroomAbvGr       int64\n",
       "KitchenAbvGr       int64\n",
       "TotRmsAbvGrd       int64\n",
       "Functional         int64\n",
       "Fireplaces         int64\n",
       "GarageType         int64\n",
       "PavedDrive         int64\n",
       "WoodDeckSF         int64\n",
       "OpenPorchSF        int64\n",
       "EnclosedPorch      int64\n",
       "3SsnPorch          int64\n",
       "ScreenPorch        int64\n",
       "Fence              int64\n",
       "MiscFeature        int64\n",
       "MiscVal            int64\n",
       "MoSold             int64\n",
       "YrSold             int64\n",
       "SaleType           int64\n",
       "SaleCondition      int64\n",
       "SalePrice          int64\n",
       "dtype: object"
      ]
     },
     "execution_count": 67,
     "metadata": {},
     "output_type": "execute_result"
    }
   ],
   "source": [
    "#Se revisa nuevamente el tipo de variable de todas las variables para verificar que todas sean numéricas.\n",
    "df.dtypes"
   ]
  },
  {
   "cell_type": "code",
   "execution_count": 68,
   "metadata": {},
   "outputs": [
    {
     "name": "stdout",
     "output_type": "stream",
     "text": [
      "['Alley', 'LandSlope', 'Electrical', 'LowQualFinSF', 'BsmtHalfBath', 'Functional', '3SsnPorch', 'ScreenPorch', 'MiscFeature', 'MiscVal']\n"
     ]
    }
   ],
   "source": [
    "#A continuación se detectará a las variables con baja varianza, las cuales se consideran no aportan mucho para explicar el valor del precio de las propiedades.\n",
    "low_variance = []\n",
    "for col in df._get_numeric_data():\n",
    "    minimum = min(df[col])\n",
    "    ninety_perc = np.percentile(df[col], 90)\n",
    "    if ninety_perc == minimum:\n",
    "        low_variance.append(col)\n",
    "print(low_variance)"
   ]
  },
  {
   "cell_type": "code",
   "execution_count": 69,
   "metadata": {},
   "outputs": [],
   "source": [
    "#Se eliminan las variables con baja varianza del dataframe.\n",
    "df=df.drop(low_variance,axis=1)"
   ]
  },
  {
   "cell_type": "code",
   "execution_count": 70,
   "metadata": {},
   "outputs": [
    {
     "data": {
      "text/html": [
       "<div>\n",
       "<style scoped>\n",
       "    .dataframe tbody tr th:only-of-type {\n",
       "        vertical-align: middle;\n",
       "    }\n",
       "\n",
       "    .dataframe tbody tr th {\n",
       "        vertical-align: top;\n",
       "    }\n",
       "\n",
       "    .dataframe thead th {\n",
       "        text-align: right;\n",
       "    }\n",
       "</style>\n",
       "<table border=\"1\" class=\"dataframe\">\n",
       "  <thead>\n",
       "    <tr style=\"text-align: right;\">\n",
       "      <th></th>\n",
       "      <th>Id</th>\n",
       "      <th>MSSubClass</th>\n",
       "      <th>MSZoning</th>\n",
       "      <th>LotFrontage</th>\n",
       "      <th>LotArea</th>\n",
       "      <th>Street</th>\n",
       "      <th>LotShape</th>\n",
       "      <th>LandContour</th>\n",
       "      <th>LotConfig</th>\n",
       "      <th>Neighborhood</th>\n",
       "      <th>...</th>\n",
       "      <th>PavedDrive</th>\n",
       "      <th>WoodDeckSF</th>\n",
       "      <th>OpenPorchSF</th>\n",
       "      <th>EnclosedPorch</th>\n",
       "      <th>Fence</th>\n",
       "      <th>MoSold</th>\n",
       "      <th>YrSold</th>\n",
       "      <th>SaleType</th>\n",
       "      <th>SaleCondition</th>\n",
       "      <th>SalePrice</th>\n",
       "    </tr>\n",
       "  </thead>\n",
       "  <tbody>\n",
       "    <tr>\n",
       "      <th>0</th>\n",
       "      <td>1</td>\n",
       "      <td>60</td>\n",
       "      <td>5</td>\n",
       "      <td>65.0</td>\n",
       "      <td>8450</td>\n",
       "      <td>1</td>\n",
       "      <td>0</td>\n",
       "      <td>0</td>\n",
       "      <td>0</td>\n",
       "      <td>5</td>\n",
       "      <td>...</td>\n",
       "      <td>1</td>\n",
       "      <td>0</td>\n",
       "      <td>61</td>\n",
       "      <td>0</td>\n",
       "      <td>0</td>\n",
       "      <td>2</td>\n",
       "      <td>2008</td>\n",
       "      <td>0</td>\n",
       "      <td>0</td>\n",
       "      <td>208500</td>\n",
       "    </tr>\n",
       "    <tr>\n",
       "      <th>1</th>\n",
       "      <td>2</td>\n",
       "      <td>20</td>\n",
       "      <td>5</td>\n",
       "      <td>80.0</td>\n",
       "      <td>9600</td>\n",
       "      <td>1</td>\n",
       "      <td>0</td>\n",
       "      <td>0</td>\n",
       "      <td>3</td>\n",
       "      <td>24</td>\n",
       "      <td>...</td>\n",
       "      <td>1</td>\n",
       "      <td>298</td>\n",
       "      <td>0</td>\n",
       "      <td>0</td>\n",
       "      <td>0</td>\n",
       "      <td>5</td>\n",
       "      <td>2007</td>\n",
       "      <td>0</td>\n",
       "      <td>0</td>\n",
       "      <td>181500</td>\n",
       "    </tr>\n",
       "    <tr>\n",
       "      <th>2</th>\n",
       "      <td>3</td>\n",
       "      <td>60</td>\n",
       "      <td>5</td>\n",
       "      <td>68.0</td>\n",
       "      <td>11250</td>\n",
       "      <td>1</td>\n",
       "      <td>1</td>\n",
       "      <td>0</td>\n",
       "      <td>0</td>\n",
       "      <td>5</td>\n",
       "      <td>...</td>\n",
       "      <td>1</td>\n",
       "      <td>0</td>\n",
       "      <td>42</td>\n",
       "      <td>0</td>\n",
       "      <td>0</td>\n",
       "      <td>9</td>\n",
       "      <td>2008</td>\n",
       "      <td>0</td>\n",
       "      <td>0</td>\n",
       "      <td>223500</td>\n",
       "    </tr>\n",
       "    <tr>\n",
       "      <th>3</th>\n",
       "      <td>4</td>\n",
       "      <td>70</td>\n",
       "      <td>5</td>\n",
       "      <td>60.0</td>\n",
       "      <td>9550</td>\n",
       "      <td>1</td>\n",
       "      <td>1</td>\n",
       "      <td>0</td>\n",
       "      <td>1</td>\n",
       "      <td>6</td>\n",
       "      <td>...</td>\n",
       "      <td>1</td>\n",
       "      <td>0</td>\n",
       "      <td>35</td>\n",
       "      <td>272</td>\n",
       "      <td>0</td>\n",
       "      <td>2</td>\n",
       "      <td>2006</td>\n",
       "      <td>0</td>\n",
       "      <td>1</td>\n",
       "      <td>140000</td>\n",
       "    </tr>\n",
       "    <tr>\n",
       "      <th>4</th>\n",
       "      <td>5</td>\n",
       "      <td>60</td>\n",
       "      <td>5</td>\n",
       "      <td>84.0</td>\n",
       "      <td>14260</td>\n",
       "      <td>1</td>\n",
       "      <td>1</td>\n",
       "      <td>0</td>\n",
       "      <td>3</td>\n",
       "      <td>13</td>\n",
       "      <td>...</td>\n",
       "      <td>1</td>\n",
       "      <td>192</td>\n",
       "      <td>84</td>\n",
       "      <td>0</td>\n",
       "      <td>0</td>\n",
       "      <td>12</td>\n",
       "      <td>2008</td>\n",
       "      <td>0</td>\n",
       "      <td>0</td>\n",
       "      <td>250000</td>\n",
       "    </tr>\n",
       "  </tbody>\n",
       "</table>\n",
       "<p>5 rows × 51 columns</p>\n",
       "</div>"
      ],
      "text/plain": [
       "   Id  MSSubClass  MSZoning  LotFrontage  LotArea  Street  LotShape  \\\n",
       "0   1          60         5         65.0     8450       1         0   \n",
       "1   2          20         5         80.0     9600       1         0   \n",
       "2   3          60         5         68.0    11250       1         1   \n",
       "3   4          70         5         60.0     9550       1         1   \n",
       "4   5          60         5         84.0    14260       1         1   \n",
       "\n",
       "   LandContour  LotConfig  Neighborhood  ...  PavedDrive  WoodDeckSF  \\\n",
       "0            0          0             5  ...           1           0   \n",
       "1            0          3            24  ...           1         298   \n",
       "2            0          0             5  ...           1           0   \n",
       "3            0          1             6  ...           1           0   \n",
       "4            0          3            13  ...           1         192   \n",
       "\n",
       "   OpenPorchSF  EnclosedPorch  Fence  MoSold  YrSold  SaleType  SaleCondition  \\\n",
       "0           61              0      0       2    2008         0              0   \n",
       "1            0              0      0       5    2007         0              0   \n",
       "2           42              0      0       9    2008         0              0   \n",
       "3           35            272      0       2    2006         0              1   \n",
       "4           84              0      0      12    2008         0              0   \n",
       "\n",
       "   SalePrice  \n",
       "0     208500  \n",
       "1     181500  \n",
       "2     223500  \n",
       "3     140000  \n",
       "4     250000  \n",
       "\n",
       "[5 rows x 51 columns]"
      ]
     },
     "execution_count": 70,
     "metadata": {},
     "output_type": "execute_result"
    }
   ],
   "source": [
    "#Haciendo un \"head\" a la dataframe se puede observar que ya se han eliminado hasta el momento 30 variables respecto al dataframe original al pasar de 81 columnas a 51 columnas\n",
    "df.head()"
   ]
  },
  {
   "cell_type": "code",
   "execution_count": 71,
   "metadata": {},
   "outputs": [
    {
     "data": {
      "text/html": [
       "<div>\n",
       "<style scoped>\n",
       "    .dataframe tbody tr th:only-of-type {\n",
       "        vertical-align: middle;\n",
       "    }\n",
       "\n",
       "    .dataframe tbody tr th {\n",
       "        vertical-align: top;\n",
       "    }\n",
       "\n",
       "    .dataframe thead th {\n",
       "        text-align: right;\n",
       "    }\n",
       "</style>\n",
       "<table border=\"1\" class=\"dataframe\">\n",
       "  <thead>\n",
       "    <tr style=\"text-align: right;\">\n",
       "      <th></th>\n",
       "      <th>Id</th>\n",
       "      <th>MSSubClass</th>\n",
       "      <th>MSZoning</th>\n",
       "      <th>LotFrontage</th>\n",
       "      <th>LotArea</th>\n",
       "      <th>Street</th>\n",
       "      <th>LotShape</th>\n",
       "      <th>LandContour</th>\n",
       "      <th>LotConfig</th>\n",
       "      <th>Neighborhood</th>\n",
       "      <th>...</th>\n",
       "      <th>PavedDrive</th>\n",
       "      <th>WoodDeckSF</th>\n",
       "      <th>OpenPorchSF</th>\n",
       "      <th>EnclosedPorch</th>\n",
       "      <th>Fence</th>\n",
       "      <th>MoSold</th>\n",
       "      <th>YrSold</th>\n",
       "      <th>SaleType</th>\n",
       "      <th>SaleCondition</th>\n",
       "      <th>SalePrice</th>\n",
       "    </tr>\n",
       "  </thead>\n",
       "  <tbody>\n",
       "    <tr>\n",
       "      <th>Id</th>\n",
       "      <td>1.000000</td>\n",
       "      <td>0.011156</td>\n",
       "      <td>-0.010358</td>\n",
       "      <td>-0.019761</td>\n",
       "      <td>-0.033226</td>\n",
       "      <td>0.008916</td>\n",
       "      <td>-0.024071</td>\n",
       "      <td>0.008332</td>\n",
       "      <td>-0.014160</td>\n",
       "      <td>-0.009344</td>\n",
       "      <td>...</td>\n",
       "      <td>0.012730</td>\n",
       "      <td>-0.029643</td>\n",
       "      <td>-0.000477</td>\n",
       "      <td>0.002889</td>\n",
       "      <td>-0.006672</td>\n",
       "      <td>0.021172</td>\n",
       "      <td>0.000712</td>\n",
       "      <td>-0.028774</td>\n",
       "      <td>-0.021060</td>\n",
       "      <td>-0.021917</td>\n",
       "    </tr>\n",
       "    <tr>\n",
       "      <th>MSSubClass</th>\n",
       "      <td>0.011156</td>\n",
       "      <td>1.000000</td>\n",
       "      <td>0.082363</td>\n",
       "      <td>-0.215023</td>\n",
       "      <td>-0.139781</td>\n",
       "      <td>-0.024969</td>\n",
       "      <td>-0.115361</td>\n",
       "      <td>-0.025090</td>\n",
       "      <td>-0.037573</td>\n",
       "      <td>-0.009114</td>\n",
       "      <td>...</td>\n",
       "      <td>-0.069317</td>\n",
       "      <td>-0.012579</td>\n",
       "      <td>-0.006100</td>\n",
       "      <td>-0.012037</td>\n",
       "      <td>-0.103870</td>\n",
       "      <td>-0.013585</td>\n",
       "      <td>-0.021407</td>\n",
       "      <td>-0.001284</td>\n",
       "      <td>-0.040614</td>\n",
       "      <td>-0.084284</td>\n",
       "    </tr>\n",
       "    <tr>\n",
       "      <th>MSZoning</th>\n",
       "      <td>-0.010358</td>\n",
       "      <td>0.082363</td>\n",
       "      <td>1.000000</td>\n",
       "      <td>-0.066741</td>\n",
       "      <td>-0.062550</td>\n",
       "      <td>0.068933</td>\n",
       "      <td>-0.095840</td>\n",
       "      <td>-0.028339</td>\n",
       "      <td>-0.026189</td>\n",
       "      <td>-0.239398</td>\n",
       "      <td>...</td>\n",
       "      <td>-0.123671</td>\n",
       "      <td>-0.034925</td>\n",
       "      <td>-0.149214</td>\n",
       "      <td>0.142978</td>\n",
       "      <td>0.065184</td>\n",
       "      <td>-0.027408</td>\n",
       "      <td>-0.021577</td>\n",
       "      <td>-0.128129</td>\n",
       "      <td>-0.156019</td>\n",
       "      <td>-0.207122</td>\n",
       "    </tr>\n",
       "    <tr>\n",
       "      <th>LotFrontage</th>\n",
       "      <td>-0.019761</td>\n",
       "      <td>-0.215023</td>\n",
       "      <td>-0.066741</td>\n",
       "      <td>1.000000</td>\n",
       "      <td>0.100739</td>\n",
       "      <td>-0.025107</td>\n",
       "      <td>-0.113294</td>\n",
       "      <td>-0.000258</td>\n",
       "      <td>-0.136281</td>\n",
       "      <td>0.054539</td>\n",
       "      <td>...</td>\n",
       "      <td>0.015951</td>\n",
       "      <td>-0.016780</td>\n",
       "      <td>0.069605</td>\n",
       "      <td>0.027366</td>\n",
       "      <td>0.008265</td>\n",
       "      <td>0.018942</td>\n",
       "      <td>-0.012094</td>\n",
       "      <td>0.106616</td>\n",
       "      <td>0.180021</td>\n",
       "      <td>0.209624</td>\n",
       "    </tr>\n",
       "    <tr>\n",
       "      <th>LotArea</th>\n",
       "      <td>-0.033226</td>\n",
       "      <td>-0.139781</td>\n",
       "      <td>-0.062550</td>\n",
       "      <td>0.100739</td>\n",
       "      <td>1.000000</td>\n",
       "      <td>-0.197131</td>\n",
       "      <td>0.315484</td>\n",
       "      <td>0.339008</td>\n",
       "      <td>0.131099</td>\n",
       "      <td>0.042212</td>\n",
       "      <td>...</td>\n",
       "      <td>0.019325</td>\n",
       "      <td>0.171698</td>\n",
       "      <td>0.084774</td>\n",
       "      <td>-0.018340</td>\n",
       "      <td>-0.046566</td>\n",
       "      <td>0.001205</td>\n",
       "      <td>-0.014261</td>\n",
       "      <td>-0.004436</td>\n",
       "      <td>0.013773</td>\n",
       "      <td>0.263843</td>\n",
       "    </tr>\n",
       "    <tr>\n",
       "      <th>Street</th>\n",
       "      <td>0.008916</td>\n",
       "      <td>-0.024969</td>\n",
       "      <td>0.068933</td>\n",
       "      <td>-0.025107</td>\n",
       "      <td>-0.197131</td>\n",
       "      <td>1.000000</td>\n",
       "      <td>-0.010129</td>\n",
       "      <td>-0.103943</td>\n",
       "      <td>0.006905</td>\n",
       "      <td>-0.011587</td>\n",
       "      <td>...</td>\n",
       "      <td>0.028051</td>\n",
       "      <td>-0.017990</td>\n",
       "      <td>-0.005664</td>\n",
       "      <td>0.023082</td>\n",
       "      <td>0.031361</td>\n",
       "      <td>0.003690</td>\n",
       "      <td>-0.025043</td>\n",
       "      <td>-0.039577</td>\n",
       "      <td>0.003580</td>\n",
       "      <td>0.041036</td>\n",
       "    </tr>\n",
       "    <tr>\n",
       "      <th>LotShape</th>\n",
       "      <td>-0.024071</td>\n",
       "      <td>-0.115361</td>\n",
       "      <td>-0.095840</td>\n",
       "      <td>-0.113294</td>\n",
       "      <td>0.315484</td>\n",
       "      <td>-0.010129</td>\n",
       "      <td>1.000000</td>\n",
       "      <td>0.204499</td>\n",
       "      <td>0.276675</td>\n",
       "      <td>0.014052</td>\n",
       "      <td>...</td>\n",
       "      <td>0.091683</td>\n",
       "      <td>0.161717</td>\n",
       "      <td>0.093135</td>\n",
       "      <td>-0.095092</td>\n",
       "      <td>-0.076734</td>\n",
       "      <td>0.026617</td>\n",
       "      <td>-0.037391</td>\n",
       "      <td>0.008355</td>\n",
       "      <td>0.027139</td>\n",
       "      <td>0.267759</td>\n",
       "    </tr>\n",
       "    <tr>\n",
       "      <th>LandContour</th>\n",
       "      <td>0.008332</td>\n",
       "      <td>-0.025090</td>\n",
       "      <td>-0.028339</td>\n",
       "      <td>-0.000258</td>\n",
       "      <td>0.339008</td>\n",
       "      <td>-0.103943</td>\n",
       "      <td>0.204499</td>\n",
       "      <td>1.000000</td>\n",
       "      <td>0.010440</td>\n",
       "      <td>-0.048536</td>\n",
       "      <td>...</td>\n",
       "      <td>-0.038960</td>\n",
       "      <td>0.085489</td>\n",
       "      <td>-0.035868</td>\n",
       "      <td>0.000082</td>\n",
       "      <td>-0.074957</td>\n",
       "      <td>0.053402</td>\n",
       "      <td>-0.025586</td>\n",
       "      <td>-0.005699</td>\n",
       "      <td>0.024687</td>\n",
       "      <td>0.073042</td>\n",
       "    </tr>\n",
       "    <tr>\n",
       "      <th>LotConfig</th>\n",
       "      <td>-0.014160</td>\n",
       "      <td>-0.037573</td>\n",
       "      <td>-0.026189</td>\n",
       "      <td>-0.136281</td>\n",
       "      <td>0.131099</td>\n",
       "      <td>0.006905</td>\n",
       "      <td>0.276675</td>\n",
       "      <td>0.010440</td>\n",
       "      <td>1.000000</td>\n",
       "      <td>0.040189</td>\n",
       "      <td>...</td>\n",
       "      <td>0.060699</td>\n",
       "      <td>0.056153</td>\n",
       "      <td>0.058469</td>\n",
       "      <td>-0.021271</td>\n",
       "      <td>-0.004537</td>\n",
       "      <td>-0.024821</td>\n",
       "      <td>0.011358</td>\n",
       "      <td>-0.003995</td>\n",
       "      <td>-0.039630</td>\n",
       "      <td>0.092316</td>\n",
       "    </tr>\n",
       "    <tr>\n",
       "      <th>Neighborhood</th>\n",
       "      <td>-0.009344</td>\n",
       "      <td>-0.009114</td>\n",
       "      <td>-0.239398</td>\n",
       "      <td>0.054539</td>\n",
       "      <td>0.042212</td>\n",
       "      <td>-0.011587</td>\n",
       "      <td>0.014052</td>\n",
       "      <td>-0.048536</td>\n",
       "      <td>0.040189</td>\n",
       "      <td>1.000000</td>\n",
       "      <td>...</td>\n",
       "      <td>0.029539</td>\n",
       "      <td>0.049313</td>\n",
       "      <td>0.141072</td>\n",
       "      <td>0.028032</td>\n",
       "      <td>-0.005450</td>\n",
       "      <td>0.020655</td>\n",
       "      <td>0.037307</td>\n",
       "      <td>0.055024</td>\n",
       "      <td>0.104545</td>\n",
       "      <td>0.178883</td>\n",
       "    </tr>\n",
       "    <tr>\n",
       "      <th>Condition1</th>\n",
       "      <td>-0.018209</td>\n",
       "      <td>-0.041052</td>\n",
       "      <td>-0.042126</td>\n",
       "      <td>-0.052812</td>\n",
       "      <td>0.038311</td>\n",
       "      <td>-0.009938</td>\n",
       "      <td>0.097331</td>\n",
       "      <td>-0.015893</td>\n",
       "      <td>0.014387</td>\n",
       "      <td>0.021508</td>\n",
       "      <td>...</td>\n",
       "      <td>0.106299</td>\n",
       "      <td>0.049383</td>\n",
       "      <td>0.083364</td>\n",
       "      <td>-0.063261</td>\n",
       "      <td>-0.084412</td>\n",
       "      <td>0.000148</td>\n",
       "      <td>0.007809</td>\n",
       "      <td>0.023908</td>\n",
       "      <td>0.014706</td>\n",
       "      <td>0.083838</td>\n",
       "    </tr>\n",
       "    <tr>\n",
       "      <th>BldgType</th>\n",
       "      <td>0.019230</td>\n",
       "      <td>0.770840</td>\n",
       "      <td>0.056063</td>\n",
       "      <td>-0.245716</td>\n",
       "      <td>-0.211111</td>\n",
       "      <td>-0.023392</td>\n",
       "      <td>-0.134373</td>\n",
       "      <td>-0.054451</td>\n",
       "      <td>-0.050002</td>\n",
       "      <td>-0.007185</td>\n",
       "      <td>...</td>\n",
       "      <td>0.037359</td>\n",
       "      <td>-0.032805</td>\n",
       "      <td>-0.056430</td>\n",
       "      <td>-0.116847</td>\n",
       "      <td>-0.147923</td>\n",
       "      <td>-0.022293</td>\n",
       "      <td>0.003661</td>\n",
       "      <td>0.031753</td>\n",
       "      <td>0.013118</td>\n",
       "      <td>-0.112611</td>\n",
       "    </tr>\n",
       "    <tr>\n",
       "      <th>HouseStyle</th>\n",
       "      <td>0.027988</td>\n",
       "      <td>0.469623</td>\n",
       "      <td>-0.001012</td>\n",
       "      <td>-0.055911</td>\n",
       "      <td>-0.029586</td>\n",
       "      <td>0.013011</td>\n",
       "      <td>0.037859</td>\n",
       "      <td>-0.043021</td>\n",
       "      <td>0.051744</td>\n",
       "      <td>0.010604</td>\n",
       "      <td>...</td>\n",
       "      <td>0.016925</td>\n",
       "      <td>0.040113</td>\n",
       "      <td>0.075113</td>\n",
       "      <td>0.029690</td>\n",
       "      <td>0.054239</td>\n",
       "      <td>0.026557</td>\n",
       "      <td>-0.022642</td>\n",
       "      <td>-0.072175</td>\n",
       "      <td>-0.060862</td>\n",
       "      <td>0.063547</td>\n",
       "    </tr>\n",
       "    <tr>\n",
       "      <th>OverallQual</th>\n",
       "      <td>-0.028365</td>\n",
       "      <td>0.032628</td>\n",
       "      <td>-0.186082</td>\n",
       "      <td>0.176561</td>\n",
       "      <td>0.105806</td>\n",
       "      <td>0.058823</td>\n",
       "      <td>0.198994</td>\n",
       "      <td>-0.001564</td>\n",
       "      <td>0.064471</td>\n",
       "      <td>0.173159</td>\n",
       "      <td>...</td>\n",
       "      <td>0.214103</td>\n",
       "      <td>0.238923</td>\n",
       "      <td>0.308819</td>\n",
       "      <td>-0.113937</td>\n",
       "      <td>-0.189639</td>\n",
       "      <td>0.070815</td>\n",
       "      <td>-0.027347</td>\n",
       "      <td>0.134304</td>\n",
       "      <td>0.269625</td>\n",
       "      <td>0.790982</td>\n",
       "    </tr>\n",
       "    <tr>\n",
       "      <th>OverallCond</th>\n",
       "      <td>0.012609</td>\n",
       "      <td>-0.059316</td>\n",
       "      <td>0.192672</td>\n",
       "      <td>-0.053457</td>\n",
       "      <td>-0.005636</td>\n",
       "      <td>0.042848</td>\n",
       "      <td>-0.033747</td>\n",
       "      <td>-0.007025</td>\n",
       "      <td>0.012098</td>\n",
       "      <td>-0.020564</td>\n",
       "      <td>...</td>\n",
       "      <td>-0.044082</td>\n",
       "      <td>-0.003334</td>\n",
       "      <td>-0.032589</td>\n",
       "      <td>0.070356</td>\n",
       "      <td>0.170748</td>\n",
       "      <td>-0.003511</td>\n",
       "      <td>0.043950</td>\n",
       "      <td>-0.159288</td>\n",
       "      <td>-0.168277</td>\n",
       "      <td>-0.077856</td>\n",
       "    </tr>\n",
       "    <tr>\n",
       "      <th>YearBuilt</th>\n",
       "      <td>-0.012713</td>\n",
       "      <td>0.027850</td>\n",
       "      <td>-0.354304</td>\n",
       "      <td>0.036853</td>\n",
       "      <td>0.014228</td>\n",
       "      <td>0.021137</td>\n",
       "      <td>0.229365</td>\n",
       "      <td>-0.047727</td>\n",
       "      <td>0.083126</td>\n",
       "      <td>0.086360</td>\n",
       "      <td>...</td>\n",
       "      <td>0.387961</td>\n",
       "      <td>0.224880</td>\n",
       "      <td>0.188686</td>\n",
       "      <td>-0.387268</td>\n",
       "      <td>-0.227769</td>\n",
       "      <td>0.012398</td>\n",
       "      <td>-0.013618</td>\n",
       "      <td>0.160709</td>\n",
       "      <td>0.290899</td>\n",
       "      <td>0.522897</td>\n",
       "    </tr>\n",
       "    <tr>\n",
       "      <th>YearRemodAdd</th>\n",
       "      <td>-0.021998</td>\n",
       "      <td>0.040581</td>\n",
       "      <td>-0.192655</td>\n",
       "      <td>0.078686</td>\n",
       "      <td>0.013788</td>\n",
       "      <td>0.065465</td>\n",
       "      <td>0.175488</td>\n",
       "      <td>-0.025487</td>\n",
       "      <td>0.075829</td>\n",
       "      <td>0.085132</td>\n",
       "      <td>...</td>\n",
       "      <td>0.133838</td>\n",
       "      <td>0.205726</td>\n",
       "      <td>0.226298</td>\n",
       "      <td>-0.193919</td>\n",
       "      <td>-0.164008</td>\n",
       "      <td>0.021490</td>\n",
       "      <td>0.035743</td>\n",
       "      <td>0.109087</td>\n",
       "      <td>0.261054</td>\n",
       "      <td>0.507101</td>\n",
       "    </tr>\n",
       "    <tr>\n",
       "      <th>RoofStyle</th>\n",
       "      <td>0.038675</td>\n",
       "      <td>-0.117817</td>\n",
       "      <td>-0.013208</td>\n",
       "      <td>0.121161</td>\n",
       "      <td>0.077054</td>\n",
       "      <td>-0.019732</td>\n",
       "      <td>-0.000738</td>\n",
       "      <td>-0.000249</td>\n",
       "      <td>0.029242</td>\n",
       "      <td>0.106028</td>\n",
       "      <td>...</td>\n",
       "      <td>-0.013904</td>\n",
       "      <td>0.079109</td>\n",
       "      <td>0.005978</td>\n",
       "      <td>-0.014673</td>\n",
       "      <td>-0.000597</td>\n",
       "      <td>0.009767</td>\n",
       "      <td>0.019385</td>\n",
       "      <td>0.026536</td>\n",
       "      <td>0.039655</td>\n",
       "      <td>0.222405</td>\n",
       "    </tr>\n",
       "    <tr>\n",
       "      <th>RoofMatl</th>\n",
       "      <td>-0.022562</td>\n",
       "      <td>-0.031336</td>\n",
       "      <td>-0.002111</td>\n",
       "      <td>0.020938</td>\n",
       "      <td>0.149837</td>\n",
       "      <td>0.008081</td>\n",
       "      <td>0.076809</td>\n",
       "      <td>0.155767</td>\n",
       "      <td>0.043177</td>\n",
       "      <td>-0.005391</td>\n",
       "      <td>...</td>\n",
       "      <td>0.032243</td>\n",
       "      <td>0.120554</td>\n",
       "      <td>0.049440</td>\n",
       "      <td>-0.028918</td>\n",
       "      <td>0.014007</td>\n",
       "      <td>0.034523</td>\n",
       "      <td>-0.029057</td>\n",
       "      <td>-0.030882</td>\n",
       "      <td>-0.012440</td>\n",
       "      <td>0.132383</td>\n",
       "    </tr>\n",
       "    <tr>\n",
       "      <th>Exterior1st</th>\n",
       "      <td>-0.035646</td>\n",
       "      <td>-0.095181</td>\n",
       "      <td>-0.009961</td>\n",
       "      <td>0.097493</td>\n",
       "      <td>0.009333</td>\n",
       "      <td>0.006690</td>\n",
       "      <td>0.041377</td>\n",
       "      <td>-0.018429</td>\n",
       "      <td>-0.022202</td>\n",
       "      <td>-0.091516</td>\n",
       "      <td>...</td>\n",
       "      <td>-0.061816</td>\n",
       "      <td>0.047826</td>\n",
       "      <td>0.086037</td>\n",
       "      <td>-0.026071</td>\n",
       "      <td>-0.125956</td>\n",
       "      <td>-0.007423</td>\n",
       "      <td>-0.038488</td>\n",
       "      <td>0.024089</td>\n",
       "      <td>0.125473</td>\n",
       "      <td>0.119614</td>\n",
       "    </tr>\n",
       "    <tr>\n",
       "      <th>MasVnrType</th>\n",
       "      <td>-0.028211</td>\n",
       "      <td>0.026401</td>\n",
       "      <td>-0.065848</td>\n",
       "      <td>0.029400</td>\n",
       "      <td>0.030547</td>\n",
       "      <td>0.009091</td>\n",
       "      <td>0.047904</td>\n",
       "      <td>-0.060216</td>\n",
       "      <td>0.036367</td>\n",
       "      <td>0.051740</td>\n",
       "      <td>...</td>\n",
       "      <td>0.193051</td>\n",
       "      <td>0.143384</td>\n",
       "      <td>0.109848</td>\n",
       "      <td>-0.156916</td>\n",
       "      <td>-0.071449</td>\n",
       "      <td>0.020003</td>\n",
       "      <td>-0.003853</td>\n",
       "      <td>0.082312</td>\n",
       "      <td>0.140791</td>\n",
       "      <td>0.367456</td>\n",
       "    </tr>\n",
       "    <tr>\n",
       "      <th>ExterQual</th>\n",
       "      <td>-0.005039</td>\n",
       "      <td>-0.016178</td>\n",
       "      <td>0.218443</td>\n",
       "      <td>-0.127864</td>\n",
       "      <td>-0.055570</td>\n",
       "      <td>-0.100247</td>\n",
       "      <td>-0.188668</td>\n",
       "      <td>0.043855</td>\n",
       "      <td>-0.051383</td>\n",
       "      <td>-0.127226</td>\n",
       "      <td>...</td>\n",
       "      <td>-0.191633</td>\n",
       "      <td>-0.207932</td>\n",
       "      <td>-0.291553</td>\n",
       "      <td>0.149589</td>\n",
       "      <td>0.254953</td>\n",
       "      <td>-0.042790</td>\n",
       "      <td>0.006745</td>\n",
       "      <td>-0.176626</td>\n",
       "      <td>-0.321586</td>\n",
       "      <td>-0.682639</td>\n",
       "    </tr>\n",
       "    <tr>\n",
       "      <th>Foundation</th>\n",
       "      <td>0.008514</td>\n",
       "      <td>0.058126</td>\n",
       "      <td>-0.257779</td>\n",
       "      <td>0.046889</td>\n",
       "      <td>-0.011081</td>\n",
       "      <td>0.035277</td>\n",
       "      <td>0.154208</td>\n",
       "      <td>-0.006996</td>\n",
       "      <td>0.062417</td>\n",
       "      <td>0.044955</td>\n",
       "      <td>...</td>\n",
       "      <td>0.160472</td>\n",
       "      <td>0.140946</td>\n",
       "      <td>0.158376</td>\n",
       "      <td>-0.207263</td>\n",
       "      <td>-0.183896</td>\n",
       "      <td>-0.001892</td>\n",
       "      <td>0.009058</td>\n",
       "      <td>0.085999</td>\n",
       "      <td>0.204467</td>\n",
       "      <td>0.382479</td>\n",
       "    </tr>\n",
       "    <tr>\n",
       "      <th>BsmtQual</th>\n",
       "      <td>0.004431</td>\n",
       "      <td>-0.015439</td>\n",
       "      <td>-0.009595</td>\n",
       "      <td>0.012710</td>\n",
       "      <td>0.019733</td>\n",
       "      <td>-0.010358</td>\n",
       "      <td>0.068161</td>\n",
       "      <td>-0.008138</td>\n",
       "      <td>0.013574</td>\n",
       "      <td>0.037828</td>\n",
       "      <td>...</td>\n",
       "      <td>0.139875</td>\n",
       "      <td>0.090401</td>\n",
       "      <td>0.077408</td>\n",
       "      <td>0.003588</td>\n",
       "      <td>0.034504</td>\n",
       "      <td>0.009531</td>\n",
       "      <td>-0.028943</td>\n",
       "      <td>0.019575</td>\n",
       "      <td>0.028196</td>\n",
       "      <td>0.152829</td>\n",
       "    </tr>\n",
       "    <tr>\n",
       "      <th>BsmtFinSF1</th>\n",
       "      <td>-0.005024</td>\n",
       "      <td>-0.069836</td>\n",
       "      <td>-0.079203</td>\n",
       "      <td>0.076670</td>\n",
       "      <td>0.214103</td>\n",
       "      <td>-0.015643</td>\n",
       "      <td>0.157718</td>\n",
       "      <td>0.106354</td>\n",
       "      <td>0.065869</td>\n",
       "      <td>0.102401</td>\n",
       "      <td>...</td>\n",
       "      <td>0.172084</td>\n",
       "      <td>0.204306</td>\n",
       "      <td>0.111761</td>\n",
       "      <td>-0.102303</td>\n",
       "      <td>-0.013797</td>\n",
       "      <td>-0.015727</td>\n",
       "      <td>0.014359</td>\n",
       "      <td>0.013522</td>\n",
       "      <td>0.041445</td>\n",
       "      <td>0.386420</td>\n",
       "    </tr>\n",
       "    <tr>\n",
       "      <th>BsmtFinSF2</th>\n",
       "      <td>-0.005968</td>\n",
       "      <td>-0.065649</td>\n",
       "      <td>0.015345</td>\n",
       "      <td>-0.009312</td>\n",
       "      <td>0.111170</td>\n",
       "      <td>-0.038487</td>\n",
       "      <td>0.060419</td>\n",
       "      <td>0.019840</td>\n",
       "      <td>0.010789</td>\n",
       "      <td>0.048321</td>\n",
       "      <td>...</td>\n",
       "      <td>0.053658</td>\n",
       "      <td>0.067898</td>\n",
       "      <td>0.003093</td>\n",
       "      <td>0.036543</td>\n",
       "      <td>0.122199</td>\n",
       "      <td>-0.015211</td>\n",
       "      <td>0.031706</td>\n",
       "      <td>-0.033724</td>\n",
       "      <td>-0.081437</td>\n",
       "      <td>-0.011378</td>\n",
       "    </tr>\n",
       "    <tr>\n",
       "      <th>BsmtUnfSF</th>\n",
       "      <td>-0.007940</td>\n",
       "      <td>-0.140759</td>\n",
       "      <td>-0.049077</td>\n",
       "      <td>0.160829</td>\n",
       "      <td>-0.002618</td>\n",
       "      <td>0.035229</td>\n",
       "      <td>0.014179</td>\n",
       "      <td>-0.058091</td>\n",
       "      <td>-0.028162</td>\n",
       "      <td>0.006599</td>\n",
       "      <td>...</td>\n",
       "      <td>-0.003265</td>\n",
       "      <td>-0.005316</td>\n",
       "      <td>0.129005</td>\n",
       "      <td>-0.002538</td>\n",
       "      <td>-0.148650</td>\n",
       "      <td>0.034888</td>\n",
       "      <td>-0.041258</td>\n",
       "      <td>0.146274</td>\n",
       "      <td>0.225889</td>\n",
       "      <td>0.214479</td>\n",
       "    </tr>\n",
       "    <tr>\n",
       "      <th>TotalBsmtSF</th>\n",
       "      <td>-0.015415</td>\n",
       "      <td>-0.238518</td>\n",
       "      <td>-0.126132</td>\n",
       "      <td>0.238274</td>\n",
       "      <td>0.260833</td>\n",
       "      <td>0.005068</td>\n",
       "      <td>0.200469</td>\n",
       "      <td>0.059356</td>\n",
       "      <td>0.044083</td>\n",
       "      <td>0.130876</td>\n",
       "      <td>...</td>\n",
       "      <td>0.195349</td>\n",
       "      <td>0.232019</td>\n",
       "      <td>0.247264</td>\n",
       "      <td>-0.095478</td>\n",
       "      <td>-0.119131</td>\n",
       "      <td>0.013196</td>\n",
       "      <td>-0.014969</td>\n",
       "      <td>0.148985</td>\n",
       "      <td>0.240659</td>\n",
       "      <td>0.613581</td>\n",
       "    </tr>\n",
       "    <tr>\n",
       "      <th>Heating</th>\n",
       "      <td>0.042120</td>\n",
       "      <td>0.048009</td>\n",
       "      <td>0.064751</td>\n",
       "      <td>0.007434</td>\n",
       "      <td>0.028158</td>\n",
       "      <td>0.007904</td>\n",
       "      <td>-0.062361</td>\n",
       "      <td>-0.018524</td>\n",
       "      <td>-0.027238</td>\n",
       "      <td>-0.015896</td>\n",
       "      <td>...</td>\n",
       "      <td>-0.122911</td>\n",
       "      <td>-0.075543</td>\n",
       "      <td>-0.025272</td>\n",
       "      <td>0.074075</td>\n",
       "      <td>-0.007071</td>\n",
       "      <td>-0.013797</td>\n",
       "      <td>0.011830</td>\n",
       "      <td>-0.008471</td>\n",
       "      <td>-0.039131</td>\n",
       "      <td>-0.098812</td>\n",
       "    </tr>\n",
       "    <tr>\n",
       "      <th>CentralAir</th>\n",
       "      <td>0.009821</td>\n",
       "      <td>-0.101774</td>\n",
       "      <td>-0.089824</td>\n",
       "      <td>-0.011683</td>\n",
       "      <td>0.049755</td>\n",
       "      <td>0.069869</td>\n",
       "      <td>0.099138</td>\n",
       "      <td>-0.029159</td>\n",
       "      <td>0.055891</td>\n",
       "      <td>0.049233</td>\n",
       "      <td>...</td>\n",
       "      <td>0.324957</td>\n",
       "      <td>0.145973</td>\n",
       "      <td>0.025858</td>\n",
       "      <td>-0.156913</td>\n",
       "      <td>0.016090</td>\n",
       "      <td>0.009846</td>\n",
       "      <td>-0.009420</td>\n",
       "      <td>0.003225</td>\n",
       "      <td>0.057073</td>\n",
       "      <td>0.251328</td>\n",
       "    </tr>\n",
       "    <tr>\n",
       "      <th>1stFlrSF</th>\n",
       "      <td>0.010496</td>\n",
       "      <td>-0.251758</td>\n",
       "      <td>-0.100095</td>\n",
       "      <td>0.245181</td>\n",
       "      <td>0.299475</td>\n",
       "      <td>0.005950</td>\n",
       "      <td>0.189251</td>\n",
       "      <td>0.074732</td>\n",
       "      <td>0.049946</td>\n",
       "      <td>0.152415</td>\n",
       "      <td>...</td>\n",
       "      <td>0.150179</td>\n",
       "      <td>0.235459</td>\n",
       "      <td>0.211671</td>\n",
       "      <td>-0.065292</td>\n",
       "      <td>-0.080221</td>\n",
       "      <td>0.031372</td>\n",
       "      <td>-0.013604</td>\n",
       "      <td>0.140747</td>\n",
       "      <td>0.221266</td>\n",
       "      <td>0.605852</td>\n",
       "    </tr>\n",
       "    <tr>\n",
       "      <th>2ndFlrSF</th>\n",
       "      <td>0.005590</td>\n",
       "      <td>0.307886</td>\n",
       "      <td>-0.038442</td>\n",
       "      <td>0.042549</td>\n",
       "      <td>0.050986</td>\n",
       "      <td>0.046983</td>\n",
       "      <td>0.089380</td>\n",
       "      <td>-0.011758</td>\n",
       "      <td>0.031546</td>\n",
       "      <td>0.017902</td>\n",
       "      <td>...</td>\n",
       "      <td>-0.038613</td>\n",
       "      <td>0.092165</td>\n",
       "      <td>0.208026</td>\n",
       "      <td>0.061989</td>\n",
       "      <td>-0.065253</td>\n",
       "      <td>0.035164</td>\n",
       "      <td>-0.028700</td>\n",
       "      <td>-0.036594</td>\n",
       "      <td>-0.014003</td>\n",
       "      <td>0.319334</td>\n",
       "    </tr>\n",
       "    <tr>\n",
       "      <th>GrLivArea</th>\n",
       "      <td>0.008273</td>\n",
       "      <td>0.074853</td>\n",
       "      <td>-0.102811</td>\n",
       "      <td>0.220347</td>\n",
       "      <td>0.263116</td>\n",
       "      <td>0.044121</td>\n",
       "      <td>0.212741</td>\n",
       "      <td>0.046707</td>\n",
       "      <td>0.060729</td>\n",
       "      <td>0.130074</td>\n",
       "      <td>...</td>\n",
       "      <td>0.073637</td>\n",
       "      <td>0.247433</td>\n",
       "      <td>0.330224</td>\n",
       "      <td>0.009113</td>\n",
       "      <td>-0.108896</td>\n",
       "      <td>0.050240</td>\n",
       "      <td>-0.036526</td>\n",
       "      <td>0.073069</td>\n",
       "      <td>0.148411</td>\n",
       "      <td>0.708624</td>\n",
       "    </tr>\n",
       "    <tr>\n",
       "      <th>BsmtFullBath</th>\n",
       "      <td>0.002289</td>\n",
       "      <td>0.003491</td>\n",
       "      <td>-0.041107</td>\n",
       "      <td>0.010514</td>\n",
       "      <td>0.158155</td>\n",
       "      <td>-0.050524</td>\n",
       "      <td>0.064638</td>\n",
       "      <td>0.086528</td>\n",
       "      <td>0.027993</td>\n",
       "      <td>0.052607</td>\n",
       "      <td>...</td>\n",
       "      <td>0.100362</td>\n",
       "      <td>0.175315</td>\n",
       "      <td>0.067341</td>\n",
       "      <td>-0.049911</td>\n",
       "      <td>0.028397</td>\n",
       "      <td>-0.025361</td>\n",
       "      <td>0.067049</td>\n",
       "      <td>-0.017898</td>\n",
       "      <td>-0.013915</td>\n",
       "      <td>0.227122</td>\n",
       "    </tr>\n",
       "    <tr>\n",
       "      <th>FullBath</th>\n",
       "      <td>0.005587</td>\n",
       "      <td>0.131608</td>\n",
       "      <td>-0.219769</td>\n",
       "      <td>0.120548</td>\n",
       "      <td>0.126031</td>\n",
       "      <td>0.046471</td>\n",
       "      <td>0.184213</td>\n",
       "      <td>-0.033094</td>\n",
       "      <td>0.060221</td>\n",
       "      <td>0.131503</td>\n",
       "      <td>...</td>\n",
       "      <td>0.107849</td>\n",
       "      <td>0.187703</td>\n",
       "      <td>0.259977</td>\n",
       "      <td>-0.115093</td>\n",
       "      <td>-0.213837</td>\n",
       "      <td>0.055872</td>\n",
       "      <td>-0.019669</td>\n",
       "      <td>0.101276</td>\n",
       "      <td>0.206360</td>\n",
       "      <td>0.560664</td>\n",
       "    </tr>\n",
       "    <tr>\n",
       "      <th>HalfBath</th>\n",
       "      <td>0.006784</td>\n",
       "      <td>0.177354</td>\n",
       "      <td>-0.146414</td>\n",
       "      <td>-0.012952</td>\n",
       "      <td>0.014259</td>\n",
       "      <td>0.027628</td>\n",
       "      <td>0.116576</td>\n",
       "      <td>-0.019684</td>\n",
       "      <td>0.040901</td>\n",
       "      <td>0.055057</td>\n",
       "      <td>...</td>\n",
       "      <td>0.104569</td>\n",
       "      <td>0.108080</td>\n",
       "      <td>0.199740</td>\n",
       "      <td>-0.095317</td>\n",
       "      <td>-0.074609</td>\n",
       "      <td>-0.009050</td>\n",
       "      <td>-0.010269</td>\n",
       "      <td>-0.022048</td>\n",
       "      <td>0.028229</td>\n",
       "      <td>0.284108</td>\n",
       "    </tr>\n",
       "    <tr>\n",
       "      <th>BedroomAbvGr</th>\n",
       "      <td>0.037719</td>\n",
       "      <td>-0.023438</td>\n",
       "      <td>-0.035429</td>\n",
       "      <td>0.144494</td>\n",
       "      <td>0.119690</td>\n",
       "      <td>0.028865</td>\n",
       "      <td>0.060028</td>\n",
       "      <td>-0.042673</td>\n",
       "      <td>0.036070</td>\n",
       "      <td>0.045597</td>\n",
       "      <td>...</td>\n",
       "      <td>-0.028009</td>\n",
       "      <td>0.046854</td>\n",
       "      <td>0.093810</td>\n",
       "      <td>0.041570</td>\n",
       "      <td>0.028826</td>\n",
       "      <td>0.046544</td>\n",
       "      <td>-0.036014</td>\n",
       "      <td>-0.035219</td>\n",
       "      <td>-0.030454</td>\n",
       "      <td>0.168213</td>\n",
       "    </tr>\n",
       "    <tr>\n",
       "      <th>KitchenAbvGr</th>\n",
       "      <td>0.002951</td>\n",
       "      <td>0.281721</td>\n",
       "      <td>0.066292</td>\n",
       "      <td>0.034425</td>\n",
       "      <td>-0.017784</td>\n",
       "      <td>0.013583</td>\n",
       "      <td>-0.094870</td>\n",
       "      <td>0.017326</td>\n",
       "      <td>-0.025409</td>\n",
       "      <td>0.066234</td>\n",
       "      <td>...</td>\n",
       "      <td>-0.178532</td>\n",
       "      <td>-0.090130</td>\n",
       "      <td>-0.070091</td>\n",
       "      <td>0.037312</td>\n",
       "      <td>-0.055905</td>\n",
       "      <td>0.026589</td>\n",
       "      <td>0.031687</td>\n",
       "      <td>0.019665</td>\n",
       "      <td>0.019844</td>\n",
       "      <td>-0.135907</td>\n",
       "    </tr>\n",
       "    <tr>\n",
       "      <th>TotRmsAbvGrd</th>\n",
       "      <td>0.027239</td>\n",
       "      <td>0.040380</td>\n",
       "      <td>-0.062949</td>\n",
       "      <td>0.221396</td>\n",
       "      <td>0.190015</td>\n",
       "      <td>0.046828</td>\n",
       "      <td>0.137148</td>\n",
       "      <td>0.001164</td>\n",
       "      <td>0.026809</td>\n",
       "      <td>0.097084</td>\n",
       "      <td>...</td>\n",
       "      <td>-0.009460</td>\n",
       "      <td>0.165984</td>\n",
       "      <td>0.234192</td>\n",
       "      <td>0.004151</td>\n",
       "      <td>-0.066833</td>\n",
       "      <td>0.036907</td>\n",
       "      <td>-0.034516</td>\n",
       "      <td>0.081418</td>\n",
       "      <td>0.146314</td>\n",
       "      <td>0.533723</td>\n",
       "    </tr>\n",
       "    <tr>\n",
       "      <th>Fireplaces</th>\n",
       "      <td>-0.019772</td>\n",
       "      <td>-0.045569</td>\n",
       "      <td>-0.046976</td>\n",
       "      <td>0.044018</td>\n",
       "      <td>0.271364</td>\n",
       "      <td>-0.005348</td>\n",
       "      <td>0.202019</td>\n",
       "      <td>0.090932</td>\n",
       "      <td>0.043008</td>\n",
       "      <td>0.053633</td>\n",
       "      <td>...</td>\n",
       "      <td>0.151006</td>\n",
       "      <td>0.200019</td>\n",
       "      <td>0.169405</td>\n",
       "      <td>-0.024822</td>\n",
       "      <td>-0.041131</td>\n",
       "      <td>0.046357</td>\n",
       "      <td>-0.024096</td>\n",
       "      <td>-0.003043</td>\n",
       "      <td>0.042477</td>\n",
       "      <td>0.466929</td>\n",
       "    </tr>\n",
       "    <tr>\n",
       "      <th>GarageType</th>\n",
       "      <td>0.013506</td>\n",
       "      <td>-0.085357</td>\n",
       "      <td>-0.079040</td>\n",
       "      <td>0.017052</td>\n",
       "      <td>0.074015</td>\n",
       "      <td>0.031202</td>\n",
       "      <td>0.082581</td>\n",
       "      <td>-0.034373</td>\n",
       "      <td>0.037659</td>\n",
       "      <td>0.085645</td>\n",
       "      <td>...</td>\n",
       "      <td>0.335986</td>\n",
       "      <td>0.105785</td>\n",
       "      <td>0.038375</td>\n",
       "      <td>-0.061789</td>\n",
       "      <td>-0.003114</td>\n",
       "      <td>0.018904</td>\n",
       "      <td>-0.011097</td>\n",
       "      <td>-0.029036</td>\n",
       "      <td>0.028725</td>\n",
       "      <td>0.236832</td>\n",
       "    </tr>\n",
       "    <tr>\n",
       "      <th>PavedDrive</th>\n",
       "      <td>0.012730</td>\n",
       "      <td>-0.069317</td>\n",
       "      <td>-0.123671</td>\n",
       "      <td>0.015951</td>\n",
       "      <td>0.019325</td>\n",
       "      <td>0.028051</td>\n",
       "      <td>0.091683</td>\n",
       "      <td>-0.038960</td>\n",
       "      <td>0.060699</td>\n",
       "      <td>0.029539</td>\n",
       "      <td>...</td>\n",
       "      <td>1.000000</td>\n",
       "      <td>0.106077</td>\n",
       "      <td>0.021474</td>\n",
       "      <td>-0.184679</td>\n",
       "      <td>-0.019346</td>\n",
       "      <td>0.018938</td>\n",
       "      <td>0.000896</td>\n",
       "      <td>-0.003878</td>\n",
       "      <td>0.056770</td>\n",
       "      <td>0.212630</td>\n",
       "    </tr>\n",
       "    <tr>\n",
       "      <th>WoodDeckSF</th>\n",
       "      <td>-0.029643</td>\n",
       "      <td>-0.012579</td>\n",
       "      <td>-0.034925</td>\n",
       "      <td>-0.016780</td>\n",
       "      <td>0.171698</td>\n",
       "      <td>-0.017990</td>\n",
       "      <td>0.161717</td>\n",
       "      <td>0.085489</td>\n",
       "      <td>0.056153</td>\n",
       "      <td>0.049313</td>\n",
       "      <td>...</td>\n",
       "      <td>0.106077</td>\n",
       "      <td>1.000000</td>\n",
       "      <td>0.058661</td>\n",
       "      <td>-0.125989</td>\n",
       "      <td>0.036014</td>\n",
       "      <td>0.021011</td>\n",
       "      <td>0.022270</td>\n",
       "      <td>-0.034890</td>\n",
       "      <td>0.004030</td>\n",
       "      <td>0.324413</td>\n",
       "    </tr>\n",
       "    <tr>\n",
       "      <th>OpenPorchSF</th>\n",
       "      <td>-0.000477</td>\n",
       "      <td>-0.006100</td>\n",
       "      <td>-0.149214</td>\n",
       "      <td>0.069605</td>\n",
       "      <td>0.084774</td>\n",
       "      <td>-0.005664</td>\n",
       "      <td>0.093135</td>\n",
       "      <td>-0.035868</td>\n",
       "      <td>0.058469</td>\n",
       "      <td>0.141072</td>\n",
       "      <td>...</td>\n",
       "      <td>0.021474</td>\n",
       "      <td>0.058661</td>\n",
       "      <td>1.000000</td>\n",
       "      <td>-0.093079</td>\n",
       "      <td>-0.060319</td>\n",
       "      <td>0.071255</td>\n",
       "      <td>-0.057619</td>\n",
       "      <td>0.063320</td>\n",
       "      <td>0.138717</td>\n",
       "      <td>0.315856</td>\n",
       "    </tr>\n",
       "    <tr>\n",
       "      <th>EnclosedPorch</th>\n",
       "      <td>0.002889</td>\n",
       "      <td>-0.012037</td>\n",
       "      <td>0.142978</td>\n",
       "      <td>0.027366</td>\n",
       "      <td>-0.018340</td>\n",
       "      <td>0.023082</td>\n",
       "      <td>-0.095092</td>\n",
       "      <td>0.000082</td>\n",
       "      <td>-0.021271</td>\n",
       "      <td>0.028032</td>\n",
       "      <td>...</td>\n",
       "      <td>-0.184679</td>\n",
       "      <td>-0.125989</td>\n",
       "      <td>-0.093079</td>\n",
       "      <td>1.000000</td>\n",
       "      <td>0.070005</td>\n",
       "      <td>-0.028887</td>\n",
       "      <td>-0.009916</td>\n",
       "      <td>-0.025910</td>\n",
       "      <td>-0.087405</td>\n",
       "      <td>-0.128578</td>\n",
       "    </tr>\n",
       "    <tr>\n",
       "      <th>Fence</th>\n",
       "      <td>-0.006672</td>\n",
       "      <td>-0.103870</td>\n",
       "      <td>0.065184</td>\n",
       "      <td>0.008265</td>\n",
       "      <td>-0.046566</td>\n",
       "      <td>0.031361</td>\n",
       "      <td>-0.076734</td>\n",
       "      <td>-0.074957</td>\n",
       "      <td>-0.004537</td>\n",
       "      <td>-0.005450</td>\n",
       "      <td>...</td>\n",
       "      <td>-0.019346</td>\n",
       "      <td>0.036014</td>\n",
       "      <td>-0.060319</td>\n",
       "      <td>0.070005</td>\n",
       "      <td>1.000000</td>\n",
       "      <td>0.002919</td>\n",
       "      <td>0.040270</td>\n",
       "      <td>-0.065786</td>\n",
       "      <td>-0.116157</td>\n",
       "      <td>-0.172184</td>\n",
       "    </tr>\n",
       "    <tr>\n",
       "      <th>MoSold</th>\n",
       "      <td>0.021172</td>\n",
       "      <td>-0.013585</td>\n",
       "      <td>-0.027408</td>\n",
       "      <td>0.018942</td>\n",
       "      <td>0.001205</td>\n",
       "      <td>0.003690</td>\n",
       "      <td>0.026617</td>\n",
       "      <td>0.053402</td>\n",
       "      <td>-0.024821</td>\n",
       "      <td>0.020655</td>\n",
       "      <td>...</td>\n",
       "      <td>0.018938</td>\n",
       "      <td>0.021011</td>\n",
       "      <td>0.071255</td>\n",
       "      <td>-0.028887</td>\n",
       "      <td>0.002919</td>\n",
       "      <td>1.000000</td>\n",
       "      <td>-0.145721</td>\n",
       "      <td>0.075669</td>\n",
       "      <td>0.085988</td>\n",
       "      <td>0.046432</td>\n",
       "    </tr>\n",
       "    <tr>\n",
       "      <th>YrSold</th>\n",
       "      <td>0.000712</td>\n",
       "      <td>-0.021407</td>\n",
       "      <td>-0.021577</td>\n",
       "      <td>-0.012094</td>\n",
       "      <td>-0.014261</td>\n",
       "      <td>-0.025043</td>\n",
       "      <td>-0.037391</td>\n",
       "      <td>-0.025586</td>\n",
       "      <td>0.011358</td>\n",
       "      <td>0.037307</td>\n",
       "      <td>...</td>\n",
       "      <td>0.000896</td>\n",
       "      <td>0.022270</td>\n",
       "      <td>-0.057619</td>\n",
       "      <td>-0.009916</td>\n",
       "      <td>0.040270</td>\n",
       "      <td>-0.145721</td>\n",
       "      <td>1.000000</td>\n",
       "      <td>-0.049805</td>\n",
       "      <td>-0.143568</td>\n",
       "      <td>-0.028923</td>\n",
       "    </tr>\n",
       "    <tr>\n",
       "      <th>SaleType</th>\n",
       "      <td>-0.028774</td>\n",
       "      <td>-0.001284</td>\n",
       "      <td>-0.128129</td>\n",
       "      <td>0.106616</td>\n",
       "      <td>-0.004436</td>\n",
       "      <td>-0.039577</td>\n",
       "      <td>0.008355</td>\n",
       "      <td>-0.005699</td>\n",
       "      <td>-0.003995</td>\n",
       "      <td>0.055024</td>\n",
       "      <td>...</td>\n",
       "      <td>-0.003878</td>\n",
       "      <td>-0.034890</td>\n",
       "      <td>0.063320</td>\n",
       "      <td>-0.025910</td>\n",
       "      <td>-0.065786</td>\n",
       "      <td>0.075669</td>\n",
       "      <td>-0.049805</td>\n",
       "      <td>1.000000</td>\n",
       "      <td>0.544571</td>\n",
       "      <td>0.150948</td>\n",
       "    </tr>\n",
       "    <tr>\n",
       "      <th>SaleCondition</th>\n",
       "      <td>-0.021060</td>\n",
       "      <td>-0.040614</td>\n",
       "      <td>-0.156019</td>\n",
       "      <td>0.180021</td>\n",
       "      <td>0.013773</td>\n",
       "      <td>0.003580</td>\n",
       "      <td>0.027139</td>\n",
       "      <td>0.024687</td>\n",
       "      <td>-0.039630</td>\n",
       "      <td>0.104545</td>\n",
       "      <td>...</td>\n",
       "      <td>0.056770</td>\n",
       "      <td>0.004030</td>\n",
       "      <td>0.138717</td>\n",
       "      <td>-0.087405</td>\n",
       "      <td>-0.116157</td>\n",
       "      <td>0.085988</td>\n",
       "      <td>-0.143568</td>\n",
       "      <td>0.544571</td>\n",
       "      <td>1.000000</td>\n",
       "      <td>0.292568</td>\n",
       "    </tr>\n",
       "    <tr>\n",
       "      <th>SalePrice</th>\n",
       "      <td>-0.021917</td>\n",
       "      <td>-0.084284</td>\n",
       "      <td>-0.207122</td>\n",
       "      <td>0.209624</td>\n",
       "      <td>0.263843</td>\n",
       "      <td>0.041036</td>\n",
       "      <td>0.267759</td>\n",
       "      <td>0.073042</td>\n",
       "      <td>0.092316</td>\n",
       "      <td>0.178883</td>\n",
       "      <td>...</td>\n",
       "      <td>0.212630</td>\n",
       "      <td>0.324413</td>\n",
       "      <td>0.315856</td>\n",
       "      <td>-0.128578</td>\n",
       "      <td>-0.172184</td>\n",
       "      <td>0.046432</td>\n",
       "      <td>-0.028923</td>\n",
       "      <td>0.150948</td>\n",
       "      <td>0.292568</td>\n",
       "      <td>1.000000</td>\n",
       "    </tr>\n",
       "  </tbody>\n",
       "</table>\n",
       "<p>51 rows × 51 columns</p>\n",
       "</div>"
      ],
      "text/plain": [
       "                     Id  MSSubClass  MSZoning  LotFrontage   LotArea  \\\n",
       "Id             1.000000    0.011156 -0.010358    -0.019761 -0.033226   \n",
       "MSSubClass     0.011156    1.000000  0.082363    -0.215023 -0.139781   \n",
       "MSZoning      -0.010358    0.082363  1.000000    -0.066741 -0.062550   \n",
       "LotFrontage   -0.019761   -0.215023 -0.066741     1.000000  0.100739   \n",
       "LotArea       -0.033226   -0.139781 -0.062550     0.100739  1.000000   \n",
       "Street         0.008916   -0.024969  0.068933    -0.025107 -0.197131   \n",
       "LotShape      -0.024071   -0.115361 -0.095840    -0.113294  0.315484   \n",
       "LandContour    0.008332   -0.025090 -0.028339    -0.000258  0.339008   \n",
       "LotConfig     -0.014160   -0.037573 -0.026189    -0.136281  0.131099   \n",
       "Neighborhood  -0.009344   -0.009114 -0.239398     0.054539  0.042212   \n",
       "Condition1    -0.018209   -0.041052 -0.042126    -0.052812  0.038311   \n",
       "BldgType       0.019230    0.770840  0.056063    -0.245716 -0.211111   \n",
       "HouseStyle     0.027988    0.469623 -0.001012    -0.055911 -0.029586   \n",
       "OverallQual   -0.028365    0.032628 -0.186082     0.176561  0.105806   \n",
       "OverallCond    0.012609   -0.059316  0.192672    -0.053457 -0.005636   \n",
       "YearBuilt     -0.012713    0.027850 -0.354304     0.036853  0.014228   \n",
       "YearRemodAdd  -0.021998    0.040581 -0.192655     0.078686  0.013788   \n",
       "RoofStyle      0.038675   -0.117817 -0.013208     0.121161  0.077054   \n",
       "RoofMatl      -0.022562   -0.031336 -0.002111     0.020938  0.149837   \n",
       "Exterior1st   -0.035646   -0.095181 -0.009961     0.097493  0.009333   \n",
       "MasVnrType    -0.028211    0.026401 -0.065848     0.029400  0.030547   \n",
       "ExterQual     -0.005039   -0.016178  0.218443    -0.127864 -0.055570   \n",
       "Foundation     0.008514    0.058126 -0.257779     0.046889 -0.011081   \n",
       "BsmtQual       0.004431   -0.015439 -0.009595     0.012710  0.019733   \n",
       "BsmtFinSF1    -0.005024   -0.069836 -0.079203     0.076670  0.214103   \n",
       "BsmtFinSF2    -0.005968   -0.065649  0.015345    -0.009312  0.111170   \n",
       "BsmtUnfSF     -0.007940   -0.140759 -0.049077     0.160829 -0.002618   \n",
       "TotalBsmtSF   -0.015415   -0.238518 -0.126132     0.238274  0.260833   \n",
       "Heating        0.042120    0.048009  0.064751     0.007434  0.028158   \n",
       "CentralAir     0.009821   -0.101774 -0.089824    -0.011683  0.049755   \n",
       "1stFlrSF       0.010496   -0.251758 -0.100095     0.245181  0.299475   \n",
       "2ndFlrSF       0.005590    0.307886 -0.038442     0.042549  0.050986   \n",
       "GrLivArea      0.008273    0.074853 -0.102811     0.220347  0.263116   \n",
       "BsmtFullBath   0.002289    0.003491 -0.041107     0.010514  0.158155   \n",
       "FullBath       0.005587    0.131608 -0.219769     0.120548  0.126031   \n",
       "HalfBath       0.006784    0.177354 -0.146414    -0.012952  0.014259   \n",
       "BedroomAbvGr   0.037719   -0.023438 -0.035429     0.144494  0.119690   \n",
       "KitchenAbvGr   0.002951    0.281721  0.066292     0.034425 -0.017784   \n",
       "TotRmsAbvGrd   0.027239    0.040380 -0.062949     0.221396  0.190015   \n",
       "Fireplaces    -0.019772   -0.045569 -0.046976     0.044018  0.271364   \n",
       "GarageType     0.013506   -0.085357 -0.079040     0.017052  0.074015   \n",
       "PavedDrive     0.012730   -0.069317 -0.123671     0.015951  0.019325   \n",
       "WoodDeckSF    -0.029643   -0.012579 -0.034925    -0.016780  0.171698   \n",
       "OpenPorchSF   -0.000477   -0.006100 -0.149214     0.069605  0.084774   \n",
       "EnclosedPorch  0.002889   -0.012037  0.142978     0.027366 -0.018340   \n",
       "Fence         -0.006672   -0.103870  0.065184     0.008265 -0.046566   \n",
       "MoSold         0.021172   -0.013585 -0.027408     0.018942  0.001205   \n",
       "YrSold         0.000712   -0.021407 -0.021577    -0.012094 -0.014261   \n",
       "SaleType      -0.028774   -0.001284 -0.128129     0.106616 -0.004436   \n",
       "SaleCondition -0.021060   -0.040614 -0.156019     0.180021  0.013773   \n",
       "SalePrice     -0.021917   -0.084284 -0.207122     0.209624  0.263843   \n",
       "\n",
       "                 Street  LotShape  LandContour  LotConfig  Neighborhood  ...  \\\n",
       "Id             0.008916 -0.024071     0.008332  -0.014160     -0.009344  ...   \n",
       "MSSubClass    -0.024969 -0.115361    -0.025090  -0.037573     -0.009114  ...   \n",
       "MSZoning       0.068933 -0.095840    -0.028339  -0.026189     -0.239398  ...   \n",
       "LotFrontage   -0.025107 -0.113294    -0.000258  -0.136281      0.054539  ...   \n",
       "LotArea       -0.197131  0.315484     0.339008   0.131099      0.042212  ...   \n",
       "Street         1.000000 -0.010129    -0.103943   0.006905     -0.011587  ...   \n",
       "LotShape      -0.010129  1.000000     0.204499   0.276675      0.014052  ...   \n",
       "LandContour   -0.103943  0.204499     1.000000   0.010440     -0.048536  ...   \n",
       "LotConfig      0.006905  0.276675     0.010440   1.000000      0.040189  ...   \n",
       "Neighborhood  -0.011587  0.014052    -0.048536   0.040189      1.000000  ...   \n",
       "Condition1    -0.009938  0.097331    -0.015893   0.014387      0.021508  ...   \n",
       "BldgType      -0.023392 -0.134373    -0.054451  -0.050002     -0.007185  ...   \n",
       "HouseStyle     0.013011  0.037859    -0.043021   0.051744      0.010604  ...   \n",
       "OverallQual    0.058823  0.198994    -0.001564   0.064471      0.173159  ...   \n",
       "OverallCond    0.042848 -0.033747    -0.007025   0.012098     -0.020564  ...   \n",
       "YearBuilt      0.021137  0.229365    -0.047727   0.083126      0.086360  ...   \n",
       "YearRemodAdd   0.065465  0.175488    -0.025487   0.075829      0.085132  ...   \n",
       "RoofStyle     -0.019732 -0.000738    -0.000249   0.029242      0.106028  ...   \n",
       "RoofMatl       0.008081  0.076809     0.155767   0.043177     -0.005391  ...   \n",
       "Exterior1st    0.006690  0.041377    -0.018429  -0.022202     -0.091516  ...   \n",
       "MasVnrType     0.009091  0.047904    -0.060216   0.036367      0.051740  ...   \n",
       "ExterQual     -0.100247 -0.188668     0.043855  -0.051383     -0.127226  ...   \n",
       "Foundation     0.035277  0.154208    -0.006996   0.062417      0.044955  ...   \n",
       "BsmtQual      -0.010358  0.068161    -0.008138   0.013574      0.037828  ...   \n",
       "BsmtFinSF1    -0.015643  0.157718     0.106354   0.065869      0.102401  ...   \n",
       "BsmtFinSF2    -0.038487  0.060419     0.019840   0.010789      0.048321  ...   \n",
       "BsmtUnfSF      0.035229  0.014179    -0.058091  -0.028162      0.006599  ...   \n",
       "TotalBsmtSF    0.005068  0.200469     0.059356   0.044083      0.130876  ...   \n",
       "Heating        0.007904 -0.062361    -0.018524  -0.027238     -0.015896  ...   \n",
       "CentralAir     0.069869  0.099138    -0.029159   0.055891      0.049233  ...   \n",
       "1stFlrSF       0.005950  0.189251     0.074732   0.049946      0.152415  ...   \n",
       "2ndFlrSF       0.046983  0.089380    -0.011758   0.031546      0.017902  ...   \n",
       "GrLivArea      0.044121  0.212741     0.046707   0.060729      0.130074  ...   \n",
       "BsmtFullBath  -0.050524  0.064638     0.086528   0.027993      0.052607  ...   \n",
       "FullBath       0.046471  0.184213    -0.033094   0.060221      0.131503  ...   \n",
       "HalfBath       0.027628  0.116576    -0.019684   0.040901      0.055057  ...   \n",
       "BedroomAbvGr   0.028865  0.060028    -0.042673   0.036070      0.045597  ...   \n",
       "KitchenAbvGr   0.013583 -0.094870     0.017326  -0.025409      0.066234  ...   \n",
       "TotRmsAbvGrd   0.046828  0.137148     0.001164   0.026809      0.097084  ...   \n",
       "Fireplaces    -0.005348  0.202019     0.090932   0.043008      0.053633  ...   \n",
       "GarageType     0.031202  0.082581    -0.034373   0.037659      0.085645  ...   \n",
       "PavedDrive     0.028051  0.091683    -0.038960   0.060699      0.029539  ...   \n",
       "WoodDeckSF    -0.017990  0.161717     0.085489   0.056153      0.049313  ...   \n",
       "OpenPorchSF   -0.005664  0.093135    -0.035868   0.058469      0.141072  ...   \n",
       "EnclosedPorch  0.023082 -0.095092     0.000082  -0.021271      0.028032  ...   \n",
       "Fence          0.031361 -0.076734    -0.074957  -0.004537     -0.005450  ...   \n",
       "MoSold         0.003690  0.026617     0.053402  -0.024821      0.020655  ...   \n",
       "YrSold        -0.025043 -0.037391    -0.025586   0.011358      0.037307  ...   \n",
       "SaleType      -0.039577  0.008355    -0.005699  -0.003995      0.055024  ...   \n",
       "SaleCondition  0.003580  0.027139     0.024687  -0.039630      0.104545  ...   \n",
       "SalePrice      0.041036  0.267759     0.073042   0.092316      0.178883  ...   \n",
       "\n",
       "               PavedDrive  WoodDeckSF  OpenPorchSF  EnclosedPorch     Fence  \\\n",
       "Id               0.012730   -0.029643    -0.000477       0.002889 -0.006672   \n",
       "MSSubClass      -0.069317   -0.012579    -0.006100      -0.012037 -0.103870   \n",
       "MSZoning        -0.123671   -0.034925    -0.149214       0.142978  0.065184   \n",
       "LotFrontage      0.015951   -0.016780     0.069605       0.027366  0.008265   \n",
       "LotArea          0.019325    0.171698     0.084774      -0.018340 -0.046566   \n",
       "Street           0.028051   -0.017990    -0.005664       0.023082  0.031361   \n",
       "LotShape         0.091683    0.161717     0.093135      -0.095092 -0.076734   \n",
       "LandContour     -0.038960    0.085489    -0.035868       0.000082 -0.074957   \n",
       "LotConfig        0.060699    0.056153     0.058469      -0.021271 -0.004537   \n",
       "Neighborhood     0.029539    0.049313     0.141072       0.028032 -0.005450   \n",
       "Condition1       0.106299    0.049383     0.083364      -0.063261 -0.084412   \n",
       "BldgType         0.037359   -0.032805    -0.056430      -0.116847 -0.147923   \n",
       "HouseStyle       0.016925    0.040113     0.075113       0.029690  0.054239   \n",
       "OverallQual      0.214103    0.238923     0.308819      -0.113937 -0.189639   \n",
       "OverallCond     -0.044082   -0.003334    -0.032589       0.070356  0.170748   \n",
       "YearBuilt        0.387961    0.224880     0.188686      -0.387268 -0.227769   \n",
       "YearRemodAdd     0.133838    0.205726     0.226298      -0.193919 -0.164008   \n",
       "RoofStyle       -0.013904    0.079109     0.005978      -0.014673 -0.000597   \n",
       "RoofMatl         0.032243    0.120554     0.049440      -0.028918  0.014007   \n",
       "Exterior1st     -0.061816    0.047826     0.086037      -0.026071 -0.125956   \n",
       "MasVnrType       0.193051    0.143384     0.109848      -0.156916 -0.071449   \n",
       "ExterQual       -0.191633   -0.207932    -0.291553       0.149589  0.254953   \n",
       "Foundation       0.160472    0.140946     0.158376      -0.207263 -0.183896   \n",
       "BsmtQual         0.139875    0.090401     0.077408       0.003588  0.034504   \n",
       "BsmtFinSF1       0.172084    0.204306     0.111761      -0.102303 -0.013797   \n",
       "BsmtFinSF2       0.053658    0.067898     0.003093       0.036543  0.122199   \n",
       "BsmtUnfSF       -0.003265   -0.005316     0.129005      -0.002538 -0.148650   \n",
       "TotalBsmtSF      0.195349    0.232019     0.247264      -0.095478 -0.119131   \n",
       "Heating         -0.122911   -0.075543    -0.025272       0.074075 -0.007071   \n",
       "CentralAir       0.324957    0.145973     0.025858      -0.156913  0.016090   \n",
       "1stFlrSF         0.150179    0.235459     0.211671      -0.065292 -0.080221   \n",
       "2ndFlrSF        -0.038613    0.092165     0.208026       0.061989 -0.065253   \n",
       "GrLivArea        0.073637    0.247433     0.330224       0.009113 -0.108896   \n",
       "BsmtFullBath     0.100362    0.175315     0.067341      -0.049911  0.028397   \n",
       "FullBath         0.107849    0.187703     0.259977      -0.115093 -0.213837   \n",
       "HalfBath         0.104569    0.108080     0.199740      -0.095317 -0.074609   \n",
       "BedroomAbvGr    -0.028009    0.046854     0.093810       0.041570  0.028826   \n",
       "KitchenAbvGr    -0.178532   -0.090130    -0.070091       0.037312 -0.055905   \n",
       "TotRmsAbvGrd    -0.009460    0.165984     0.234192       0.004151 -0.066833   \n",
       "Fireplaces       0.151006    0.200019     0.169405      -0.024822 -0.041131   \n",
       "GarageType       0.335986    0.105785     0.038375      -0.061789 -0.003114   \n",
       "PavedDrive       1.000000    0.106077     0.021474      -0.184679 -0.019346   \n",
       "WoodDeckSF       0.106077    1.000000     0.058661      -0.125989  0.036014   \n",
       "OpenPorchSF      0.021474    0.058661     1.000000      -0.093079 -0.060319   \n",
       "EnclosedPorch   -0.184679   -0.125989    -0.093079       1.000000  0.070005   \n",
       "Fence           -0.019346    0.036014    -0.060319       0.070005  1.000000   \n",
       "MoSold           0.018938    0.021011     0.071255      -0.028887  0.002919   \n",
       "YrSold           0.000896    0.022270    -0.057619      -0.009916  0.040270   \n",
       "SaleType        -0.003878   -0.034890     0.063320      -0.025910 -0.065786   \n",
       "SaleCondition    0.056770    0.004030     0.138717      -0.087405 -0.116157   \n",
       "SalePrice        0.212630    0.324413     0.315856      -0.128578 -0.172184   \n",
       "\n",
       "                 MoSold    YrSold  SaleType  SaleCondition  SalePrice  \n",
       "Id             0.021172  0.000712 -0.028774      -0.021060  -0.021917  \n",
       "MSSubClass    -0.013585 -0.021407 -0.001284      -0.040614  -0.084284  \n",
       "MSZoning      -0.027408 -0.021577 -0.128129      -0.156019  -0.207122  \n",
       "LotFrontage    0.018942 -0.012094  0.106616       0.180021   0.209624  \n",
       "LotArea        0.001205 -0.014261 -0.004436       0.013773   0.263843  \n",
       "Street         0.003690 -0.025043 -0.039577       0.003580   0.041036  \n",
       "LotShape       0.026617 -0.037391  0.008355       0.027139   0.267759  \n",
       "LandContour    0.053402 -0.025586 -0.005699       0.024687   0.073042  \n",
       "LotConfig     -0.024821  0.011358 -0.003995      -0.039630   0.092316  \n",
       "Neighborhood   0.020655  0.037307  0.055024       0.104545   0.178883  \n",
       "Condition1     0.000148  0.007809  0.023908       0.014706   0.083838  \n",
       "BldgType      -0.022293  0.003661  0.031753       0.013118  -0.112611  \n",
       "HouseStyle     0.026557 -0.022642 -0.072175      -0.060862   0.063547  \n",
       "OverallQual    0.070815 -0.027347  0.134304       0.269625   0.790982  \n",
       "OverallCond   -0.003511  0.043950 -0.159288      -0.168277  -0.077856  \n",
       "YearBuilt      0.012398 -0.013618  0.160709       0.290899   0.522897  \n",
       "YearRemodAdd   0.021490  0.035743  0.109087       0.261054   0.507101  \n",
       "RoofStyle      0.009767  0.019385  0.026536       0.039655   0.222405  \n",
       "RoofMatl       0.034523 -0.029057 -0.030882      -0.012440   0.132383  \n",
       "Exterior1st   -0.007423 -0.038488  0.024089       0.125473   0.119614  \n",
       "MasVnrType     0.020003 -0.003853  0.082312       0.140791   0.367456  \n",
       "ExterQual     -0.042790  0.006745 -0.176626      -0.321586  -0.682639  \n",
       "Foundation    -0.001892  0.009058  0.085999       0.204467   0.382479  \n",
       "BsmtQual       0.009531 -0.028943  0.019575       0.028196   0.152829  \n",
       "BsmtFinSF1    -0.015727  0.014359  0.013522       0.041445   0.386420  \n",
       "BsmtFinSF2    -0.015211  0.031706 -0.033724      -0.081437  -0.011378  \n",
       "BsmtUnfSF      0.034888 -0.041258  0.146274       0.225889   0.214479  \n",
       "TotalBsmtSF    0.013196 -0.014969  0.148985       0.240659   0.613581  \n",
       "Heating       -0.013797  0.011830 -0.008471      -0.039131  -0.098812  \n",
       "CentralAir     0.009846 -0.009420  0.003225       0.057073   0.251328  \n",
       "1stFlrSF       0.031372 -0.013604  0.140747       0.221266   0.605852  \n",
       "2ndFlrSF       0.035164 -0.028700 -0.036594      -0.014003   0.319334  \n",
       "GrLivArea      0.050240 -0.036526  0.073069       0.148411   0.708624  \n",
       "BsmtFullBath  -0.025361  0.067049 -0.017898      -0.013915   0.227122  \n",
       "FullBath       0.055872 -0.019669  0.101276       0.206360   0.560664  \n",
       "HalfBath      -0.009050 -0.010269 -0.022048       0.028229   0.284108  \n",
       "BedroomAbvGr   0.046544 -0.036014 -0.035219      -0.030454   0.168213  \n",
       "KitchenAbvGr   0.026589  0.031687  0.019665       0.019844  -0.135907  \n",
       "TotRmsAbvGrd   0.036907 -0.034516  0.081418       0.146314   0.533723  \n",
       "Fireplaces     0.046357 -0.024096 -0.003043       0.042477   0.466929  \n",
       "GarageType     0.018904 -0.011097 -0.029036       0.028725   0.236832  \n",
       "PavedDrive     0.018938  0.000896 -0.003878       0.056770   0.212630  \n",
       "WoodDeckSF     0.021011  0.022270 -0.034890       0.004030   0.324413  \n",
       "OpenPorchSF    0.071255 -0.057619  0.063320       0.138717   0.315856  \n",
       "EnclosedPorch -0.028887 -0.009916 -0.025910      -0.087405  -0.128578  \n",
       "Fence          0.002919  0.040270 -0.065786      -0.116157  -0.172184  \n",
       "MoSold         1.000000 -0.145721  0.075669       0.085988   0.046432  \n",
       "YrSold        -0.145721  1.000000 -0.049805      -0.143568  -0.028923  \n",
       "SaleType       0.075669 -0.049805  1.000000       0.544571   0.150948  \n",
       "SaleCondition  0.085988 -0.143568  0.544571       1.000000   0.292568  \n",
       "SalePrice      0.046432 -0.028923  0.150948       0.292568   1.000000  \n",
       "\n",
       "[51 rows x 51 columns]"
      ]
     },
     "execution_count": 71,
     "metadata": {},
     "output_type": "execute_result"
    }
   ],
   "source": [
    "#Ahora hay que revisar la correlación que existe entre el precio de la propiedad y el resto de las variables.\n",
    "correlation = df.corr()\n",
    "correlation"
   ]
  },
  {
   "cell_type": "code",
   "execution_count": 72,
   "metadata": {},
   "outputs": [
    {
     "data": {
      "text/plain": [
       "SalePrice        1.000000\n",
       "OverallQual      0.790982\n",
       "GrLivArea        0.708624\n",
       "TotalBsmtSF      0.613581\n",
       "1stFlrSF         0.605852\n",
       "FullBath         0.560664\n",
       "TotRmsAbvGrd     0.533723\n",
       "YearBuilt        0.522897\n",
       "YearRemodAdd     0.507101\n",
       "Fireplaces       0.466929\n",
       "BsmtFinSF1       0.386420\n",
       "Foundation       0.382479\n",
       "MasVnrType       0.367456\n",
       "WoodDeckSF       0.324413\n",
       "2ndFlrSF         0.319334\n",
       "OpenPorchSF      0.315856\n",
       "SaleCondition    0.292568\n",
       "HalfBath         0.284108\n",
       "LotShape         0.267759\n",
       "LotArea          0.263843\n",
       "CentralAir       0.251328\n",
       "GarageType       0.236832\n",
       "BsmtFullBath     0.227122\n",
       "RoofStyle        0.222405\n",
       "BsmtUnfSF        0.214479\n",
       "PavedDrive       0.212630\n",
       "LotFrontage      0.209624\n",
       "Neighborhood     0.178883\n",
       "BedroomAbvGr     0.168213\n",
       "BsmtQual         0.152829\n",
       "SaleType         0.150948\n",
       "RoofMatl         0.132383\n",
       "Exterior1st      0.119614\n",
       "LotConfig        0.092316\n",
       "Condition1       0.083838\n",
       "LandContour      0.073042\n",
       "HouseStyle       0.063547\n",
       "MoSold           0.046432\n",
       "Street           0.041036\n",
       "BsmtFinSF2      -0.011378\n",
       "Id              -0.021917\n",
       "YrSold          -0.028923\n",
       "OverallCond     -0.077856\n",
       "MSSubClass      -0.084284\n",
       "Heating         -0.098812\n",
       "BldgType        -0.112611\n",
       "EnclosedPorch   -0.128578\n",
       "KitchenAbvGr    -0.135907\n",
       "Fence           -0.172184\n",
       "MSZoning        -0.207122\n",
       "ExterQual       -0.682639\n",
       "Name: SalePrice, dtype: float64"
      ]
     },
     "execution_count": 72,
     "metadata": {},
     "output_type": "execute_result"
    }
   ],
   "source": [
    "#El correlograma de arriba muestra la correlación entre todas las variables del dataframe, pero sólo interesa la correlación de el precio de la propiedad con el resto de las variables.\n",
    "corr_price = correlation.loc[\"SalePrice\"].sort_values(ascending=False)\n",
    "corr_price"
   ]
  },
  {
   "cell_type": "code",
   "execution_count": 73,
   "metadata": {},
   "outputs": [
    {
     "data": {
      "text/plain": [
       "Fireplaces       0.466929\n",
       "BsmtFinSF1       0.386420\n",
       "Foundation       0.382479\n",
       "MasVnrType       0.367456\n",
       "WoodDeckSF       0.324413\n",
       "2ndFlrSF         0.319334\n",
       "OpenPorchSF      0.315856\n",
       "SaleCondition    0.292568\n",
       "HalfBath         0.284108\n",
       "LotShape         0.267759\n",
       "LotArea          0.263843\n",
       "CentralAir       0.251328\n",
       "GarageType       0.236832\n",
       "BsmtFullBath     0.227122\n",
       "RoofStyle        0.222405\n",
       "BsmtUnfSF        0.214479\n",
       "PavedDrive       0.212630\n",
       "LotFrontage      0.209624\n",
       "Neighborhood     0.178883\n",
       "BedroomAbvGr     0.168213\n",
       "BsmtQual         0.152829\n",
       "SaleType         0.150948\n",
       "RoofMatl         0.132383\n",
       "Exterior1st      0.119614\n",
       "LotConfig        0.092316\n",
       "Condition1       0.083838\n",
       "LandContour      0.073042\n",
       "HouseStyle       0.063547\n",
       "MoSold           0.046432\n",
       "Street           0.041036\n",
       "BsmtFinSF2      -0.011378\n",
       "Id              -0.021917\n",
       "YrSold          -0.028923\n",
       "OverallCond     -0.077856\n",
       "MSSubClass      -0.084284\n",
       "Heating         -0.098812\n",
       "BldgType        -0.112611\n",
       "EnclosedPorch   -0.128578\n",
       "KitchenAbvGr    -0.135907\n",
       "Fence           -0.172184\n",
       "MSZoning        -0.207122\n",
       "Name: SalePrice, dtype: float64"
      ]
     },
     "execution_count": 73,
     "metadata": {},
     "output_type": "execute_result"
    }
   ],
   "source": [
    "#Me quedaré con las variables que tengan una correlación con el precio de la propiedad mayor a 0.5 y menor a -0.5. El resto de las variables se borrarán del dataframe.\n",
    "corr_price_sig=corr_price.loc[(corr_price < 0.5) & (corr_price >-0.5)]\n",
    "corr_price_sig"
   ]
  },
  {
   "cell_type": "code",
   "execution_count": 74,
   "metadata": {},
   "outputs": [],
   "source": [
    "df=df.drop(corr_price_sig.index,axis=1)"
   ]
  },
  {
   "cell_type": "code",
   "execution_count": 75,
   "metadata": {},
   "outputs": [
    {
     "data": {
      "text/html": [
       "<div>\n",
       "<style scoped>\n",
       "    .dataframe tbody tr th:only-of-type {\n",
       "        vertical-align: middle;\n",
       "    }\n",
       "\n",
       "    .dataframe tbody tr th {\n",
       "        vertical-align: top;\n",
       "    }\n",
       "\n",
       "    .dataframe thead th {\n",
       "        text-align: right;\n",
       "    }\n",
       "</style>\n",
       "<table border=\"1\" class=\"dataframe\">\n",
       "  <thead>\n",
       "    <tr style=\"text-align: right;\">\n",
       "      <th></th>\n",
       "      <th>OverallQual</th>\n",
       "      <th>YearBuilt</th>\n",
       "      <th>YearRemodAdd</th>\n",
       "      <th>ExterQual</th>\n",
       "      <th>TotalBsmtSF</th>\n",
       "      <th>1stFlrSF</th>\n",
       "      <th>GrLivArea</th>\n",
       "      <th>FullBath</th>\n",
       "      <th>TotRmsAbvGrd</th>\n",
       "      <th>SalePrice</th>\n",
       "    </tr>\n",
       "  </thead>\n",
       "  <tbody>\n",
       "    <tr>\n",
       "      <th>0</th>\n",
       "      <td>7</td>\n",
       "      <td>2003</td>\n",
       "      <td>2003</td>\n",
       "      <td>1</td>\n",
       "      <td>856</td>\n",
       "      <td>856</td>\n",
       "      <td>1710</td>\n",
       "      <td>2</td>\n",
       "      <td>8</td>\n",
       "      <td>208500</td>\n",
       "    </tr>\n",
       "    <tr>\n",
       "      <th>1</th>\n",
       "      <td>6</td>\n",
       "      <td>1976</td>\n",
       "      <td>1976</td>\n",
       "      <td>2</td>\n",
       "      <td>1262</td>\n",
       "      <td>1262</td>\n",
       "      <td>1262</td>\n",
       "      <td>2</td>\n",
       "      <td>6</td>\n",
       "      <td>181500</td>\n",
       "    </tr>\n",
       "    <tr>\n",
       "      <th>2</th>\n",
       "      <td>7</td>\n",
       "      <td>2001</td>\n",
       "      <td>2002</td>\n",
       "      <td>1</td>\n",
       "      <td>920</td>\n",
       "      <td>920</td>\n",
       "      <td>1786</td>\n",
       "      <td>2</td>\n",
       "      <td>6</td>\n",
       "      <td>223500</td>\n",
       "    </tr>\n",
       "    <tr>\n",
       "      <th>3</th>\n",
       "      <td>7</td>\n",
       "      <td>1915</td>\n",
       "      <td>1970</td>\n",
       "      <td>2</td>\n",
       "      <td>756</td>\n",
       "      <td>961</td>\n",
       "      <td>1717</td>\n",
       "      <td>1</td>\n",
       "      <td>7</td>\n",
       "      <td>140000</td>\n",
       "    </tr>\n",
       "    <tr>\n",
       "      <th>4</th>\n",
       "      <td>8</td>\n",
       "      <td>2000</td>\n",
       "      <td>2000</td>\n",
       "      <td>1</td>\n",
       "      <td>1145</td>\n",
       "      <td>1145</td>\n",
       "      <td>2198</td>\n",
       "      <td>2</td>\n",
       "      <td>9</td>\n",
       "      <td>250000</td>\n",
       "    </tr>\n",
       "  </tbody>\n",
       "</table>\n",
       "</div>"
      ],
      "text/plain": [
       "   OverallQual  YearBuilt  YearRemodAdd  ExterQual  TotalBsmtSF  1stFlrSF  \\\n",
       "0            7       2003          2003          1          856       856   \n",
       "1            6       1976          1976          2         1262      1262   \n",
       "2            7       2001          2002          1          920       920   \n",
       "3            7       1915          1970          2          756       961   \n",
       "4            8       2000          2000          1         1145      1145   \n",
       "\n",
       "   GrLivArea  FullBath  TotRmsAbvGrd  SalePrice  \n",
       "0       1710         2             8     208500  \n",
       "1       1262         2             6     181500  \n",
       "2       1786         2             6     223500  \n",
       "3       1717         1             7     140000  \n",
       "4       2198         2             9     250000  "
      ]
     },
     "execution_count": 75,
     "metadata": {},
     "output_type": "execute_result"
    }
   ],
   "source": [
    "#Ya nada más tenemos 10 variables en total en el dataframe.\n",
    "df.head()"
   ]
  },
  {
   "cell_type": "code",
   "execution_count": 76,
   "metadata": {},
   "outputs": [
    {
     "data": {
      "text/plain": [
       "(1460, 10)"
      ]
     },
     "execution_count": 76,
     "metadata": {},
     "output_type": "execute_result"
    }
   ],
   "source": [
    "df.shape"
   ]
  },
  {
   "cell_type": "code",
   "execution_count": 77,
   "metadata": {},
   "outputs": [
    {
     "data": {
      "image/png": "[encoded data removed]",
      "text/plain": [
       "<Figure size 1800x180 with 10 Axes>"
      ]
     },
     "metadata": {
      "needs_background": "light"
     },
     "output_type": "display_data"
    }
   ],
   "source": [
    "#Se hara una gráfica de \"pairplot\" para visualizar la correlación entre las variables del dataframe y la variable \"SalePrice\" (El precio de venta de la propiedad)\n",
    "corr_viz = sns.pairplot(data=df, x_vars=df.columns, y_vars=['SalePrice'])"
   ]
  },
  {
   "cell_type": "code",
   "execution_count": 78,
   "metadata": {},
   "outputs": [],
   "source": [
    "#En todas las variables se puede vislumbrar una relación positiva (excepto para la variable \"ExterQual\" [variable que evalúa la calidad del material en el exterior de la propiedad]) clara con la variable del precio de venta de la propiedad. Se analizará individualmente la relación entre cada una de las 9 variables y la variable del precio de la propiedad para revisar que esta relación sea estadísticamente significativa.\n"
   ]
  },
  {
   "cell_type": "markdown",
   "metadata": {},
   "source": [
    "# 1) Relación entre \"OverallQual\" y \"SalePrice\""
   ]
  },
  {
   "cell_type": "code",
   "execution_count": 79,
   "metadata": {},
   "outputs": [
    {
     "data": {
      "text/plain": [
       "<matplotlib.axes._subplots.AxesSubplot at 0x1fde72b31c0>"
      ]
     },
     "execution_count": 79,
     "metadata": {},
     "output_type": "execute_result"
    },
    {
     "data": {
      "image/png": "[encoded data removed]",
      "text/plain": [
       "<Figure size 432x288 with 1 Axes>"
      ]
     },
     "metadata": {
      "needs_background": "light"
     },
     "output_type": "display_data"
    }
   ],
   "source": [
    "#La variable \"OverallQual\" hace referencia a la calificación del material general y el acabado general de la casa, donde la variable toma valores que van de 1 a 10, siendo 1=muy pobre y 10= más que excelente. \n",
    "sns.scatterplot(data=df, x=\"OverallQual\", y=\"SalePrice\")"
   ]
  },
  {
   "cell_type": "code",
   "execution_count": 80,
   "metadata": {},
   "outputs": [],
   "source": [
    "#En la gráfica se observa que mientras aumenta la calificación del material y acabado de la propiedad, más grande es el valor del precio de venta de la propiedad.\n",
    "#Se procede a realizar un regresión de mínimos cuadrados ordinarios para encontrar la relación lineal entre las dos variables.\n",
    "X=sm.add_constant(df.OverallQual)\n",
    "Y=df.SalePrice"
   ]
  },
  {
   "cell_type": "code",
   "execution_count": 81,
   "metadata": {},
   "outputs": [
    {
     "name": "stdout",
     "output_type": "stream",
     "text": [
      "                            OLS Regression Results                            \n",
      "==============================================================================\n",
      "Dep. Variable:              SalePrice   R-squared:                       0.626\n",
      "Model:                            OLS   Adj. R-squared:                  0.625\n",
      "Method:                 Least Squares   F-statistic:                     2437.\n",
      "Date:                Wed, 27 Jan 2021   Prob (F-statistic):          2.19e-313\n",
      "Time:                        19:09:34   Log-Likelihood:                -17827.\n",
      "No. Observations:                1460   AIC:                         3.566e+04\n",
      "Df Residuals:                    1458   BIC:                         3.567e+04\n",
      "Df Model:                           1                                         \n",
      "Covariance Type:            nonrobust                                         \n",
      "===============================================================================\n",
      "                  coef    std err          t      P>|t|      [0.025      0.975]\n",
      "-------------------------------------------------------------------------------\n",
      "const       -9.621e+04   5756.407    -16.713      0.000   -1.07e+05   -8.49e+04\n",
      "OverallQual  4.544e+04    920.430     49.364      0.000    4.36e+04    4.72e+04\n",
      "==============================================================================\n",
      "Omnibus:                      591.594   Durbin-Watson:                   1.990\n",
      "Prob(Omnibus):                  0.000   Jarque-Bera (JB):             5872.098\n",
      "Skew:                           1.607   Prob(JB):                         0.00\n",
      "Kurtosis:                      12.284   Cond. No.                         29.0\n",
      "==============================================================================\n",
      "\n",
      "Warnings:\n",
      "[1] Standard Errors assume that the covariance matrix of the errors is correctly specified.\n"
     ]
    }
   ],
   "source": [
    "model = sm.OLS(Y, X).fit()\n",
    "predictions = model.predict(X) \n",
    "print_model = model.summary()\n",
    "print(print_model)"
   ]
  },
  {
   "cell_type": "code",
   "execution_count": 82,
   "metadata": {},
   "outputs": [
    {
     "data": {
      "text/plain": [
       "[<matplotlib.lines.Line2D at 0x1fde725ab20>]"
      ]
     },
     "execution_count": 82,
     "metadata": {},
     "output_type": "execute_result"
    },
    {
     "data": {
      "image/png": "[encoded data removed]",
      "text/plain": [
       "<Figure size 432x288 with 1 Axes>"
      ]
     },
     "metadata": {
      "needs_background": "light"
     },
     "output_type": "display_data"
    }
   ],
   "source": [
    "#En los resultados de la regresión se observa que la variable \"OverallQual\" es estadísticamente significativa para explicar la variable dependiente (SalePrice - el precio de venta de la propiedad). Esto lo sabemos porque la hipótesis nula de la prueba \"t\" es que la variable explicativa (OverallQual) es igual cero, pero en este caso se rechaza la hipótesis nula porque el p-value del estadístico \"t\" es menor a 0.05 y el valor del estádistico t en valor absoluto es relativamente grande (16.713).\n",
    "#Se realiza el gráfico de dispersión junto con la línea que se pronóstica en el modelo a partir de los variables encontrados de la constante y el coeficiente de la variable explicativa.\n",
    "df.plot('OverallQual','SalePrice',kind='scatter')\n",
    "plt.plot(df.OverallQual,-96210+45440*df.OverallQual, color=\"red\")"
   ]
  },
  {
   "cell_type": "markdown",
   "metadata": {},
   "source": [
    "# 2) Relación entre \"YearBuilt\" y \"SalePrice\""
   ]
  },
  {
   "cell_type": "code",
   "execution_count": 83,
   "metadata": {},
   "outputs": [
    {
     "data": {
      "text/plain": [
       "<matplotlib.axes._subplots.AxesSubplot at 0x1fde7c1bd30>"
      ]
     },
     "execution_count": 83,
     "metadata": {},
     "output_type": "execute_result"
    },
    {
     "data": {
      "image/png": "[encoded data removed]",
      "text/plain": [
       "<Figure size 432x288 with 1 Axes>"
      ]
     },
     "metadata": {
      "needs_background": "light"
     },
     "output_type": "display_data"
    }
   ],
   "source": [
    "#La variable \"YearBuilt\" hace referencia al año de construcción original de la propiedad.\n",
    "sns.scatterplot(data=df, x=\"YearBuilt\", y=\"SalePrice\")"
   ]
  },
  {
   "cell_type": "code",
   "execution_count": 84,
   "metadata": {},
   "outputs": [],
   "source": [
    "#En la gráfica se observa que mientras aumenta el año en que fue construida la propiedad, más grande es el valor del precio de venta de la propiedad.\n",
    "#Se procede a realizar un regresión de mínimos cuadrados ordinarios para encontrar la relación lineal entre las dos variables.\n",
    "X=sm.add_constant(df.YearBuilt)\n",
    "Y=df.SalePrice"
   ]
  },
  {
   "cell_type": "code",
   "execution_count": 85,
   "metadata": {},
   "outputs": [
    {
     "name": "stdout",
     "output_type": "stream",
     "text": [
      "                            OLS Regression Results                            \n",
      "==============================================================================\n",
      "Dep. Variable:              SalePrice   R-squared:                       0.273\n",
      "Model:                            OLS   Adj. R-squared:                  0.273\n",
      "Method:                 Least Squares   F-statistic:                     548.7\n",
      "Date:                Wed, 27 Jan 2021   Prob (F-statistic):          2.99e-103\n",
      "Time:                        19:09:36   Log-Likelihood:                -18311.\n",
      "No. Observations:                1460   AIC:                         3.663e+04\n",
      "Df Residuals:                    1458   BIC:                         3.664e+04\n",
      "Df Model:                           1                                         \n",
      "Covariance Type:            nonrobust                                         \n",
      "==============================================================================\n",
      "                 coef    std err          t      P>|t|      [0.025      0.975]\n",
      "------------------------------------------------------------------------------\n",
      "const       -2.53e+06   1.16e+05    -21.858      0.000   -2.76e+06    -2.3e+06\n",
      "YearBuilt   1375.3735     58.717     23.424      0.000    1260.194    1490.553\n",
      "==============================================================================\n",
      "Omnibus:                      761.903   Durbin-Watson:                   1.984\n",
      "Prob(Omnibus):                  0.000   Jarque-Bera (JB):             6856.947\n",
      "Skew:                           2.264   Prob(JB):                         0.00\n",
      "Kurtosis:                      12.603   Cond. No.                     1.29e+05\n",
      "==============================================================================\n",
      "\n",
      "Warnings:\n",
      "[1] Standard Errors assume that the covariance matrix of the errors is correctly specified.\n",
      "[2] The condition number is large, 1.29e+05. This might indicate that there are\n",
      "strong multicollinearity or other numerical problems.\n"
     ]
    }
   ],
   "source": [
    "model = sm.OLS(Y, X).fit()\n",
    "predictions = model.predict(X) \n",
    "print_model = model.summary()\n",
    "print(print_model)"
   ]
  },
  {
   "cell_type": "code",
   "execution_count": 86,
   "metadata": {},
   "outputs": [
    {
     "data": {
      "text/plain": [
       "[<matplotlib.lines.Line2D at 0x1fde7c539a0>]"
      ]
     },
     "execution_count": 86,
     "metadata": {},
     "output_type": "execute_result"
    },
    {
     "data": {
      "image/png": "[encoded data removed]",
      "text/plain": [
       "<Figure size 432x288 with 1 Axes>"
      ]
     },
     "metadata": {
      "needs_background": "light"
     },
     "output_type": "display_data"
    }
   ],
   "source": [
    "#En los resultados de la regresión se observa que la variable \"YearBuilt\" es estadísticamente significativa para explicar la variable dependiente (SalePrice - el precio de venta de la propiedad). Esto lo sabemos porque la hipótesis nula de la prueba \"t\" es que la variable explicativa (YearBuilt) es igual cero, pero en este caso se rechaza la hipótesis nula porque el p-value del estadístico \"t\" es menor a 0.05 y el valor del estádistico t en valor absoluto es relativamente grande (23.424).\n",
    "#Se realiza el gráfico de dispersión junto con la línea que se pronóstica en el modelo a partir de los variables encontrados de la constante y el coeficiente de la variable explicativa.\n",
    "df.plot('YearBuilt','SalePrice',kind='scatter')\n",
    "plt.plot(df.YearBuilt,-2530000+1375.3735*df.YearBuilt, color=\"red\")"
   ]
  },
  {
   "cell_type": "markdown",
   "metadata": {},
   "source": [
    "# 3) Relación entre \"YearRemodAdd\" y \"SalePrice\""
   ]
  },
  {
   "cell_type": "code",
   "execution_count": 87,
   "metadata": {},
   "outputs": [
    {
     "data": {
      "text/plain": [
       "<matplotlib.axes._subplots.AxesSubplot at 0x1fde7ce1a60>"
      ]
     },
     "execution_count": 87,
     "metadata": {},
     "output_type": "execute_result"
    },
    {
     "data": {
      "image/png": "[encoded data removed]",
      "text/plain": [
       "<Figure size 432x288 with 1 Axes>"
      ]
     },
     "metadata": {
      "needs_background": "light"
     },
     "output_type": "display_data"
    }
   ],
   "source": [
    "#La variable \"YearRemodAdd\" hace referencia al año de remodelación de la propiedad.\n",
    "sns.scatterplot(data=df, x=\"YearRemodAdd\", y=\"SalePrice\")"
   ]
  },
  {
   "cell_type": "code",
   "execution_count": 88,
   "metadata": {},
   "outputs": [],
   "source": [
    "#En la gráfica se observa que mientras aumenta el año en que se llevo acabo la remodelación de la propiedad, más grande es el valor del precio de venta de la propiedad.\n",
    "#Se procede a realizar un regresión de mínimos cuadrados ordinarios para encontrar la relación lineal entre las dos variables.\n",
    "X=sm.add_constant(df.YearRemodAdd)\n",
    "Y=df.SalePrice"
   ]
  },
  {
   "cell_type": "code",
   "execution_count": 89,
   "metadata": {},
   "outputs": [
    {
     "name": "stdout",
     "output_type": "stream",
     "text": [
      "                            OLS Regression Results                            \n",
      "==============================================================================\n",
      "Dep. Variable:              SalePrice   R-squared:                       0.257\n",
      "Model:                            OLS   Adj. R-squared:                  0.257\n",
      "Method:                 Least Squares   F-statistic:                     504.7\n",
      "Date:                Wed, 27 Jan 2021   Prob (F-statistic):           3.16e-96\n",
      "Time:                        19:09:39   Log-Likelihood:                -18327.\n",
      "No. Observations:                1460   AIC:                         3.666e+04\n",
      "Df Residuals:                    1458   BIC:                         3.667e+04\n",
      "Df Model:                           1                                         \n",
      "Covariance Type:            nonrobust                                         \n",
      "================================================================================\n",
      "                   coef    std err          t      P>|t|      [0.025      0.975]\n",
      "--------------------------------------------------------------------------------\n",
      "const        -3.692e+06   1.72e+05    -21.415      0.000   -4.03e+06   -3.35e+06\n",
      "YearRemodAdd  1951.2994     86.856     22.466      0.000    1780.923    2121.676\n",
      "==============================================================================\n",
      "Omnibus:                      677.205   Durbin-Watson:                   1.950\n",
      "Prob(Omnibus):                  0.000   Jarque-Bera (JB):             5931.459\n",
      "Skew:                           1.954   Prob(JB):                         0.00\n",
      "Kurtosis:                      12.068   Cond. No.                     1.91e+05\n",
      "==============================================================================\n",
      "\n",
      "Warnings:\n",
      "[1] Standard Errors assume that the covariance matrix of the errors is correctly specified.\n",
      "[2] The condition number is large, 1.91e+05. This might indicate that there are\n",
      "strong multicollinearity or other numerical problems.\n"
     ]
    }
   ],
   "source": [
    "model = sm.OLS(Y, X).fit()\n",
    "predictions = model.predict(X) \n",
    "print_model = model.summary()\n",
    "print(print_model)"
   ]
  },
  {
   "cell_type": "code",
   "execution_count": 90,
   "metadata": {},
   "outputs": [
    {
     "data": {
      "text/plain": [
       "[<matplotlib.lines.Line2D at 0x1fde8ce69a0>]"
      ]
     },
     "execution_count": 90,
     "metadata": {},
     "output_type": "execute_result"
    },
    {
     "data": {
      "image/png": "[encoded data removed]",
      "text/plain": [
       "<Figure size 432x288 with 1 Axes>"
      ]
     },
     "metadata": {
      "needs_background": "light"
     },
     "output_type": "display_data"
    }
   ],
   "source": [
    "#En los resultados de la regresión se observa que la variable \"YearRemodAdd\" es estadísticamente significativa para explicar la variable dependiente (SalePrice - el precio de venta de la propiedad). Esto lo sabemos porque la hipótesis nula de la prueba \"t\" es que la variable explicativa (YearRemodAdd) es igual cero, pero en este caso se rechaza la hipótesis nula porque el p-value del estadístico \"t\" es menor a 0.05 y el valor del estádistico t en valor absoluto es relativamente grande (22.466).\n",
    "#Se realiza el gráfico de dispersión junto con la línea que se pronóstica en el modelo a partir de los variables encontrados de la constante y el coeficiente de la variable explicativa.\n",
    "df.plot('YearRemodAdd','SalePrice',kind='scatter')\n",
    "plt.plot(df.YearRemodAdd,-3692000+1951.2994*df.YearRemodAdd, color=\"red\")"
   ]
  },
  {
   "cell_type": "markdown",
   "metadata": {},
   "source": [
    "# 4) Relación entre \"ExterQual\" y \"SalePrice\""
   ]
  },
  {
   "cell_type": "code",
   "execution_count": 91,
   "metadata": {},
   "outputs": [
    {
     "data": {
      "text/plain": [
       "<matplotlib.axes._subplots.AxesSubplot at 0x1fde8d766a0>"
      ]
     },
     "execution_count": 91,
     "metadata": {},
     "output_type": "execute_result"
    },
    {
     "data": {
      "image/png": "[encoded data removed]",
      "text/plain": [
       "<Figure size 432x288 with 1 Axes>"
      ]
     },
     "metadata": {
      "needs_background": "light"
     },
     "output_type": "display_data"
    }
   ],
   "source": [
    "#La variable \"ExterQual\" evalúa la calidad del material en el exterior de la propiedad. En donde 0 es excelente, 1 es bueno, 2 es promedio, 3 es justo y 4 es pobre. \n",
    "sns.scatterplot(data=df, x=\"ExterQual\", y=\"SalePrice\")"
   ]
  },
  {
   "cell_type": "code",
   "execution_count": 92,
   "metadata": {},
   "outputs": [],
   "source": [
    "#En la gráfica se observa que mientras más bueno es el material exterior de la propiedad, más grande es el valor del precio de venta de la propiedad.\n",
    "#Se procede a realizar un regresión de mínimos cuadrados ordinarios para encontrar la relación lineal entre las dos variables.\n",
    "X=sm.add_constant(df.ExterQual)\n",
    "Y=df.SalePrice"
   ]
  },
  {
   "cell_type": "code",
   "execution_count": 93,
   "metadata": {},
   "outputs": [
    {
     "name": "stdout",
     "output_type": "stream",
     "text": [
      "                            OLS Regression Results                            \n",
      "==============================================================================\n",
      "Dep. Variable:              SalePrice   R-squared:                       0.466\n",
      "Model:                            OLS   Adj. R-squared:                  0.466\n",
      "Method:                 Least Squares   F-statistic:                     1272.\n",
      "Date:                Wed, 27 Jan 2021   Prob (F-statistic):          7.33e-201\n",
      "Time:                        19:09:43   Log-Likelihood:                -18086.\n",
      "No. Observations:                1460   AIC:                         3.618e+04\n",
      "Df Residuals:                    1458   BIC:                         3.619e+04\n",
      "Df Model:                           1                                         \n",
      "Covariance Type:            nonrobust                                         \n",
      "==============================================================================\n",
      "                 coef    std err          t      P>|t|      [0.025      0.975]\n",
      "------------------------------------------------------------------------------\n",
      "const       3.324e+05   4510.517     73.695      0.000    3.24e+05    3.41e+05\n",
      "ExterQual  -9.443e+04   2647.416    -35.670      0.000   -9.96e+04   -8.92e+04\n",
      "==============================================================================\n",
      "Omnibus:                      613.916   Durbin-Watson:                   1.976\n",
      "Prob(Omnibus):                  0.000   Jarque-Bera (JB):             5632.738\n",
      "Skew:                           1.711   Prob(JB):                         0.00\n",
      "Kurtosis:                      11.994   Cond. No.                         6.65\n",
      "==============================================================================\n",
      "\n",
      "Warnings:\n",
      "[1] Standard Errors assume that the covariance matrix of the errors is correctly specified.\n"
     ]
    }
   ],
   "source": [
    "model = sm.OLS(Y, X).fit()\n",
    "predictions = model.predict(X) \n",
    "print_model = model.summary()\n",
    "print(print_model)"
   ]
  },
  {
   "cell_type": "code",
   "execution_count": 94,
   "metadata": {},
   "outputs": [
    {
     "data": {
      "text/plain": [
       "[<matplotlib.lines.Line2D at 0x1fde8d9fb20>]"
      ]
     },
     "execution_count": 94,
     "metadata": {},
     "output_type": "execute_result"
    },
    {
     "data": {
      "image/png": "[encoded data removed]",
      "text/plain": [
       "<Figure size 432x288 with 1 Axes>"
      ]
     },
     "metadata": {
      "needs_background": "light"
     },
     "output_type": "display_data"
    }
   ],
   "source": [
    "#En los resultados de la regresión se observa que la variable \"ExterQual\" es estadísticamente significativa para explicar la variable dependiente (SalePrice - el precio de venta de la propiedad). Esto lo sabemos porque la hipótesis nula de la prueba \"t\" es que la variable explicativa (ExterQual) es igual cero, pero en este caso se rechaza la hipótesis nula porque el p-value del estadístico \"t\" es menor a 0.05 y el valor del estádistico t en valor absoluto es relativamente grande (35.670).\n",
    "#Se realiza el gráfico de dispersión junto con la línea que se pronóstica en el modelo a partir de los variables encontrados de la constante y el coeficiente de la variable explicativa.\n",
    "df.plot('ExterQual','SalePrice',kind='scatter')\n",
    "plt.plot(df.ExterQual,332400-94430*df.ExterQual, color=\"red\")"
   ]
  },
  {
   "cell_type": "markdown",
   "metadata": {},
   "source": [
    "# 5) Relación entre \"TotalBsmtSF\" y \"SalePrice\""
   ]
  },
  {
   "cell_type": "code",
   "execution_count": 95,
   "metadata": {},
   "outputs": [
    {
     "data": {
      "text/plain": [
       "<matplotlib.axes._subplots.AxesSubplot at 0x1fde8e20760>"
      ]
     },
     "execution_count": 95,
     "metadata": {},
     "output_type": "execute_result"
    },
    {
     "data": {
      "image/png": "[encoded data removed]",
      "text/plain": [
       "<Figure size 432x288 with 1 Axes>"
      ]
     },
     "metadata": {
      "needs_background": "light"
     },
     "output_type": "display_data"
    }
   ],
   "source": [
    "#La variable \"TotalBsmtSF\" hace referencia a la cantidad de pies cuadrados totales del área del sótano.\n",
    "sns.scatterplot(data=df, x=\"TotalBsmtSF\", y=\"SalePrice\")"
   ]
  },
  {
   "cell_type": "code",
   "execution_count": 96,
   "metadata": {},
   "outputs": [],
   "source": [
    "#En la gráfica se observa que mientras aumenta la cantidad del tamaño del área del sótano de la propiedad, más grande es el valor del precio de venta de la propiedad.\n",
    "#Se procede a realizar un regresión de mínimos cuadrados ordinarios para encontrar la relación lineal entre las dos variables.\n",
    "X=sm.add_constant(df.TotalBsmtSF)\n",
    "Y=df.SalePrice"
   ]
  },
  {
   "cell_type": "code",
   "execution_count": 97,
   "metadata": {},
   "outputs": [
    {
     "name": "stdout",
     "output_type": "stream",
     "text": [
      "                            OLS Regression Results                            \n",
      "==============================================================================\n",
      "Dep. Variable:              SalePrice   R-squared:                       0.376\n",
      "Model:                            OLS   Adj. R-squared:                  0.376\n",
      "Method:                 Least Squares   F-statistic:                     880.3\n",
      "Date:                Wed, 27 Jan 2021   Prob (F-statistic):          9.48e-152\n",
      "Time:                        19:09:46   Log-Likelihood:                -18199.\n",
      "No. Observations:                1460   AIC:                         3.640e+04\n",
      "Df Residuals:                    1458   BIC:                         3.641e+04\n",
      "Df Model:                           1                                         \n",
      "Covariance Type:            nonrobust                                         \n",
      "===============================================================================\n",
      "                  coef    std err          t      P>|t|      [0.025      0.975]\n",
      "-------------------------------------------------------------------------------\n",
      "const        6.343e+04   4286.892     14.796      0.000     5.5e+04    7.18e+04\n",
      "TotalBsmtSF   111.1096      3.745     29.671      0.000     103.764     118.455\n",
      "==============================================================================\n",
      "Omnibus:                      386.381   Durbin-Watson:                   1.940\n",
      "Prob(Omnibus):                  0.000   Jarque-Bera (JB):             5810.518\n",
      "Skew:                           0.809   Prob(JB):                         0.00\n",
      "Kurtosis:                      12.638   Cond. No.                     2.99e+03\n",
      "==============================================================================\n",
      "\n",
      "Warnings:\n",
      "[1] Standard Errors assume that the covariance matrix of the errors is correctly specified.\n",
      "[2] The condition number is large, 2.99e+03. This might indicate that there are\n",
      "strong multicollinearity or other numerical problems.\n"
     ]
    }
   ],
   "source": [
    "model = sm.OLS(Y, X).fit()\n",
    "predictions = model.predict(X) \n",
    "print_model = model.summary()\n",
    "print(print_model)"
   ]
  },
  {
   "cell_type": "code",
   "execution_count": 98,
   "metadata": {},
   "outputs": [
    {
     "data": {
      "text/plain": [
       "[<matplotlib.lines.Line2D at 0x1fde8e9e4f0>]"
      ]
     },
     "execution_count": 98,
     "metadata": {},
     "output_type": "execute_result"
    },
    {
     "data": {
      "image/png": "[encoded data removed]",
      "text/plain": [
       "<Figure size 432x288 with 1 Axes>"
      ]
     },
     "metadata": {
      "needs_background": "light"
     },
     "output_type": "display_data"
    }
   ],
   "source": [
    "#En los resultados de la regresión se observa que la variable \"TotalBsmtSF\" es estadísticamente significativa para explicar la variable dependiente (SalePrice - el precio de venta de la propiedad). Esto lo sabemos porque la hipótesis nula de la prueba \"t\" es que la variable explicativa (TotalBsmtSF) es igual cero, pero en este caso se rechaza la hipótesis nula porque el p-value del estadístico \"t\" es menor a 0.05 y el valor del estádistico t en valor absoluto es relativamente grande (29.671).\n",
    "#Se realiza el gráfico de dispersión junto con la línea que se pronóstica en el modelo a partir de los variables encontrados de la constante y el coeficiente de la variable explicativa.\n",
    "df.plot('TotalBsmtSF','SalePrice',kind='scatter')\n",
    "plt.plot(df.TotalBsmtSF,63430+111.1096*df.TotalBsmtSF, color=\"red\")"
   ]
  },
  {
   "cell_type": "markdown",
   "metadata": {},
   "source": [
    "# 6) Relación entre \"1stFlrSF\" y \"SalePrice\""
   ]
  },
  {
   "cell_type": "code",
   "execution_count": 99,
   "metadata": {},
   "outputs": [
    {
     "data": {
      "text/plain": [
       "<matplotlib.axes._subplots.AxesSubplot at 0x1fde8ef2a60>"
      ]
     },
     "execution_count": 99,
     "metadata": {},
     "output_type": "execute_result"
    },
    {
     "data": {
      "image/png": "[encoded data removed]",
      "text/plain": [
       "<Figure size 432x288 with 1 Axes>"
      ]
     },
     "metadata": {
      "needs_background": "light"
     },
     "output_type": "display_data"
    }
   ],
   "source": [
    "#La variable \"1stFlrSF\" hace referencia a la calificación del material general y el acabado general de la casa, donde la variable toma valores que van de 1 a 10, siendo 1=muy pobre y 10= más que excelente. \n",
    "sns.scatterplot(data=df, x=\"1stFlrSF\", y=\"SalePrice\")"
   ]
  },
  {
   "cell_type": "code",
   "execution_count": 100,
   "metadata": {},
   "outputs": [],
   "source": [
    "#En la gráfica se observa que mientras aumenta la calificación del material y acabado de la propiedad, más grande es el valor del precio de venta de la propiedad.\n",
    "#Se procede a realizar un regresión de mínimos cuadrados ordinarios para encontrar la relación lineal entre las dos variables.\n",
    "X=sm.add_constant(df['1stFlrSF'])\n",
    "Y=df.SalePrice"
   ]
  },
  {
   "cell_type": "code",
   "execution_count": 101,
   "metadata": {},
   "outputs": [
    {
     "name": "stdout",
     "output_type": "stream",
     "text": [
      "                            OLS Regression Results                            \n",
      "==============================================================================\n",
      "Dep. Variable:              SalePrice   R-squared:                       0.367\n",
      "Model:                            OLS   Adj. R-squared:                  0.367\n",
      "Method:                 Least Squares   F-statistic:                     845.5\n",
      "Date:                Wed, 27 Jan 2021   Prob (F-statistic):          5.39e-147\n",
      "Time:                        19:09:49   Log-Likelihood:                -18210.\n",
      "No. Observations:                1460   AIC:                         3.642e+04\n",
      "Df Residuals:                    1458   BIC:                         3.643e+04\n",
      "Df Model:                           1                                         \n",
      "Covariance Type:            nonrobust                                         \n",
      "==============================================================================\n",
      "                 coef    std err          t      P>|t|      [0.025      0.975]\n",
      "------------------------------------------------------------------------------\n",
      "const       3.617e+04   5245.728      6.896      0.000    2.59e+04    4.65e+04\n",
      "1stFlrSF     124.5006      4.282     29.078      0.000     116.102     132.899\n",
      "==============================================================================\n",
      "Omnibus:                      373.497   Durbin-Watson:                   1.955\n",
      "Prob(Omnibus):                  0.000   Jarque-Bera (JB):             2669.199\n",
      "Skew:                           0.997   Prob(JB):                         0.00\n",
      "Kurtosis:                       9.317   Cond. No.                     3.88e+03\n",
      "==============================================================================\n",
      "\n",
      "Warnings:\n",
      "[1] Standard Errors assume that the covariance matrix of the errors is correctly specified.\n",
      "[2] The condition number is large, 3.88e+03. This might indicate that there are\n",
      "strong multicollinearity or other numerical problems.\n"
     ]
    }
   ],
   "source": [
    "model = sm.OLS(Y, X).fit()\n",
    "predictions = model.predict(X) \n",
    "print_model = model.summary()\n",
    "print(print_model)"
   ]
  },
  {
   "cell_type": "code",
   "execution_count": 102,
   "metadata": {
    "scrolled": true
   },
   "outputs": [
    {
     "data": {
      "text/plain": [
       "[<matplotlib.lines.Line2D at 0x1fde8f52ee0>]"
      ]
     },
     "execution_count": 102,
     "metadata": {},
     "output_type": "execute_result"
    },
    {
     "data": {
      "image/png": "[encoded data removed]",
      "text/plain": [
       "<Figure size 432x288 with 1 Axes>"
      ]
     },
     "metadata": {
      "needs_background": "light"
     },
     "output_type": "display_data"
    }
   ],
   "source": [
    "#En los resultados de la regresión se observa que la variable \"1stFlrSF\" es estadísticamente significativa para explicar la variable dependiente (SalePrice - el precio de venta de la propiedad). Esto lo sabemos porque la hipótesis nula de la prueba \"t\" es que la variable explicativa (1stFlrSF) es igual cero, pero en este caso se rechaza la hipótesis nula porque el p-value del estadístico \"t\" es menor a 0.05 y el valor del estádistico t en valor absoluto es relativamente grande (29.078).\n",
    "#Se realiza el gráfico de dispersión junto con la línea que se pronóstica en el modelo a partir de los variables encontrados de la constante y el coeficiente de la variable explicativa.\n",
    "df.plot('1stFlrSF','SalePrice',kind='scatter')\n",
    "plt.plot(df['1stFlrSF'],36170+124.5006*df['1stFlrSF'], color=\"red\")"
   ]
  },
  {
   "cell_type": "markdown",
   "metadata": {},
   "source": [
    "# 7) Relación entre \"GrLivArea\" y \"SalePrice\""
   ]
  },
  {
   "cell_type": "code",
   "execution_count": 103,
   "metadata": {},
   "outputs": [
    {
     "data": {
      "text/plain": [
       "<matplotlib.axes._subplots.AxesSubplot at 0x1fde8fbc9a0>"
      ]
     },
     "execution_count": 103,
     "metadata": {},
     "output_type": "execute_result"
    },
    {
     "data": {
      "image/png": "[encoded data removed]",
      "text/plain": [
       "<Figure size 432x288 with 1 Axes>"
      ]
     },
     "metadata": {
      "needs_background": "light"
     },
     "output_type": "display_data"
    }
   ],
   "source": [
    "#La variable \"GrLivArea\" hace referencia a la superficie habitable sobre el nivel de suelo en pies cuadrados.\n",
    "sns.scatterplot(data=df, x=\"GrLivArea\", y=\"SalePrice\")"
   ]
  },
  {
   "cell_type": "code",
   "execution_count": 104,
   "metadata": {},
   "outputs": [],
   "source": [
    "#En la gráfica se observa que mientras aumenta la superficie habitable sobre el nive de suelo de la propiedad, más grande es el valor del precio de venta de la propiedad.\n",
    "#Se procede a realizar un regresión de mínimos cuadrados ordinarios para encontrar la relación lineal entre las dos variables.\n",
    "X=sm.add_constant(df['GrLivArea'])\n",
    "Y=df.SalePrice"
   ]
  },
  {
   "cell_type": "code",
   "execution_count": 105,
   "metadata": {},
   "outputs": [
    {
     "name": "stdout",
     "output_type": "stream",
     "text": [
      "                            OLS Regression Results                            \n",
      "==============================================================================\n",
      "Dep. Variable:              SalePrice   R-squared:                       0.502\n",
      "Model:                            OLS   Adj. R-squared:                  0.502\n",
      "Method:                 Least Squares   F-statistic:                     1471.\n",
      "Date:                Wed, 27 Jan 2021   Prob (F-statistic):          4.52e-223\n",
      "Time:                        19:09:53   Log-Likelihood:                -18035.\n",
      "No. Observations:                1460   AIC:                         3.607e+04\n",
      "Df Residuals:                    1458   BIC:                         3.608e+04\n",
      "Df Model:                           1                                         \n",
      "Covariance Type:            nonrobust                                         \n",
      "==============================================================================\n",
      "                 coef    std err          t      P>|t|      [0.025      0.975]\n",
      "------------------------------------------------------------------------------\n",
      "const       1.857e+04   4480.755      4.144      0.000    9779.612    2.74e+04\n",
      "GrLivArea    107.1304      2.794     38.348      0.000     101.650     112.610\n",
      "==============================================================================\n",
      "Omnibus:                      261.166   Durbin-Watson:                   2.025\n",
      "Prob(Omnibus):                  0.000   Jarque-Bera (JB):             3432.287\n",
      "Skew:                           0.410   Prob(JB):                         0.00\n",
      "Kurtosis:                      10.467   Cond. No.                     4.90e+03\n",
      "==============================================================================\n",
      "\n",
      "Warnings:\n",
      "[1] Standard Errors assume that the covariance matrix of the errors is correctly specified.\n",
      "[2] The condition number is large, 4.9e+03. This might indicate that there are\n",
      "strong multicollinearity or other numerical problems.\n"
     ]
    }
   ],
   "source": [
    "model = sm.OLS(Y, X).fit()\n",
    "predictions = model.predict(X) \n",
    "print_model = model.summary()\n",
    "print(print_model)"
   ]
  },
  {
   "cell_type": "code",
   "execution_count": 106,
   "metadata": {},
   "outputs": [
    {
     "data": {
      "text/plain": [
       "[<matplotlib.lines.Line2D at 0x1fde8fff2e0>]"
      ]
     },
     "execution_count": 106,
     "metadata": {},
     "output_type": "execute_result"
    },
    {
     "data": {
      "image/png": "[encoded data removed]",
      "text/plain": [
       "<Figure size 432x288 with 1 Axes>"
      ]
     },
     "metadata": {
      "needs_background": "light"
     },
     "output_type": "display_data"
    }
   ],
   "source": [
    "#En los resultados de la regresión se observa que la variable \"GrLivArea\" es estadísticamente significativa para explicar la variable dependiente (SalePrice - el precio de venta de la propiedad). Esto lo sabemos porque la hipótesis nula de la prueba \"t\" es que la variable explicativa (GrLivArea) es igual cero, pero en este caso se rechaza la hipótesis nula porque el p-value del estadístico \"t\" es menor a 0.05 y el valor del estádistico t en valor absoluto es relativamente grande (38.348).\n",
    "#Se realiza el gráfico de dispersión junto con la línea que se pronóstica en el modelo a partir de los variables encontrados de la constante y el coeficiente de la variable explicativa.\n",
    "df.plot('GrLivArea','SalePrice',kind='scatter')\n",
    "plt.plot(df['GrLivArea'],18570+107.1304*df['GrLivArea'], color=\"red\")"
   ]
  },
  {
   "cell_type": "markdown",
   "metadata": {},
   "source": [
    "# 8) Relación entre \"FullBath\" y \"SalePrice\""
   ]
  },
  {
   "cell_type": "code",
   "execution_count": 107,
   "metadata": {},
   "outputs": [
    {
     "data": {
      "text/plain": [
       "<matplotlib.axes._subplots.AxesSubplot at 0x1fde907bac0>"
      ]
     },
     "execution_count": 107,
     "metadata": {},
     "output_type": "execute_result"
    },
    {
     "data": {
      "image/png": "[encoded data removed]",
      "text/plain": [
       "<Figure size 432x288 with 1 Axes>"
      ]
     },
     "metadata": {
      "needs_background": "light"
     },
     "output_type": "display_data"
    }
   ],
   "source": [
    "#La variable \"FullBath\" hace referencia a la la cantidad de baños completos que tiene la propiedad.\n",
    "sns.scatterplot(data=df, x=\"FullBath\", y=\"SalePrice\")"
   ]
  },
  {
   "cell_type": "code",
   "execution_count": 108,
   "metadata": {},
   "outputs": [],
   "source": [
    "#En la gráfica se observa que mientras aumenta la cantidad de baños completos de la propiedad, más grande es el valor del precio de venta de la propiedad.\n",
    "#Se procede a realizar un regresión de mínimos cuadrados ordinarios para encontrar la relación lineal entre las dos variables.\n",
    "X=sm.add_constant(df['FullBath'])\n",
    "Y=df.SalePrice"
   ]
  },
  {
   "cell_type": "code",
   "execution_count": 109,
   "metadata": {},
   "outputs": [
    {
     "name": "stdout",
     "output_type": "stream",
     "text": [
      "                            OLS Regression Results                            \n",
      "==============================================================================\n",
      "Dep. Variable:              SalePrice   R-squared:                       0.314\n",
      "Model:                            OLS   Adj. R-squared:                  0.314\n",
      "Method:                 Least Squares   F-statistic:                     668.4\n",
      "Date:                Wed, 27 Jan 2021   Prob (F-statistic):          1.24e-121\n",
      "Time:                        19:09:56   Log-Likelihood:                -18269.\n",
      "No. Observations:                1460   AIC:                         3.654e+04\n",
      "Df Residuals:                    1458   BIC:                         3.655e+04\n",
      "Df Model:                           1                                         \n",
      "Covariance Type:            nonrobust                                         \n",
      "==============================================================================\n",
      "                 coef    std err          t      P>|t|      [0.025      0.975]\n",
      "------------------------------------------------------------------------------\n",
      "const       5.439e+04   5188.295     10.483      0.000    4.42e+04    6.46e+04\n",
      "FullBath    8.085e+04   3127.102     25.854      0.000    7.47e+04     8.7e+04\n",
      "==============================================================================\n",
      "Omnibus:                      588.033   Durbin-Watson:                   1.989\n",
      "Prob(Omnibus):                  0.000   Jarque-Bera (JB):             3515.005\n",
      "Skew:                           1.774   Prob(JB):                         0.00\n",
      "Kurtosis:                       9.723   Cond. No.                         6.66\n",
      "==============================================================================\n",
      "\n",
      "Warnings:\n",
      "[1] Standard Errors assume that the covariance matrix of the errors is correctly specified.\n"
     ]
    }
   ],
   "source": [
    "model = sm.OLS(Y, X).fit()\n",
    "predictions = model.predict(X) \n",
    "print_model = model.summary()\n",
    "print(print_model)"
   ]
  },
  {
   "cell_type": "code",
   "execution_count": 110,
   "metadata": {},
   "outputs": [
    {
     "data": {
      "text/plain": [
       "[<matplotlib.lines.Line2D at 0x1fde90de490>]"
      ]
     },
     "execution_count": 110,
     "metadata": {},
     "output_type": "execute_result"
    },
    {
     "data": {
      "image/png": "[encoded data removed]",
      "text/plain": [
       "<Figure size 432x288 with 1 Axes>"
      ]
     },
     "metadata": {
      "needs_background": "light"
     },
     "output_type": "display_data"
    }
   ],
   "source": [
    "#En los resultados de la regresión se observa que la variable \"FullBath\" es estadísticamente significativa para explicar la variable dependiente (SalePrice - el precio de venta de la propiedad). Esto lo sabemos porque la hipótesis nula de la prueba \"t\" es que la variable explicativa (FullBath) es igual cero, pero en este caso se rechaza la hipótesis nula porque el p-value del estadístico \"t\" es menor a 0.05 y el valor del estádistico t en valor absoluto es relativamente grande (25.854).\n",
    "#Se realiza el gráfico de dispersión junto con la línea que se pronóstica en el modelo a partir de los variables encontrados de la constante y el coeficiente de la variable explicativa.\n",
    "df.plot('FullBath','SalePrice',kind='scatter')\n",
    "plt.plot(df['FullBath'],54390+80850*df['FullBath'], color=\"red\")"
   ]
  },
  {
   "cell_type": "markdown",
   "metadata": {},
   "source": [
    "# 9) Relación entre \"TotRmsAbvGrd\" y \"SalePrice\""
   ]
  },
  {
   "cell_type": "code",
   "execution_count": 111,
   "metadata": {},
   "outputs": [
    {
     "data": {
      "text/plain": [
       "<matplotlib.axes._subplots.AxesSubplot at 0x1fde91450a0>"
      ]
     },
     "execution_count": 111,
     "metadata": {},
     "output_type": "execute_result"
    },
    {
     "data": {
      "image/png": "[encoded data removed]",
      "text/plain": [
       "<Figure size 432x288 with 1 Axes>"
      ]
     },
     "metadata": {
      "needs_background": "light"
     },
     "output_type": "display_data"
    }
   ],
   "source": [
    "#La variable \"TotRmsAbvGrd\" hace referencia a la cantidad de cuertos totales que tiene la propiedad.\n",
    "sns.scatterplot(data=df, x=\"TotRmsAbvGrd\", y=\"SalePrice\")"
   ]
  },
  {
   "cell_type": "code",
   "execution_count": 112,
   "metadata": {},
   "outputs": [],
   "source": [
    "#En la gráfica se observa que mientras aumenta la cantidad de cuartos totales de la propiedad, más grande es el valor del precio de venta de la propiedad.\n",
    "#Se procede a realizar un regresión de mínimos cuadrados ordinarios para encontrar la relación lineal entre las dos variables.\n",
    "X=sm.add_constant(df['TotRmsAbvGrd'])\n",
    "Y=df.SalePrice"
   ]
  },
  {
   "cell_type": "code",
   "execution_count": 113,
   "metadata": {},
   "outputs": [
    {
     "name": "stdout",
     "output_type": "stream",
     "text": [
      "                            OLS Regression Results                            \n",
      "==============================================================================\n",
      "Dep. Variable:              SalePrice   R-squared:                       0.285\n",
      "Model:                            OLS   Adj. R-squared:                  0.284\n",
      "Method:                 Least Squares   F-statistic:                     580.8\n",
      "Date:                Wed, 27 Jan 2021   Prob (F-statistic):          2.77e-108\n",
      "Time:                        19:10:00   Log-Likelihood:                -18299.\n",
      "No. Observations:                1460   AIC:                         3.660e+04\n",
      "Df Residuals:                    1458   BIC:                         3.661e+04\n",
      "Df Model:                           1                                         \n",
      "Covariance Type:            nonrobust                                         \n",
      "================================================================================\n",
      "                   coef    std err          t      P>|t|      [0.025      0.975]\n",
      "--------------------------------------------------------------------------------\n",
      "const          1.09e+04   7271.180      1.499      0.134   -3366.619    2.52e+04\n",
      "TotRmsAbvGrd  2.609e+04   1082.458     24.099      0.000     2.4e+04    2.82e+04\n",
      "==============================================================================\n",
      "Omnibus:                      443.473   Durbin-Watson:                   1.966\n",
      "Prob(Omnibus):                  0.000   Jarque-Bera (JB):             2240.440\n",
      "Skew:                           1.334   Prob(JB):                         0.00\n",
      "Kurtosis:                       8.451   Cond. No.                         28.4\n",
      "==============================================================================\n",
      "\n",
      "Warnings:\n",
      "[1] Standard Errors assume that the covariance matrix of the errors is correctly specified.\n"
     ]
    }
   ],
   "source": [
    "model = sm.OLS(Y, X).fit()\n",
    "predictions = model.predict(X) \n",
    "print_model = model.summary()\n",
    "print(print_model)"
   ]
  },
  {
   "cell_type": "code",
   "execution_count": 114,
   "metadata": {},
   "outputs": [
    {
     "data": {
      "text/plain": [
       "[<matplotlib.lines.Line2D at 0x1fde8fb6a60>]"
      ]
     },
     "execution_count": 114,
     "metadata": {},
     "output_type": "execute_result"
    },
    {
     "data": {
      "image/png": "[encoded data removed]",
      "text/plain": [
       "<Figure size 432x288 with 1 Axes>"
      ]
     },
     "metadata": {
      "needs_background": "light"
     },
     "output_type": "display_data"
    }
   ],
   "source": [
    "#En los resultados de la regresión se observa que la variable \"TotRmsAbvGrd\" es estadísticamente significativa para explicar la variable dependiente (SalePrice - el precio de venta de la propiedad). Esto lo sabemos porque la hipótesis nula de la prueba \"t\" es que la variable explicativa (TotRmsAbvGrd) es igual cero, pero en este caso se rechaza la hipótesis nula porque el p-value del estadístico \"t\" es menor a 0.05 y el valor del estádistico t en valor absoluto es relativamente grande (24.099).\n",
    "#Se realiza el gráfico de dispersión junto con la línea que se pronóstica en el modelo a partir de los variables encontrados de la constante y el coeficiente de la variable explicativa.\n",
    "df.plot('TotRmsAbvGrd','SalePrice',kind='scatter')\n",
    "plt.plot(df['TotRmsAbvGrd'],10900+26090*df['TotRmsAbvGrd'], color=\"red\")"
   ]
  },
  {
   "cell_type": "markdown",
   "metadata": {},
   "source": [
    "# 10) Modelo de regresión múltiple con todas las variables para explicar \"SalePrice\""
   ]
  },
  {
   "cell_type": "code",
   "execution_count": 115,
   "metadata": {},
   "outputs": [],
   "source": [
    "#Se procede a realizar un regresión múltiple con las 9 variables que quedaron estadísticamente significativas en lo individual, para ver si en el modelo que incluye a todas siguen siendo estadísticamente significativas.\n",
    "X=sm.add_constant(df[['OverallQual','YearBuilt','YearRemodAdd','ExterQual','TotalBsmtSF','1stFlrSF','GrLivArea','FullBath','TotRmsAbvGrd']])\n",
    "Y=df.SalePrice"
   ]
  },
  {
   "cell_type": "code",
   "execution_count": 116,
   "metadata": {},
   "outputs": [
    {
     "name": "stdout",
     "output_type": "stream",
     "text": [
      "                            OLS Regression Results                            \n",
      "==============================================================================\n",
      "Dep. Variable:              SalePrice   R-squared:                       0.772\n",
      "Model:                            OLS   Adj. R-squared:                  0.771\n",
      "Method:                 Least Squares   F-statistic:                     545.8\n",
      "Date:                Wed, 27 Jan 2021   Prob (F-statistic):               0.00\n",
      "Time:                        19:10:02   Log-Likelihood:                -17465.\n",
      "No. Observations:                1460   AIC:                         3.495e+04\n",
      "Df Residuals:                    1450   BIC:                         3.500e+04\n",
      "Df Model:                           9                                         \n",
      "Covariance Type:            nonrobust                                         \n",
      "================================================================================\n",
      "                   coef    std err          t      P>|t|      [0.025      0.975]\n",
      "--------------------------------------------------------------------------------\n",
      "const        -1.016e+06   1.38e+05     -7.362      0.000   -1.29e+06   -7.45e+05\n",
      "OverallQual    1.79e+04   1271.139     14.084      0.000    1.54e+04    2.04e+04\n",
      "YearBuilt      312.5401     49.330      6.336      0.000     215.774     409.307\n",
      "YearRemodAdd   196.5806     65.542      2.999      0.003      68.014     325.147\n",
      "ExterQual    -1.961e+04   2764.175     -7.095      0.000    -2.5e+04   -1.42e+04\n",
      "TotalBsmtSF     17.0850      4.309      3.965      0.000       8.632      25.538\n",
      "1stFlrSF        19.4081      4.905      3.957      0.000       9.787      29.029\n",
      "GrLivArea       53.1122      4.213     12.606      0.000      44.848      61.377\n",
      "FullBath     -7327.6014   2679.857     -2.734      0.006   -1.26e+04   -2070.789\n",
      "TotRmsAbvGrd   472.8807   1118.964      0.423      0.673   -1722.080    2667.842\n",
      "==============================================================================\n",
      "Omnibus:                      575.316   Durbin-Watson:                   1.991\n",
      "Prob(Omnibus):                  0.000   Jarque-Bera (JB):            71193.946\n",
      "Skew:                          -0.795   Prob(JB):                         0.00\n",
      "Kurtosis:                      37.173   Cond. No.                     4.95e+05\n",
      "==============================================================================\n",
      "\n",
      "Warnings:\n",
      "[1] Standard Errors assume that the covariance matrix of the errors is correctly specified.\n",
      "[2] The condition number is large, 4.95e+05. This might indicate that there are\n",
      "strong multicollinearity or other numerical problems.\n"
     ]
    }
   ],
   "source": [
    "model = sm.OLS(Y, X).fit()\n",
    "predictions = model.predict(X) \n",
    "print_model = model.summary()\n",
    "print(print_model)"
   ]
  },
  {
   "cell_type": "code",
   "execution_count": 117,
   "metadata": {},
   "outputs": [],
   "source": [
    "#Se observa que todas las variables quedan estadísticamente significativas, con excepción de \"TotRmsAbvGrd\" que hace referencia al total de cuartos con los que cuenta la propiedad. Esto porque el estádistico \"t\" de esta variable queda con un valor pequeño (0.423) y el p-value es mayor a 0.05. Por lo tanto no se rechaza la hipótesis nula que el coeficiente de esta variable (TotRmsAbvGrd) es igual a cero. "
   ]
  },
  {
   "cell_type": "markdown",
   "metadata": {},
   "source": [
    "# 11) Modelo de regresión múltiple quitando las variables que no fueron significativas en la regresión anterior para explicar \"SalePrice\""
   ]
  },
  {
   "cell_type": "code",
   "execution_count": 118,
   "metadata": {},
   "outputs": [],
   "source": [
    "##Se procede a realizar un regresión múltiple con las 8 variables que quedaron estadísticamente significativas de la regresión anterior, para ver si en el modelo que incluye a las 8 variables siguen siendo estadísticamente significativas.\n",
    "X=sm.add_constant(df[['OverallQual','YearBuilt','YearRemodAdd','ExterQual','TotalBsmtSF','1stFlrSF','GrLivArea','FullBath']])\n",
    "Y=df.SalePrice"
   ]
  },
  {
   "cell_type": "code",
   "execution_count": 119,
   "metadata": {},
   "outputs": [
    {
     "name": "stdout",
     "output_type": "stream",
     "text": [
      "                            OLS Regression Results                            \n",
      "==============================================================================\n",
      "Dep. Variable:              SalePrice   R-squared:                       0.772\n",
      "Model:                            OLS   Adj. R-squared:                  0.771\n",
      "Method:                 Least Squares   F-statistic:                     614.3\n",
      "Date:                Wed, 27 Jan 2021   Prob (F-statistic):               0.00\n",
      "Time:                        19:10:05   Log-Likelihood:                -17465.\n",
      "No. Observations:                1460   AIC:                         3.495e+04\n",
      "Df Residuals:                    1451   BIC:                         3.499e+04\n",
      "Df Model:                           8                                         \n",
      "Covariance Type:            nonrobust                                         \n",
      "================================================================================\n",
      "                   coef    std err          t      P>|t|      [0.025      0.975]\n",
      "--------------------------------------------------------------------------------\n",
      "const        -1.011e+06   1.37e+05     -7.355      0.000   -1.28e+06   -7.41e+05\n",
      "OverallQual   1.788e+04   1269.846     14.083      0.000    1.54e+04    2.04e+04\n",
      "YearBuilt      311.1420     49.205      6.323      0.000     214.621     407.663\n",
      "YearRemodAdd   196.1168     65.514      2.994      0.003      67.605     324.629\n",
      "ExterQual    -1.959e+04   2762.854     -7.090      0.000    -2.5e+04   -1.42e+04\n",
      "TotalBsmtSF     16.9464      4.296      3.945      0.000       8.520      25.373\n",
      "1stFlrSF        19.4140      4.903      3.960      0.000       9.796      29.032\n",
      "GrLivArea       54.3275      3.078     17.648      0.000      48.289      60.366\n",
      "FullBath     -7166.1364   2651.731     -2.702      0.007   -1.24e+04   -1964.501\n",
      "==============================================================================\n",
      "Omnibus:                      583.593   Durbin-Watson:                   1.992\n",
      "Prob(Omnibus):                  0.000   Jarque-Bera (JB):            72492.750\n",
      "Skew:                          -0.822   Prob(JB):                         0.00\n",
      "Kurtosis:                      37.481   Cond. No.                     4.94e+05\n",
      "==============================================================================\n",
      "\n",
      "Warnings:\n",
      "[1] Standard Errors assume that the covariance matrix of the errors is correctly specified.\n",
      "[2] The condition number is large, 4.94e+05. This might indicate that there are\n",
      "strong multicollinearity or other numerical problems.\n"
     ]
    }
   ],
   "source": [
    "model = sm.OLS(Y, X).fit()\n",
    "predictions = model.predict(X) \n",
    "print_model = model.summary()\n",
    "print(print_model)"
   ]
  },
  {
   "cell_type": "code",
   "execution_count": 120,
   "metadata": {},
   "outputs": [],
   "source": [
    "#Se observa que todas las variables incluídas en este último modelo son estadísticamente significativas. Esto porque todos los valores del estádistico \"t\" de las 8 variables son relativamente grandes y sus p-values son menor a 0.05. La R^2 ajustada tiene un valor relativamente alto (0.771) lo que indica que el modelo armado es bueno para explicar a la variable dependiente (SalePrice -  el precio de venta de la propiedad). El estadístico \"F\" es relativamente alto (614.3) lo que indica que por lo menos una variable de las incluídas en el modelo explica a la variable dependiente, además su p-value es menor a 0.05 por lo que se rechaza la hipótesis nula de la prueba \"F\" de que todas las variables explicativas son igual a cero. Si comparamos el valor \"BIC\" de este modelo (3.499e+04) con respecto el volor \"BIC\" del modelo construido en el numeral (10) con 9 variables explicativas ( 3.500e+04) se observa que es menor, lo que indica que este último modelo es mejor para explicar la variable dependiente. \n",
    "#Se pasó de tener un dataframe original con 81 variables a tener un dataframe final con 10 variables. De estas 10 variables, una es la variable explicada o dependiente (SalePrice - Precio de venta de la propiedad) y las otras 9 son las variables explicativas o independientes. En el modelo de regresión múltiple, el mejor modelo fue el que cuenta sólo con 8 variables explicativas para determinar el precio de venta de las propiedades. "
   ]
  }
 ],
 "metadata": {
  "kernelspec": {
   "display_name": "Python 3",
   "language": "python",
   "name": "python3"
  },
  "language_info": {
   "codemirror_mode": {
    "name": "ipython",
    "version": 3
   },
   "file_extension": ".py",
   "mimetype": "text/x-python",
   "name": "python",
   "nbconvert_exporter": "python",
   "pygments_lexer": "ipython3",
   "version": "3.8.3"
  }
 },
 "nbformat": 4,
 "nbformat_minor": 4
}
